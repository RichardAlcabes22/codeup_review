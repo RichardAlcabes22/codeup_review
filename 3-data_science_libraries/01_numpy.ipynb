{
 "cells": [
  {
   "cell_type": "code",
   "execution_count": 2,
   "id": "1f9ac04e",
   "metadata": {},
   "outputs": [],
   "source": [
    "import pandas as pd\n",
    "import numpy as np\n",
    "import itertools as it\n",
    "import json\n",
    "import re"
   ]
  },
  {
   "cell_type": "markdown",
   "id": "e5fa0a9b",
   "metadata": {},
   "source": [
    "### Example Code:"
   ]
  },
  {
   "cell_type": "code",
   "execution_count": 3,
   "id": "f150a2c6",
   "metadata": {},
   "outputs": [],
   "source": [
    "a = np.array([4, 10, 12, 23, -2, -1, 0, 0, 0, -6, 3, -7])"
   ]
  },
  {
   "cell_type": "markdown",
   "id": "605ef1a4",
   "metadata": {},
   "source": [
    "#### How many negative numbers exist in the array?"
   ]
  },
  {
   "cell_type": "code",
   "execution_count": 4,
   "id": "54127c40",
   "metadata": {},
   "outputs": [
    {
     "data": {
      "text/plain": [
       "12"
      ]
     },
     "execution_count": 4,
     "metadata": {},
     "output_type": "execute_result"
    }
   ],
   "source": [
    "len(a)"
   ]
  },
  {
   "cell_type": "code",
   "execution_count": 5,
   "id": "93498188",
   "metadata": {},
   "outputs": [
    {
     "data": {
      "text/plain": [
       "array([-2, -1, -6, -7])"
      ]
     },
     "execution_count": 5,
     "metadata": {},
     "output_type": "execute_result"
    }
   ],
   "source": [
    "a[a < 0]"
   ]
  },
  {
   "cell_type": "code",
   "execution_count": 12,
   "id": "c6c7d7b3",
   "metadata": {},
   "outputs": [],
   "source": [
    "a_neg = a[a < 0]"
   ]
  },
  {
   "cell_type": "code",
   "execution_count": 13,
   "id": "ede6ca84",
   "metadata": {},
   "outputs": [
    {
     "data": {
      "text/plain": [
       "4"
      ]
     },
     "execution_count": 13,
     "metadata": {},
     "output_type": "execute_result"
    }
   ],
   "source": [
    "len(a_neg)"
   ]
  },
  {
   "cell_type": "markdown",
   "id": "23a3b2e7",
   "metadata": {},
   "source": [
    "#### How many positive numbers exist in the array?"
   ]
  },
  {
   "cell_type": "code",
   "execution_count": 4,
   "id": "84d40f5c",
   "metadata": {},
   "outputs": [
    {
     "data": {
      "text/plain": [
       "12"
      ]
     },
     "execution_count": 4,
     "metadata": {},
     "output_type": "execute_result"
    }
   ],
   "source": [
    "len(a)"
   ]
  },
  {
   "cell_type": "code",
   "execution_count": 8,
   "id": "4a29a074",
   "metadata": {},
   "outputs": [
    {
     "data": {
      "text/plain": [
       "array([ 4, 10, 12, 23,  3])"
      ]
     },
     "execution_count": 8,
     "metadata": {},
     "output_type": "execute_result"
    }
   ],
   "source": [
    "a[a > 0]"
   ]
  },
  {
   "cell_type": "code",
   "execution_count": 10,
   "id": "14ed6f88",
   "metadata": {},
   "outputs": [],
   "source": [
    "a_pos = a[a > 0]"
   ]
  },
  {
   "cell_type": "code",
   "execution_count": 11,
   "id": "08e989ac",
   "metadata": {},
   "outputs": [
    {
     "data": {
      "text/plain": [
       "5"
      ]
     },
     "execution_count": 11,
     "metadata": {},
     "output_type": "execute_result"
    }
   ],
   "source": [
    "len(a_pos)"
   ]
  },
  {
   "cell_type": "markdown",
   "id": "89c005f6",
   "metadata": {},
   "source": [
    "#### How many EVEN positive numbers exist in the array?"
   ]
  },
  {
   "cell_type": "code",
   "execution_count": 4,
   "id": "8ba5c6be",
   "metadata": {},
   "outputs": [
    {
     "data": {
      "text/plain": [
       "12"
      ]
     },
     "execution_count": 4,
     "metadata": {},
     "output_type": "execute_result"
    }
   ],
   "source": [
    "len(a)"
   ]
  },
  {
   "cell_type": "code",
   "execution_count": 14,
   "id": "da628754",
   "metadata": {},
   "outputs": [
    {
     "data": {
      "text/plain": [
       "array([ 4, 10, 12])"
      ]
     },
     "execution_count": 14,
     "metadata": {},
     "output_type": "execute_result"
    }
   ],
   "source": [
    "a[(a > 0) & (a % 2 == 0)]"
   ]
  },
  {
   "cell_type": "code",
   "execution_count": 15,
   "id": "62ffbaf4",
   "metadata": {},
   "outputs": [],
   "source": [
    "a_even_pos = a[(a > 0) & (a % 2 == 0)]"
   ]
  },
  {
   "cell_type": "code",
   "execution_count": 16,
   "id": "a7bf2fd2",
   "metadata": {},
   "outputs": [
    {
     "data": {
      "text/plain": [
       "3"
      ]
     },
     "execution_count": 16,
     "metadata": {},
     "output_type": "execute_result"
    }
   ],
   "source": [
    "len(a_even_pos)"
   ]
  },
  {
   "cell_type": "markdown",
   "id": "edebdd82",
   "metadata": {},
   "source": [
    "#### If we add 3 to each data point, how many POSITIVE numbers would exist in the array?"
   ]
  },
  {
   "cell_type": "code",
   "execution_count": 17,
   "id": "07284fff",
   "metadata": {},
   "outputs": [
    {
     "data": {
      "text/plain": [
       "array([ 7, 13, 15, 26,  1,  2,  3,  3,  3, -3,  6, -4])"
      ]
     },
     "execution_count": 17,
     "metadata": {},
     "output_type": "execute_result"
    }
   ],
   "source": [
    "a + 3"
   ]
  },
  {
   "cell_type": "code",
   "execution_count": 18,
   "id": "77c3ec95",
   "metadata": {},
   "outputs": [],
   "source": [
    "a_plus_3 = a + 3"
   ]
  },
  {
   "cell_type": "code",
   "execution_count": 19,
   "id": "a5458c48",
   "metadata": {},
   "outputs": [
    {
     "data": {
      "text/plain": [
       "array([ 7, 13, 15, 26,  1,  2,  3,  3,  3,  6])"
      ]
     },
     "execution_count": 19,
     "metadata": {},
     "output_type": "execute_result"
    }
   ],
   "source": [
    "a_plus_3[a_plus_3 > 0]"
   ]
  },
  {
   "cell_type": "code",
   "execution_count": 20,
   "id": "877c40e3",
   "metadata": {},
   "outputs": [],
   "source": [
    "a_plus_3_pos = a_plus_3[a_plus_3 > 0]"
   ]
  },
  {
   "cell_type": "code",
   "execution_count": 21,
   "id": "b2ecf5a4",
   "metadata": {},
   "outputs": [
    {
     "data": {
      "text/plain": [
       "10"
      ]
     },
     "execution_count": 21,
     "metadata": {},
     "output_type": "execute_result"
    }
   ],
   "source": [
    "len(a_plus_3_pos)"
   ]
  },
  {
   "cell_type": "markdown",
   "id": "c9b3364c",
   "metadata": {},
   "source": [
    "#### If we squared each number, what would the mean and standard dev of the new array be?"
   ]
  },
  {
   "cell_type": "code",
   "execution_count": 23,
   "id": "08169146",
   "metadata": {},
   "outputs": [
    {
     "data": {
      "text/plain": [
       "array([ 16, 100, 144, 529,   4,   1,   0,   0,   0,  36,   9,  49])"
      ]
     },
     "execution_count": 23,
     "metadata": {},
     "output_type": "execute_result"
    }
   ],
   "source": [
    "a**2"
   ]
  },
  {
   "cell_type": "code",
   "execution_count": 24,
   "id": "df2d84dd",
   "metadata": {},
   "outputs": [],
   "source": [
    "a_sq = a**2"
   ]
  },
  {
   "cell_type": "code",
   "execution_count": 25,
   "id": "0b901189",
   "metadata": {},
   "outputs": [
    {
     "data": {
      "text/plain": [
       "74.0"
      ]
     },
     "execution_count": 25,
     "metadata": {},
     "output_type": "execute_result"
    }
   ],
   "source": [
    "a_sq.mean()"
   ]
  },
  {
   "cell_type": "code",
   "execution_count": 26,
   "id": "ced77973",
   "metadata": {},
   "outputs": [
    {
     "data": {
      "text/plain": [
       "144.0243035046516"
      ]
     },
     "execution_count": 26,
     "metadata": {},
     "output_type": "execute_result"
    }
   ],
   "source": [
    "a_sq.std()"
   ]
  },
  {
   "cell_type": "markdown",
   "id": "13b55c51",
   "metadata": {},
   "source": [
    "#### Center the data points on $\\mu$ == 0"
   ]
  },
  {
   "cell_type": "code",
   "execution_count": 27,
   "id": "57625278",
   "metadata": {},
   "outputs": [
    {
     "data": {
      "text/plain": [
       "3.0"
      ]
     },
     "execution_count": 27,
     "metadata": {},
     "output_type": "execute_result"
    }
   ],
   "source": [
    "a.mean()"
   ]
  },
  {
   "cell_type": "code",
   "execution_count": 28,
   "id": "676bc963",
   "metadata": {},
   "outputs": [
    {
     "data": {
      "text/plain": [
       "array([  1,   7,   9,  20,  -5,  -4,  -3,  -3,  -3,  -9,   0, -10])"
      ]
     },
     "execution_count": 28,
     "metadata": {},
     "output_type": "execute_result"
    }
   ],
   "source": [
    "a - 3"
   ]
  },
  {
   "cell_type": "code",
   "execution_count": 31,
   "id": "b828ed8a",
   "metadata": {},
   "outputs": [],
   "source": [
    "a_centered = a -3"
   ]
  },
  {
   "cell_type": "code",
   "execution_count": 32,
   "id": "726e5a79",
   "metadata": {},
   "outputs": [
    {
     "data": {
      "text/plain": [
       "0.0"
      ]
     },
     "execution_count": 32,
     "metadata": {},
     "output_type": "execute_result"
    }
   ],
   "source": [
    "a_centered.mean()"
   ]
  },
  {
   "cell_type": "markdown",
   "id": "828f6c0a",
   "metadata": {},
   "source": [
    "#### Calculate a $Z$-Score for each datapoint\n",
    "\n",
    "## $$Z = \\frac{x - \\mu}{\\sigma}$$"
   ]
  },
  {
   "cell_type": "code",
   "execution_count": 33,
   "id": "315d4ff4",
   "metadata": {},
   "outputs": [
    {
     "data": {
      "text/plain": [
       "array([ 4, 10, 12, 23, -2, -1,  0,  0,  0, -6,  3, -7])"
      ]
     },
     "execution_count": 33,
     "metadata": {},
     "output_type": "execute_result"
    }
   ],
   "source": [
    "a"
   ]
  },
  {
   "cell_type": "code",
   "execution_count": 34,
   "id": "647efad6",
   "metadata": {},
   "outputs": [
    {
     "data": {
      "text/plain": [
       "(3.0, 8.06225774829855)"
      ]
     },
     "execution_count": 34,
     "metadata": {},
     "output_type": "execute_result"
    }
   ],
   "source": [
    "a.mean(),a.std()"
   ]
  },
  {
   "cell_type": "code",
   "execution_count": 35,
   "id": "77920db3",
   "metadata": {},
   "outputs": [
    {
     "data": {
      "text/plain": [
       "array([ 0.12403473,  0.86824314,  1.11631261,  2.48069469, -0.62017367,\n",
       "       -0.49613894, -0.3721042 , -0.3721042 , -0.3721042 , -1.11631261,\n",
       "        0.        , -1.24034735])"
      ]
     },
     "execution_count": 35,
     "metadata": {},
     "output_type": "execute_result"
    }
   ],
   "source": [
    "(a - a.mean()) / a.std()"
   ]
  },
  {
   "cell_type": "markdown",
   "id": "ff5cff91",
   "metadata": {},
   "source": [
    "#### MORE NUMPY PRACTICE"
   ]
  },
  {
   "cell_type": "code",
   "execution_count": 36,
   "id": "db38cac0",
   "metadata": {},
   "outputs": [],
   "source": [
    "# Setup 1\n",
    "a = [1, 2, 3, 4, 5, 6, 7, 8, 9, 10]"
   ]
  },
  {
   "cell_type": "code",
   "execution_count": null,
   "id": "d72215b0",
   "metadata": {},
   "outputs": [],
   "source": [
    "# Use python's built in functionality/operators to determine the following:\n",
    "# Exercise 1 - Make a variable called sum_of_a to hold the sum of all the numbers in above list\n",
    "# Exercise 2 - Make a variable named min_of_a to hold the minimum of all the numbers in the above list\n",
    "# Exercise 3 - Make a variable named max_of_a to hold the max number of all the numbers in the above list\n",
    "# Exercise 4 - Make a variable named mean_of_a to hold the average of all the numbers in the above list\n",
    "# Exercise 5 - Make a variable named product_of_a to hold the product of multiplying all the numbers in the above list together\n",
    "# Exercise 6 - Make a variable named squares_of_a. It should hold each number in a squared like [1, 4, 9, 16, 25...]\n",
    "# Exercise 7 - Make a variable named odds_in_a. It should hold only the odd numbers\n",
    "# Exercise 8 - Make a variable named evens_in_a. It should hold only the evens."
   ]
  },
  {
   "cell_type": "code",
   "execution_count": 38,
   "id": "f93b658d",
   "metadata": {},
   "outputs": [
    {
     "data": {
      "text/plain": [
       "55"
      ]
     },
     "execution_count": 38,
     "metadata": {},
     "output_type": "execute_result"
    }
   ],
   "source": [
    "# Exercise 1 - Make a variable called sum_of_a to hold the sum of all the numbers in above list\n",
    "sum_of_a = 0\n",
    "for i in a:\n",
    "    sum_of_a += i\n",
    "sum_of_a"
   ]
  },
  {
   "cell_type": "code",
   "execution_count": 42,
   "id": "f7af8bcc",
   "metadata": {},
   "outputs": [
    {
     "data": {
      "text/plain": [
       "1"
      ]
     },
     "execution_count": 42,
     "metadata": {},
     "output_type": "execute_result"
    }
   ],
   "source": [
    "# Exercise 2 - Make a variable named min_of_a to hold the minimum of all the numbers in the above list\n",
    "min_of_a = 11\n",
    "for i in a:\n",
    "    if i < min_of_a:\n",
    "        min_of_a = i\n",
    "min_of_a"
   ]
  },
  {
   "cell_type": "code",
   "execution_count": 43,
   "id": "e2e0dd70",
   "metadata": {},
   "outputs": [
    {
     "data": {
      "text/plain": [
       "10"
      ]
     },
     "execution_count": 43,
     "metadata": {},
     "output_type": "execute_result"
    }
   ],
   "source": [
    "# Exercise 3 - Make a variable named max_of_a to hold the max number of all the numbers in the above list\n",
    "max_of_a = 0\n",
    "for i in a:\n",
    "    if i > max_of_a:\n",
    "        max_of_a = i\n",
    "max_of_a"
   ]
  },
  {
   "cell_type": "code",
   "execution_count": 45,
   "id": "da4251ff",
   "metadata": {},
   "outputs": [
    {
     "data": {
      "text/plain": [
       "5.5"
      ]
     },
     "execution_count": 45,
     "metadata": {},
     "output_type": "execute_result"
    }
   ],
   "source": [
    "# Exercise 4 - Make a variable named mean_of_a to hold the average of all the numbers in the above list\n",
    "mean_of_a = sum_of_a / len(a)\n",
    "mean_of_a"
   ]
  },
  {
   "cell_type": "code",
   "execution_count": 46,
   "id": "e68d78fb",
   "metadata": {},
   "outputs": [
    {
     "data": {
      "text/plain": [
       "3628800"
      ]
     },
     "execution_count": 46,
     "metadata": {},
     "output_type": "execute_result"
    }
   ],
   "source": [
    "'''Exercise 5 - Make a variable named product_of_a to hold the product of multiplying all the numbers\n",
    "in the above list together'''\n",
    "\n",
    "product_of_a = 1\n",
    "for i in a:\n",
    "    product_of_a *= i\n",
    "product_of_a"
   ]
  },
  {
   "cell_type": "code",
   "execution_count": 47,
   "id": "0fa08fce",
   "metadata": {},
   "outputs": [
    {
     "data": {
      "text/plain": [
       "[1, 4, 9, 16, 25, 36, 49, 64, 81, 100]"
      ]
     },
     "execution_count": 47,
     "metadata": {},
     "output_type": "execute_result"
    }
   ],
   "source": [
    "'''Exercise 6 - Make a variable named squares_of_a. It should hold each number in a squared \n",
    "like [1, 4, 9, 16, 25...]'''\n",
    "\n",
    "squares_of_a = []\n",
    "for i in a:\n",
    "    result = i**2\n",
    "    squares_of_a.append(result)\n",
    "squares_of_a"
   ]
  },
  {
   "cell_type": "code",
   "execution_count": null,
   "id": "d21d1d9a",
   "metadata": {},
   "outputs": [],
   "source": [
    "# Exercise 7 - Make a variable named odds_in_a. It should hold only the odd numbers\n",
    "\n",
    "odds_in_a = []\n",
    "for i in a"
   ]
  },
  {
   "cell_type": "code",
   "execution_count": null,
   "id": "ce865719",
   "metadata": {},
   "outputs": [],
   "source": []
  },
  {
   "cell_type": "code",
   "execution_count": null,
   "id": "dccd3bbf",
   "metadata": {},
   "outputs": [],
   "source": []
  },
  {
   "cell_type": "code",
   "execution_count": null,
   "id": "607860ef",
   "metadata": {},
   "outputs": [],
   "source": []
  },
  {
   "cell_type": "code",
   "execution_count": null,
   "id": "6b99d3ec",
   "metadata": {},
   "outputs": [],
   "source": []
  },
  {
   "cell_type": "code",
   "execution_count": null,
   "id": "dcd2b4b6",
   "metadata": {},
   "outputs": [],
   "source": []
  }
 ],
 "metadata": {
  "kernelspec": {
   "display_name": "Python 3 (ipykernel)",
   "language": "python",
   "name": "python3"
  },
  "language_info": {
   "codemirror_mode": {
    "name": "ipython",
    "version": 3
   },
   "file_extension": ".py",
   "mimetype": "text/x-python",
   "name": "python",
   "nbconvert_exporter": "python",
   "pygments_lexer": "ipython3",
   "version": "3.11.4"
  }
 },
 "nbformat": 4,
 "nbformat_minor": 5
}
