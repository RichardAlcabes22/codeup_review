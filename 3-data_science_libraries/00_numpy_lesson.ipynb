{
 "cells": [
  {
   "cell_type": "code",
   "execution_count": 1,
   "id": "04fdaa21",
   "metadata": {},
   "outputs": [],
   "source": [
    "import numpy as np"
   ]
  },
  {
   "cell_type": "markdown",
   "id": "cbec69d1",
   "metadata": {},
   "source": []
  },
  {
   "cell_type": "markdown",
   "id": "003509f5",
   "metadata": {},
   "source": [
    "# Numpy\n",
    "\n",
    "Numpy is a library for representing and working with large and multi-dimensional arrays. Most other libraries in the data-science ecosystem depend on numpy, making it one of the fundamental data science libraries.\n",
    "\n",
    "Numpy provides a number of useful tools for scientific programming, and in this lesson, we'll take a look at some of the most common.\n",
    "\n",
    "Convention is to import the `numpy` module as `np`.\n",
    "\n",
    "`import numpy as np`\n",
    "\n",
    "## Indexing\n",
    "\n",
    "Numpy provides an array type that goes above and beyond what Python's built-in lists can do.\n",
    "\n",
    "We can create a numpy array by passing a list to the `np.array` function:"
   ]
  },
  {
   "cell_type": "code",
   "execution_count": 2,
   "id": "9159304d",
   "metadata": {},
   "outputs": [
    {
     "data": {
      "text/plain": [
       "array([1, 2, 3])"
      ]
     },
     "execution_count": 2,
     "metadata": {},
     "output_type": "execute_result"
    }
   ],
   "source": [
    "a = np.array([1, 2, 3])\n",
    "a"
   ]
  },
  {
   "cell_type": "code",
   "execution_count": 3,
   "id": "320225d7",
   "metadata": {},
   "outputs": [
    {
     "data": {
      "text/plain": [
       "array([[1, 2, 3],\n",
       "       [4, 5, 6],\n",
       "       [7, 8, 9]])"
      ]
     },
     "execution_count": 3,
     "metadata": {},
     "output_type": "execute_result"
    }
   ],
   "source": [
    "matrix = np.array([[1, 2, 3],\n",
    "                   [4, 5, 6],\n",
    "                   [7, 8, 9]])\n",
    "matrix"
   ]
  },
  {
   "cell_type": "markdown",
   "id": "9aa25691",
   "metadata": {},
   "source": [
    "Referencing elements in numpy arrays at it's most basic is the same as referencing elements in Python lists.\n",
    "\n",
    "`a[0]`\n",
    "\n",
    "1"
   ]
  },
  {
   "cell_type": "code",
   "execution_count": 4,
   "id": "992bc288",
   "metadata": {},
   "outputs": [
    {
     "name": "stdout",
     "output_type": "stream",
     "text": [
      "a    == [1 2 3]\n",
      "a[0] == 1\n",
      "a[1] == 2\n",
      "a[2] == 3\n"
     ]
    }
   ],
   "source": [
    "print('a    == {}'.format(a))\n",
    "print('a[0] == {}'.format(a[0]))\n",
    "print('a[1] == {}'.format(a[1]))\n",
    "print('a[2] == {}'.format(a[2]))"
   ]
  },
  {
   "cell_type": "markdown",
   "id": "dfea83c9",
   "metadata": {},
   "source": [
    "However, multidimensional numpy arrays are easier to index into. To obtain the element at the second column in the second row, we would write:\n",
    "\n",
    "`matrix[1, 1]`\n",
    "\n",
    "5\n",
    "\n",
    "To get the first 2 elements of the last 2 rows:\n",
    "\n",
    "`matrix[1:, :2]`\n",
    "\n",
    "array([[4, 5],\n",
    "       [7, 8]])\n",
    "\n",
    "Arrays can also be indexed with a boolean sequence used to indicate which values should be included in the resulting array.\n",
    "\n",
    "should_include_elements = [True, False, True]\n",
    "a[should_include_elements]\n",
    "\n",
    "array([1, 3])\n",
    "\n",
    "Note that the boolean sequence must the the same length as the array being indexed.\n",
    "\n",
    "## Vectorized Operations\n",
    "\n",
    "Another useful feature of numpy arrays is vectorized operations.\n",
    "\n",
    "If we wanted to add 1 to every element in a list, without numpy, we can't simply add 1 to the list, as that will result in a `TypeError`.\n",
    "\n"
   ]
  },
  {
   "cell_type": "code",
   "execution_count": 5,
   "id": "0de1aac5",
   "metadata": {},
   "outputs": [
    {
     "name": "stdout",
     "output_type": "stream",
     "text": [
      "An Error Occured!\n",
      "TypeError: can only concatenate list (not \"int\") to list\n"
     ]
    }
   ],
   "source": [
    "original_array = [1, 2, 3, 4, 5]\n",
    "try:\n",
    "    original_array + 1\n",
    "except TypeError as e:\n",
    "    print('An Error Occured!')\n",
    "    print(f'TypeError: {e}')"
   ]
  },
  {
   "cell_type": "markdown",
   "id": "e22468a2",
   "metadata": {},
   "source": [
    "Instead, we might write a for loop or a list comprehension:"
   ]
  },
  {
   "cell_type": "code",
   "execution_count": 6,
   "id": "9f691140",
   "metadata": {},
   "outputs": [
    {
     "name": "stdout",
     "output_type": "stream",
     "text": [
      "[2, 3, 4, 5, 6]\n"
     ]
    }
   ],
   "source": [
    "original_array = [1, 2, 3, 4, 5]\n",
    "array_with_one_added = []\n",
    "for n in original_array:\n",
    "    array_with_one_added.append(n + 1)\n",
    "print(array_with_one_added)"
   ]
  },
  {
   "cell_type": "code",
   "execution_count": 7,
   "id": "7a38f4be",
   "metadata": {},
   "outputs": [
    {
     "name": "stdout",
     "output_type": "stream",
     "text": [
      "[2, 3, 4, 5, 6]\n"
     ]
    }
   ],
   "source": [
    "original_array = [1, 2, 3, 4, 5]\n",
    "array_with_one_added = [n + 1 for n in original_array]\n",
    "print(array_with_one_added)"
   ]
  },
  {
   "cell_type": "markdown",
   "id": "a5f7ee8a",
   "metadata": {},
   "source": [
    "Vectorizing operations means that operations are automatically applied to every element in a vector, which in our case will be a numpy array. So if we are working with a numpy array, we can simply add 1:"
   ]
  },
  {
   "cell_type": "code",
   "execution_count": 8,
   "id": "49cb514a",
   "metadata": {},
   "outputs": [
    {
     "data": {
      "text/plain": [
       "array([2, 3, 4, 5, 6])"
      ]
     },
     "execution_count": 8,
     "metadata": {},
     "output_type": "execute_result"
    }
   ],
   "source": [
    "original_array = np.array([1, 2, 3, 4, 5])\n",
    "original_array + 1"
   ]
  },
  {
   "cell_type": "markdown",
   "id": "07de0e12",
   "metadata": {},
   "source": [
    "This works the same way for the other basic arithmatic operators as well.\n"
   ]
  },
  {
   "cell_type": "code",
   "execution_count": 9,
   "id": "fc496bbe",
   "metadata": {},
   "outputs": [
    {
     "name": "stdout",
     "output_type": "stream",
     "text": [
      "my_array      == [-3  0  3 16]\n",
      "my_array - 5  == [-8 -5 -2 11]\n",
      "my_array * 4  == [-12   0  12  64]\n",
      "my_array / 2  == [-1.5  0.   1.5  8. ]\n",
      "my_array ** 2 == [  9   0   9 256]\n",
      "my_array % 2  == [1 0 1 0]\n"
     ]
    }
   ],
   "source": [
    "my_array = np.array([-3, 0, 3, 16])\n",
    "\n",
    "print('my_array      == {}'.format(my_array))\n",
    "print('my_array - 5  == {}'.format(my_array - 5))\n",
    "print('my_array * 4  == {}'.format(my_array * 4))\n",
    "print('my_array / 2  == {}'.format(my_array / 2))\n",
    "print('my_array ** 2 == {}'.format(my_array ** 2))\n",
    "print('my_array % 2  == {}'.format(my_array % 2))"
   ]
  },
  {
   "cell_type": "markdown",
   "id": "db4b93b3",
   "metadata": {},
   "source": [
    "Not only are the arithmatic operators vectorized, but the same applies to the comparison operators."
   ]
  },
  {
   "cell_type": "code",
   "execution_count": 10,
   "id": "f0f6d720",
   "metadata": {},
   "outputs": [
    {
     "name": "stdout",
     "output_type": "stream",
     "text": [
      "my_array       == [-3  0  3 16]\n",
      "my_array == -3 == [ True False False False]\n",
      "my_array >= 0  == [False  True  True  True]\n",
      "my_array < 10  == [ True  True  True False]\n"
     ]
    }
   ],
   "source": [
    "my_array = np.array([-3, 0, 3, 16])\n",
    "\n",
    "print('my_array       == {}'.format(my_array))\n",
    "print('my_array == -3 == {}'.format(my_array == -3))\n",
    "print('my_array >= 0  == {}'.format(my_array >= 0))\n",
    "print('my_array < 10  == {}'.format(my_array < 10))"
   ]
  },
  {
   "cell_type": "markdown",
   "id": "41834fe3",
   "metadata": {},
   "source": [
    "Knowing what we know about indexing numpy arrays, we can use the comparison operators to select a certain subset of an array.\n",
    "\n",
    "For example, we can get all the positive numbers in `my_array` like so:\n",
    "\n",
    "`my_array[my_array > 0]`\n",
    "\n",
    "array([ 3, 16])"
   ]
  },
  {
   "cell_type": "code",
   "execution_count": null,
   "id": "3baf01cd",
   "metadata": {},
   "outputs": [],
   "source": []
  },
  {
   "cell_type": "code",
   "execution_count": null,
   "id": "22b9fb80",
   "metadata": {},
   "outputs": [],
   "source": []
  },
  {
   "cell_type": "code",
   "execution_count": null,
   "id": "02d55e26",
   "metadata": {},
   "outputs": [],
   "source": []
  },
  {
   "cell_type": "code",
   "execution_count": null,
   "id": "621358e9",
   "metadata": {},
   "outputs": [],
   "source": []
  },
  {
   "cell_type": "code",
   "execution_count": null,
   "id": "07541687",
   "metadata": {},
   "outputs": [],
   "source": []
  }
 ],
 "metadata": {
  "kernelspec": {
   "display_name": "Python 3 (ipykernel)",
   "language": "python",
   "name": "python3"
  },
  "language_info": {
   "codemirror_mode": {
    "name": "ipython",
    "version": 3
   },
   "file_extension": ".py",
   "mimetype": "text/x-python",
   "name": "python",
   "nbconvert_exporter": "python",
   "pygments_lexer": "ipython3",
   "version": "3.11.4"
  }
 },
 "nbformat": 4,
 "nbformat_minor": 5
}
