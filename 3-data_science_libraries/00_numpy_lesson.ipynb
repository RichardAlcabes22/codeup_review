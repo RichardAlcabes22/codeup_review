{
 "cells": [
  {
   "cell_type": "code",
   "execution_count": 1,
   "id": "04fdaa21",
   "metadata": {},
   "outputs": [],
   "source": [
    "import numpy as np"
   ]
  },
  {
   "cell_type": "markdown",
   "id": "cbec69d1",
   "metadata": {},
   "source": []
  },
  {
   "cell_type": "markdown",
   "id": "003509f5",
   "metadata": {},
   "source": [
    "# Numpy\n",
    "\n",
    "Numpy is a library for representing and working with large and multi-dimensional arrays. Most other libraries in the data-science ecosystem depend on numpy, making it one of the fundamental data science libraries.\n",
    "\n",
    "Numpy provides a number of useful tools for scientific programming, and in this lesson, we'll take a look at some of the most common.\n",
    "\n",
    "Convention is to import the `numpy` module as `np`.\n",
    "\n",
    "`import numpy as np`\n",
    "\n",
    "## Indexing\n",
    "\n",
    "Numpy provides an array type that goes above and beyond what Python's built-in lists can do.\n",
    "\n",
    "We can create a numpy array by passing a list to the `np.array` function:"
   ]
  },
  {
   "cell_type": "code",
   "execution_count": 2,
   "id": "9159304d",
   "metadata": {},
   "outputs": [
    {
     "data": {
      "text/plain": [
       "array([1, 2, 3])"
      ]
     },
     "execution_count": 2,
     "metadata": {},
     "output_type": "execute_result"
    }
   ],
   "source": [
    "a = np.array([1, 2, 3])\n",
    "a"
   ]
  },
  {
   "cell_type": "code",
   "execution_count": 3,
   "id": "320225d7",
   "metadata": {},
   "outputs": [
    {
     "data": {
      "text/plain": [
       "array([[1, 2, 3],\n",
       "       [4, 5, 6],\n",
       "       [7, 8, 9]])"
      ]
     },
     "execution_count": 3,
     "metadata": {},
     "output_type": "execute_result"
    }
   ],
   "source": [
    "matrix = np.array([[1, 2, 3],\n",
    "                   [4, 5, 6],\n",
    "                   [7, 8, 9]])\n",
    "matrix"
   ]
  },
  {
   "cell_type": "markdown",
   "id": "9aa25691",
   "metadata": {},
   "source": [
    "Referencing elements in numpy arrays at it's most basic is the same as referencing elements in Python lists.\n",
    "\n",
    "`a[0]`\n",
    "\n",
    "1"
   ]
  },
  {
   "cell_type": "code",
   "execution_count": 4,
   "id": "992bc288",
   "metadata": {},
   "outputs": [
    {
     "name": "stdout",
     "output_type": "stream",
     "text": [
      "a    == [1 2 3]\n",
      "a[0] == 1\n",
      "a[1] == 2\n",
      "a[2] == 3\n"
     ]
    }
   ],
   "source": [
    "print('a    == {}'.format(a))\n",
    "print('a[0] == {}'.format(a[0]))\n",
    "print('a[1] == {}'.format(a[1]))\n",
    "print('a[2] == {}'.format(a[2]))"
   ]
  },
  {
   "cell_type": "markdown",
   "id": "dfea83c9",
   "metadata": {},
   "source": [
    "However, multidimensional numpy arrays are easier to index into. To obtain the element at the second column in the second row, we would write:\n",
    "\n",
    "`matrix[1, 1]`\n",
    "\n",
    "5\n",
    "\n",
    "To get the first 2 elements of the last 2 rows:\n",
    "\n",
    "`matrix[1:, :2]`\n",
    "\n",
    "array([[4, 5],\n",
    "       [7, 8]])\n",
    "\n",
    "Arrays can also be indexed with a boolean sequence used to indicate which values should be included in the resulting array.\n",
    "\n",
    "should_include_elements = [True, False, True]\n",
    "a[should_include_elements]\n",
    "\n",
    "array([1, 3])\n",
    "\n",
    "Note that the boolean sequence must the the same length as the array being indexed.\n",
    "\n",
    "## Vectorized Operations\n",
    "\n",
    "Another useful feature of numpy arrays is vectorized operations.\n",
    "\n",
    "If we wanted to add 1 to every element in a list, without numpy, we can't simply add 1 to the list, as that will result in a `TypeError`.\n",
    "\n"
   ]
  },
  {
   "cell_type": "code",
   "execution_count": 5,
   "id": "0de1aac5",
   "metadata": {},
   "outputs": [
    {
     "name": "stdout",
     "output_type": "stream",
     "text": [
      "An Error Occured!\n",
      "TypeError: can only concatenate list (not \"int\") to list\n"
     ]
    }
   ],
   "source": [
    "original_array = [1, 2, 3, 4, 5]\n",
    "try:\n",
    "    original_array + 1\n",
    "except TypeError as e:\n",
    "    print('An Error Occured!')\n",
    "    print(f'TypeError: {e}')"
   ]
  },
  {
   "cell_type": "markdown",
   "id": "e22468a2",
   "metadata": {},
   "source": [
    "Instead, we might write a for loop or a list comprehension:"
   ]
  },
  {
   "cell_type": "code",
   "execution_count": 6,
   "id": "9f691140",
   "metadata": {},
   "outputs": [
    {
     "name": "stdout",
     "output_type": "stream",
     "text": [
      "[2, 3, 4, 5, 6]\n"
     ]
    }
   ],
   "source": [
    "original_array = [1, 2, 3, 4, 5]\n",
    "array_with_one_added = []\n",
    "for n in original_array:\n",
    "    array_with_one_added.append(n + 1)\n",
    "print(array_with_one_added)"
   ]
  },
  {
   "cell_type": "code",
   "execution_count": 7,
   "id": "7a38f4be",
   "metadata": {},
   "outputs": [
    {
     "name": "stdout",
     "output_type": "stream",
     "text": [
      "[2, 3, 4, 5, 6]\n"
     ]
    }
   ],
   "source": [
    "original_array = [1, 2, 3, 4, 5]\n",
    "array_with_one_added = [n + 1 for n in original_array]\n",
    "print(array_with_one_added)"
   ]
  },
  {
   "cell_type": "markdown",
   "id": "a5f7ee8a",
   "metadata": {},
   "source": [
    "Vectorizing operations means that operations are automatically applied to every element in a vector, which in our case will be a numpy array. So if we are working with a numpy array, we can simply add 1:"
   ]
  },
  {
   "cell_type": "code",
   "execution_count": 8,
   "id": "49cb514a",
   "metadata": {},
   "outputs": [
    {
     "data": {
      "text/plain": [
       "array([2, 3, 4, 5, 6])"
      ]
     },
     "execution_count": 8,
     "metadata": {},
     "output_type": "execute_result"
    }
   ],
   "source": [
    "original_array = np.array([1, 2, 3, 4, 5])\n",
    "original_array + 1"
   ]
  },
  {
   "cell_type": "markdown",
   "id": "07de0e12",
   "metadata": {},
   "source": [
    "This works the same way for the other basic arithmatic operators as well.\n"
   ]
  },
  {
   "cell_type": "code",
   "execution_count": 9,
   "id": "fc496bbe",
   "metadata": {},
   "outputs": [
    {
     "name": "stdout",
     "output_type": "stream",
     "text": [
      "my_array      == [-3  0  3 16]\n",
      "my_array - 5  == [-8 -5 -2 11]\n",
      "my_array * 4  == [-12   0  12  64]\n",
      "my_array / 2  == [-1.5  0.   1.5  8. ]\n",
      "my_array ** 2 == [  9   0   9 256]\n",
      "my_array % 2  == [1 0 1 0]\n"
     ]
    }
   ],
   "source": [
    "my_array = np.array([-3, 0, 3, 16])\n",
    "\n",
    "print('my_array      == {}'.format(my_array))\n",
    "print('my_array - 5  == {}'.format(my_array - 5))\n",
    "print('my_array * 4  == {}'.format(my_array * 4))\n",
    "print('my_array / 2  == {}'.format(my_array / 2))\n",
    "print('my_array ** 2 == {}'.format(my_array ** 2))\n",
    "print('my_array % 2  == {}'.format(my_array % 2))"
   ]
  },
  {
   "cell_type": "markdown",
   "id": "db4b93b3",
   "metadata": {},
   "source": [
    "Not only are the arithmatic operators vectorized, but the same applies to the comparison operators."
   ]
  },
  {
   "cell_type": "code",
   "execution_count": 10,
   "id": "f0f6d720",
   "metadata": {},
   "outputs": [
    {
     "name": "stdout",
     "output_type": "stream",
     "text": [
      "my_array       == [-3  0  3 16]\n",
      "my_array == -3 == [ True False False False]\n",
      "my_array >= 0  == [False  True  True  True]\n",
      "my_array < 10  == [ True  True  True False]\n"
     ]
    }
   ],
   "source": [
    "my_array = np.array([-3, 0, 3, 16])\n",
    "\n",
    "print('my_array       == {}'.format(my_array))\n",
    "print('my_array == -3 == {}'.format(my_array == -3))\n",
    "print('my_array >= 0  == {}'.format(my_array >= 0))\n",
    "print('my_array < 10  == {}'.format(my_array < 10))"
   ]
  },
  {
   "cell_type": "markdown",
   "id": "41834fe3",
   "metadata": {},
   "source": [
    "Knowing what we know about indexing numpy arrays, we can use the comparison operators to select a certain subset of an array.\n",
    "\n",
    "For example, we can get all the positive numbers in `my_array` like so:\n",
    "\n",
    "`my_array[my_array > 0]`\n",
    "\n",
    "array([ 3, 16])"
   ]
  },
  {
   "cell_type": "markdown",
   "id": "002f3515",
   "metadata": {},
   "source": [
    "### In-Depth Example\n",
    "\n",
    "As another example, we could obtain all the even numbers like this:\n",
    "\n",
    "`my_array[my_array % 2 == 0]`"
   ]
  },
  {
   "cell_type": "markdown",
   "id": "7a6caa77",
   "metadata": {},
   "source": [
    "array([ 0, 16])"
   ]
  },
  {
   "cell_type": "markdown",
   "id": "8a780480",
   "metadata": {},
   "source": [
    "To better understand how this is all working let's go through the above example in a little more detail.\n",
    "\n",
    "The first expression that gets evaluated is this:\n",
    "\n",
    "`my_array % 2`"
   ]
  },
  {
   "cell_type": "markdown",
   "id": "aa21ad2d",
   "metadata": {},
   "source": [
    "array([1, 0, 1, 0])"
   ]
  },
  {
   "cell_type": "markdown",
   "id": "ef776715",
   "metadata": {},
   "source": [
    "Which results in an array of 1s and 0s. Then the array of 1s and 0s is compared to 0 with the `==` operator, producing an array of True or False values.\n",
    "\n",
    "`result = my_array % 2\n",
    "result == 0`"
   ]
  },
  {
   "cell_type": "markdown",
   "id": "7fb6baab",
   "metadata": {},
   "source": [
    "array([False,  True, False,  True])"
   ]
  },
  {
   "cell_type": "markdown",
   "id": "2606e2f6",
   "metadata": {},
   "source": [
    "Lastly, we use this array of boolean values to index into the original array, giving us only the values that are evenly divisible by 2."
   ]
  },
  {
   "cell_type": "markdown",
   "id": "b9bd43c2",
   "metadata": {},
   "source": [
    "step_1 = my_array % 2\n",
    "step_2 = step_1 == 0\n",
    "step_3 = my_array[step_2]\n",
    "\n",
    "step_3"
   ]
  },
  {
   "cell_type": "markdown",
   "id": "84248206",
   "metadata": {},
   "source": [
    "array([ 0, 16])"
   ]
  },
  {
   "cell_type": "markdown",
   "id": "1d40182f",
   "metadata": {},
   "source": [
    "Put another way, here is how the expression is evaluated:"
   ]
  },
  {
   "cell_type": "code",
   "execution_count": 12,
   "id": "baa013da",
   "metadata": {},
   "outputs": [
    {
     "name": "stdout",
     "output_type": "stream",
     "text": [
      "1. my_array[my_array % 2 == 0]\n",
      "    - the original expression\n",
      "2. my_array[[-3  0  3 16] % 2 == 0]\n",
      "    - variable substitution\n",
      "3. my_array[[1 0 1 0] == 0]\n",
      "    - result of performing the vectorized modulus 2\n",
      "4. my_array[[False  True False  True]]\n",
      "    - result of comparing to 0\n",
      "5. [-3  0  3 16][[False  True False  True]]\n",
      "    - variable substitution\n",
      "6. [ 0 16]\n",
      "    - our final result\n"
     ]
    }
   ],
   "source": [
    "print('1. my_array[my_array % 2 == 0]')\n",
    "print('    - the original expression')\n",
    "print('2. my_array[{} % 2 == 0]'.format(my_array))\n",
    "print('    - variable substitution')\n",
    "print('3. my_array[{} == 0]'.format(my_array % 2))\n",
    "print('    - result of performing the vectorized modulus 2')\n",
    "print('4. my_array[{}]'.format(my_array % 2 == 0))\n",
    "print('    - result of comparing to 0')\n",
    "print('5. {}[{}]'.format(my_array, my_array % 2 == 0))\n",
    "print('    - variable substitution')\n",
    "print('6. {}'.format(my_array[my_array % 2 == 0]))\n",
    "print('    - our final result')"
   ]
  },
  {
   "cell_type": "markdown",
   "id": "bc4cbe12",
   "metadata": {},
   "source": [
    "## Array Creation\n",
    "\n",
    "Numpy provides several methods for creating arrays, we'll take a look at several of them.\n",
    "\n",
    "`np.random.randn` can be used to create an array of specified length of random numbers drawn from the standard normal distribution.\n",
    "\n",
    "`np.random.randn(10)`"
   ]
  },
  {
   "cell_type": "markdown",
   "id": "9dd12f7f",
   "metadata": {},
   "source": [
    "array([-1.63526513,  0.4437877 , -0.026761  ,  0.91365701, -0.19552803,\n",
    "        0.65391594, -1.3590744 ,  0.01449514, -1.22718349, -0.48087435])"
   ]
  },
  {
   "cell_type": "markdown",
   "id": "33609c36",
   "metadata": {},
   "source": [
    "We can also pass a second argument to this function to define the shape of a two dimensional array.\n",
    "\n",
    "`np.random.randn(3, 4)`"
   ]
  },
  {
   "cell_type": "markdown",
   "id": "d5a0e20e",
   "metadata": {},
   "source": [
    "array([[-0.67528597, -1.44504125,  0.63126959,  1.0732026 ],\n",
    "       [ 1.58057546,  0.67135057,  1.49905094,  0.26424952],\n",
    "       [-0.21247359,  0.38302284,  0.51563093,  0.23534614]])"
   ]
  },
  {
   "cell_type": "markdown",
   "id": "bbfe2743",
   "metadata": {},
   "source": [
    "If we wish to draw from a normal distribution with mean μ� and standard deviation σ�, we'll need to apply some arithmetic. Recall that to convert from the standard normal distribution, we'll need to multiply by the standard deviation, and add the mean."
   ]
  },
  {
   "cell_type": "code",
   "execution_count": 13,
   "id": "6584ea01",
   "metadata": {},
   "outputs": [
    {
     "data": {
      "text/plain": [
       "array([ 86.28715548, 139.09629272,  50.13060488,  66.42652683,\n",
       "       122.86004651, 115.3886892 ,  86.8567625 ,  74.48863732,\n",
       "       149.83909496,  84.68704377,  88.02943748, 100.65759118,\n",
       "        69.19293333, 131.01162715, 114.89445081, 135.14889143,\n",
       "       132.32794712, 103.32209517, 149.14116326,  98.34992872])"
      ]
     },
     "execution_count": 13,
     "metadata": {},
     "output_type": "execute_result"
    }
   ],
   "source": [
    "mu = 100\n",
    "sigma = 30\n",
    "\n",
    "sigma * np.random.randn(20) + mu"
   ]
  },
  {
   "cell_type": "markdown",
   "id": "c07c285d",
   "metadata": {},
   "source": [
    "The `zeros` and `ones` functions provide the ability to create arrays of a specified size full or either 0s or 1s, and the `full` function allows us to create an array of the specified size with a default value."
   ]
  },
  {
   "cell_type": "code",
   "execution_count": 14,
   "id": "e725df9a",
   "metadata": {},
   "outputs": [
    {
     "name": "stdout",
     "output_type": "stream",
     "text": [
      "np.zeros(3)    == [0. 0. 0.]\n",
      "np.ones(3)     == [1. 1. 1.]\n",
      "np.full(3, 17) == [17 17 17]\n"
     ]
    }
   ],
   "source": [
    "print('np.zeros(3)    == {}'.format(np.zeros(3)))\n",
    "print('np.ones(3)     == {}'.format(np.ones(3)))\n",
    "print('np.full(3, 17) == {}'.format(np.full(3, 17)))"
   ]
  },
  {
   "cell_type": "markdown",
   "id": "ce7f358f",
   "metadata": {},
   "source": [
    "We can also use these methods to create multi-dimensional arrays by passing a tuple of the dimensions of the desired array, instead of a single integer value.\n",
    "\n",
    "`np.zeros((2, 3))`"
   ]
  },
  {
   "cell_type": "markdown",
   "id": "d4761a49",
   "metadata": {},
   "source": [
    "array([[0., 0., 0.],\n",
    "       [0., 0., 0.]])\n"
   ]
  },
  {
   "cell_type": "markdown",
   "id": "1db32971",
   "metadata": {},
   "source": [
    "Numpy's `arange` function is very similar to python's builtin `range` function. It can take a single argument and generate a range from zero up to, but not including, the passed number.\n",
    "\n",
    "`np.arange(4)`"
   ]
  },
  {
   "cell_type": "markdown",
   "id": "f5b08481",
   "metadata": {},
   "source": [
    "array([0, 1, 2, 3])\n"
   ]
  },
  {
   "cell_type": "markdown",
   "id": "e51b44d8",
   "metadata": {},
   "source": [
    "We can also specify a starting point for the range:\n",
    "\n",
    "`np.arange(1, 4)`"
   ]
  },
  {
   "cell_type": "markdown",
   "id": "c58b2571",
   "metadata": {},
   "source": [
    "As well as a step:\n",
    "\n",
    "`np.arange(1, 4, 2)`"
   ]
  },
  {
   "cell_type": "markdown",
   "id": "046d0245",
   "metadata": {},
   "source": [
    "array([1, 3])\n"
   ]
  },
  {
   "cell_type": "markdown",
   "id": "779a37bb",
   "metadata": {},
   "source": [
    "Unlike python's builtin `range`, numpy's `arange` can handle decimal numbers\n",
    "\n",
    "`np.arange(3, 5, 0.5)`"
   ]
  },
  {
   "cell_type": "markdown",
   "id": "6f4c5bba",
   "metadata": {},
   "source": [
    "array([3.0, 3.5, 4.0, 4.5])"
   ]
  },
  {
   "cell_type": "markdown",
   "id": "ed392698",
   "metadata": {},
   "source": []
  },
  {
   "cell_type": "markdown",
   "id": "2f24dbc2",
   "metadata": {},
   "source": []
  },
  {
   "cell_type": "markdown",
   "id": "54c6ba3e",
   "metadata": {},
   "source": []
  },
  {
   "cell_type": "markdown",
   "id": "4608f7e6",
   "metadata": {},
   "source": []
  },
  {
   "cell_type": "markdown",
   "id": "4050ee3a",
   "metadata": {},
   "source": []
  },
  {
   "cell_type": "markdown",
   "id": "72de4481",
   "metadata": {},
   "source": []
  },
  {
   "cell_type": "markdown",
   "id": "45f977d1",
   "metadata": {},
   "source": []
  },
  {
   "cell_type": "markdown",
   "id": "6961266d",
   "metadata": {},
   "source": []
  },
  {
   "cell_type": "code",
   "execution_count": null,
   "id": "d544b13a",
   "metadata": {},
   "outputs": [],
   "source": []
  },
  {
   "cell_type": "code",
   "execution_count": null,
   "id": "8b578085",
   "metadata": {},
   "outputs": [],
   "source": []
  },
  {
   "cell_type": "code",
   "execution_count": null,
   "id": "d58f6e0f",
   "metadata": {},
   "outputs": [],
   "source": []
  },
  {
   "cell_type": "code",
   "execution_count": null,
   "id": "22b9fb80",
   "metadata": {},
   "outputs": [],
   "source": []
  },
  {
   "cell_type": "code",
   "execution_count": null,
   "id": "02d55e26",
   "metadata": {},
   "outputs": [],
   "source": []
  },
  {
   "cell_type": "code",
   "execution_count": null,
   "id": "621358e9",
   "metadata": {},
   "outputs": [],
   "source": []
  },
  {
   "cell_type": "code",
   "execution_count": null,
   "id": "07541687",
   "metadata": {},
   "outputs": [],
   "source": []
  }
 ],
 "metadata": {
  "kernelspec": {
   "display_name": "Python 3 (ipykernel)",
   "language": "python",
   "name": "python3"
  },
  "language_info": {
   "codemirror_mode": {
    "name": "ipython",
    "version": 3
   },
   "file_extension": ".py",
   "mimetype": "text/x-python",
   "name": "python",
   "nbconvert_exporter": "python",
   "pygments_lexer": "ipython3",
   "version": "3.11.4"
  }
 },
 "nbformat": 4,
 "nbformat_minor": 5
}
