{
 "cells": [
  {
   "cell_type": "code",
   "execution_count": 1,
   "id": "4dd849fc",
   "metadata": {},
   "outputs": [],
   "source": [
    "import pandas as pd\n",
    "import numpy as np\n",
    "import itertools as it\n",
    "import json\n",
    "import re\n",
    "from collections import Counter"
   ]
  },
  {
   "cell_type": "code",
   "execution_count": 2,
   "id": "7a06337a",
   "metadata": {},
   "outputs": [
    {
     "data": {
      "application/javascript": [
       "IPython.notebook.set_autosave_interval(0)"
      ]
     },
     "metadata": {},
     "output_type": "display_data"
    },
    {
     "name": "stdout",
     "output_type": "stream",
     "text": [
      "Autosave disabled\n"
     ]
    }
   ],
   "source": [
    "%autosave 0\n",
    "pd.set_option('display.max_columns', None)"
   ]
  },
  {
   "cell_type": "markdown",
   "id": "47c7afca",
   "metadata": {},
   "source": [
    "## Create a pd.Series from a List"
   ]
  },
  {
   "cell_type": "code",
   "execution_count": 3,
   "id": "cd78366e",
   "metadata": {},
   "outputs": [],
   "source": [
    "fruits = [\"kiwi\", \"mango\", \"strawberry\", \"pineapple\", \"gala apple\", \"honeycrisp apple\",\n",
    "          \"tomato\", \"watermelon\", \"honeydew\", \"kiwi\", \"kiwi\", \"kiwi\", \"mango\", \"blueberry\", \"blackberry\",\n",
    "          \"gooseberry\", \"papaya\"]"
   ]
  },
  {
   "cell_type": "code",
   "execution_count": 4,
   "id": "f60bf4b6",
   "metadata": {},
   "outputs": [
    {
     "data": {
      "text/plain": [
       "['kiwi',\n",
       " 'mango',\n",
       " 'strawberry',\n",
       " 'pineapple',\n",
       " 'gala apple',\n",
       " 'honeycrisp apple',\n",
       " 'tomato',\n",
       " 'watermelon',\n",
       " 'honeydew',\n",
       " 'kiwi',\n",
       " 'kiwi',\n",
       " 'kiwi',\n",
       " 'mango',\n",
       " 'blueberry',\n",
       " 'blackberry',\n",
       " 'gooseberry',\n",
       " 'papaya']"
      ]
     },
     "execution_count": 4,
     "metadata": {},
     "output_type": "execute_result"
    }
   ],
   "source": [
    "fruits"
   ]
  },
  {
   "cell_type": "code",
   "execution_count": 4,
   "id": "e042450b",
   "metadata": {},
   "outputs": [],
   "source": [
    "fruit_series = pd.Series(fruits)"
   ]
  },
  {
   "cell_type": "code",
   "execution_count": 6,
   "id": "cc95ac25",
   "metadata": {},
   "outputs": [
    {
     "data": {
      "text/plain": [
       "0                 kiwi\n",
       "1                mango\n",
       "2           strawberry\n",
       "3            pineapple\n",
       "4           gala apple\n",
       "5     honeycrisp apple\n",
       "6               tomato\n",
       "7           watermelon\n",
       "8             honeydew\n",
       "9                 kiwi\n",
       "10                kiwi\n",
       "11                kiwi\n",
       "12               mango\n",
       "13           blueberry\n",
       "14          blackberry\n",
       "15          gooseberry\n",
       "16              papaya\n",
       "dtype: object"
      ]
     },
     "execution_count": 6,
     "metadata": {},
     "output_type": "execute_result"
    }
   ],
   "source": [
    "fruit_series"
   ]
  },
  {
   "cell_type": "markdown",
   "id": "2dd279ce",
   "metadata": {},
   "source": [
    "## Determine the number of elements in FRUITS"
   ]
  },
  {
   "cell_type": "code",
   "execution_count": 7,
   "id": "7a5f71b9",
   "metadata": {},
   "outputs": [
    {
     "data": {
      "text/plain": [
       "17"
      ]
     },
     "execution_count": 7,
     "metadata": {},
     "output_type": "execute_result"
    }
   ],
   "source": [
    "fruit_series.count()"
   ]
  },
  {
   "cell_type": "markdown",
   "id": "f2325b5d",
   "metadata": {},
   "source": [
    "## Output only the index in FRUIT_SERIES"
   ]
  },
  {
   "cell_type": "code",
   "execution_count": 8,
   "id": "ec846471",
   "metadata": {},
   "outputs": [
    {
     "data": {
      "text/plain": [
       "RangeIndex(start=0, stop=17, step=1)"
      ]
     },
     "execution_count": 8,
     "metadata": {},
     "output_type": "execute_result"
    }
   ],
   "source": [
    "fruit_series.index"
   ]
  },
  {
   "cell_type": "markdown",
   "id": "92d993a6",
   "metadata": {},
   "source": [
    "## Output only the values in FRUIT_SERIES"
   ]
  },
  {
   "cell_type": "code",
   "execution_count": 9,
   "id": "90cc95dc",
   "metadata": {},
   "outputs": [
    {
     "data": {
      "text/plain": [
       "array(['kiwi', 'mango', 'strawberry', 'pineapple', 'gala apple',\n",
       "       'honeycrisp apple', 'tomato', 'watermelon', 'honeydew', 'kiwi',\n",
       "       'kiwi', 'kiwi', 'mango', 'blueberry', 'blackberry', 'gooseberry',\n",
       "       'papaya'], dtype=object)"
      ]
     },
     "execution_count": 9,
     "metadata": {},
     "output_type": "execute_result"
    }
   ],
   "source": [
    "fruit_series.values"
   ]
  },
  {
   "cell_type": "markdown",
   "id": "3ac7cb88",
   "metadata": {},
   "source": [
    "## Confirm the data type in FRUIT_SERIES"
   ]
  },
  {
   "cell_type": "code",
   "execution_count": 10,
   "id": "2e0f9a59",
   "metadata": {},
   "outputs": [
    {
     "data": {
      "text/plain": [
       "dtype('O')"
      ]
     },
     "execution_count": 10,
     "metadata": {},
     "output_type": "execute_result"
    }
   ],
   "source": [
    "fruit_series.dtype"
   ]
  },
  {
   "cell_type": "markdown",
   "id": "c32cbd66",
   "metadata": {},
   "source": [
    "## Output only first 5 values in FRUIT_SERIES"
   ]
  },
  {
   "cell_type": "code",
   "execution_count": 11,
   "id": "1d4a96ed",
   "metadata": {},
   "outputs": [
    {
     "data": {
      "text/plain": [
       "0          kiwi\n",
       "1         mango\n",
       "2    strawberry\n",
       "3     pineapple\n",
       "4    gala apple\n",
       "dtype: object"
      ]
     },
     "execution_count": 11,
     "metadata": {},
     "output_type": "execute_result"
    }
   ],
   "source": [
    "fruit_series.head()"
   ]
  },
  {
   "cell_type": "markdown",
   "id": "462dcda1",
   "metadata": {},
   "source": [
    "## Output onlylast 3 values in FRUIT_SERIES"
   ]
  },
  {
   "cell_type": "code",
   "execution_count": 12,
   "id": "7af47ba4",
   "metadata": {},
   "outputs": [
    {
     "data": {
      "text/plain": [
       "14    blackberry\n",
       "15    gooseberry\n",
       "16        papaya\n",
       "dtype: object"
      ]
     },
     "execution_count": 12,
     "metadata": {},
     "output_type": "execute_result"
    }
   ],
   "source": [
    "fruit_series.tail(3)"
   ]
  },
  {
   "cell_type": "markdown",
   "id": "bc36dad5",
   "metadata": {},
   "source": [
    "## Output 2 random values in FRUIT_SERIES"
   ]
  },
  {
   "cell_type": "code",
   "execution_count": 13,
   "id": "3feafc5b",
   "metadata": {},
   "outputs": [
    {
     "data": {
      "text/plain": [
       "13     blueberry\n",
       "15    gooseberry\n",
       "dtype: object"
      ]
     },
     "execution_count": 13,
     "metadata": {},
     "output_type": "execute_result"
    }
   ],
   "source": [
    "fruit_series.sample(2)"
   ]
  },
  {
   "cell_type": "markdown",
   "id": "ac1194cf",
   "metadata": {},
   "source": [
    "## Run .describe() method on FRUIT_SERIES"
   ]
  },
  {
   "cell_type": "code",
   "execution_count": 14,
   "id": "0bc066b2",
   "metadata": {},
   "outputs": [
    {
     "data": {
      "text/plain": [
       "count       17\n",
       "unique      13\n",
       "top       kiwi\n",
       "freq         4\n",
       "dtype: object"
      ]
     },
     "execution_count": 14,
     "metadata": {},
     "output_type": "execute_result"
    }
   ],
   "source": [
    "fruit_series.describe()"
   ]
  },
  {
   "cell_type": "markdown",
   "id": "1ad1abaa",
   "metadata": {},
   "source": [
    "## Output only the UNIQUE values in FRUIT_SERIES"
   ]
  },
  {
   "cell_type": "code",
   "execution_count": 15,
   "id": "cf8441cc",
   "metadata": {},
   "outputs": [
    {
     "data": {
      "text/plain": [
       "array(['kiwi', 'mango', 'strawberry', 'pineapple', 'gala apple',\n",
       "       'honeycrisp apple', 'tomato', 'watermelon', 'honeydew',\n",
       "       'blueberry', 'blackberry', 'gooseberry', 'papaya'], dtype=object)"
      ]
     },
     "execution_count": 15,
     "metadata": {},
     "output_type": "execute_result"
    }
   ],
   "source": [
    "fruit_series.unique()"
   ]
  },
  {
   "cell_type": "code",
   "execution_count": 16,
   "id": "f24a4bb8",
   "metadata": {},
   "outputs": [
    {
     "data": {
      "text/plain": [
       "(13, 13)"
      ]
     },
     "execution_count": 16,
     "metadata": {},
     "output_type": "execute_result"
    }
   ],
   "source": [
    "fs_unique = pd.Series(fruit_series.unique())\n",
    "len(fs_unique),fs_unique.count()"
   ]
  },
  {
   "cell_type": "markdown",
   "id": "fdb125d2",
   "metadata": {},
   "source": [
    "## Count occurance of the UNIQUE values in FRUIT_SERIES"
   ]
  },
  {
   "cell_type": "code",
   "execution_count": 17,
   "id": "596ba693",
   "metadata": {},
   "outputs": [
    {
     "data": {
      "text/plain": [
       "kiwi                4\n",
       "mango               2\n",
       "strawberry          1\n",
       "pineapple           1\n",
       "gala apple          1\n",
       "honeycrisp apple    1\n",
       "tomato              1\n",
       "watermelon          1\n",
       "honeydew            1\n",
       "blueberry           1\n",
       "blackberry          1\n",
       "gooseberry          1\n",
       "papaya              1\n",
       "dtype: int64"
      ]
     },
     "execution_count": 17,
     "metadata": {},
     "output_type": "execute_result"
    }
   ],
   "source": [
    "fruit_series.value_counts()"
   ]
  },
  {
   "cell_type": "markdown",
   "id": "34611934",
   "metadata": {},
   "source": [
    "## What value occurs most frequently in FRUIT_SERIES?"
   ]
  },
  {
   "cell_type": "code",
   "execution_count": 18,
   "id": "cd9c2574",
   "metadata": {},
   "outputs": [
    {
     "data": {
      "text/plain": [
       "kiwi    4\n",
       "dtype: int64"
      ]
     },
     "execution_count": 18,
     "metadata": {},
     "output_type": "execute_result"
    }
   ],
   "source": [
    "fruit_series.value_counts().nlargest(n=1)"
   ]
  },
  {
   "cell_type": "markdown",
   "id": "abb048ff",
   "metadata": {},
   "source": [
    "## What value occurs least frequently in FRUIT_SERIES?"
   ]
  },
  {
   "cell_type": "code",
   "execution_count": 19,
   "id": "5cf2aefc",
   "metadata": {},
   "outputs": [
    {
     "data": {
      "text/plain": [
       "strawberry          1\n",
       "pineapple           1\n",
       "gala apple          1\n",
       "honeycrisp apple    1\n",
       "tomato              1\n",
       "watermelon          1\n",
       "honeydew            1\n",
       "blueberry           1\n",
       "blackberry          1\n",
       "gooseberry          1\n",
       "papaya              1\n",
       "dtype: int64"
      ]
     },
     "execution_count": 19,
     "metadata": {},
     "output_type": "execute_result"
    }
   ],
   "source": [
    "fruit_series.value_counts().nsmallest(n=1,keep='all')"
   ]
  },
  {
   "cell_type": "markdown",
   "id": "084183a1",
   "metadata": {},
   "source": [
    "# PART II"
   ]
  },
  {
   "cell_type": "markdown",
   "id": "64289e1c",
   "metadata": {},
   "source": [
    "## Capitalize all string values in FRUIT_SERIES"
   ]
  },
  {
   "cell_type": "code",
   "execution_count": 20,
   "id": "28063840",
   "metadata": {},
   "outputs": [
    {
     "data": {
      "text/plain": [
       "0                 KIWI\n",
       "1                MANGO\n",
       "2           STRAWBERRY\n",
       "3            PINEAPPLE\n",
       "4           GALA APPLE\n",
       "5     HONEYCRISP APPLE\n",
       "6               TOMATO\n",
       "7           WATERMELON\n",
       "8             HONEYDEW\n",
       "9                 KIWI\n",
       "10                KIWI\n",
       "11                KIWI\n",
       "12               MANGO\n",
       "13           BLUEBERRY\n",
       "14          BLACKBERRY\n",
       "15          GOOSEBERRY\n",
       "16              PAPAYA\n",
       "dtype: object"
      ]
     },
     "execution_count": 20,
     "metadata": {},
     "output_type": "execute_result"
    }
   ],
   "source": [
    "fruit_series.str.upper()"
   ]
  },
  {
   "cell_type": "code",
   "execution_count": 21,
   "id": "7f4825ec",
   "metadata": {},
   "outputs": [
    {
     "data": {
      "text/plain": [
       "0                 Kiwi\n",
       "1                Mango\n",
       "2           Strawberry\n",
       "3            Pineapple\n",
       "4           Gala Apple\n",
       "5     Honeycrisp Apple\n",
       "6               Tomato\n",
       "7           Watermelon\n",
       "8             Honeydew\n",
       "9                 Kiwi\n",
       "10                Kiwi\n",
       "11                Kiwi\n",
       "12               Mango\n",
       "13           Blueberry\n",
       "14          Blackberry\n",
       "15          Gooseberry\n",
       "16              Papaya\n",
       "dtype: object"
      ]
     },
     "execution_count": 21,
     "metadata": {},
     "output_type": "execute_result"
    }
   ],
   "source": [
    "fruit_series.str.title()"
   ]
  },
  {
   "cell_type": "markdown",
   "id": "9277981f",
   "metadata": {},
   "source": [
    "## Count the occurance of letter 'A' in all strings"
   ]
  },
  {
   "cell_type": "code",
   "execution_count": 22,
   "id": "d3ef0d63",
   "metadata": {},
   "outputs": [
    {
     "data": {
      "text/plain": [
       "0"
      ]
     },
     "execution_count": 22,
     "metadata": {},
     "output_type": "execute_result"
    }
   ],
   "source": [
    "fruit_series[0].count('a')"
   ]
  },
  {
   "cell_type": "code",
   "execution_count": 23,
   "id": "6ad68b0e",
   "metadata": {},
   "outputs": [
    {
     "data": {
      "text/plain": [
       "1"
      ]
     },
     "execution_count": 23,
     "metadata": {},
     "output_type": "execute_result"
    }
   ],
   "source": [
    "fruit_series[1].count('a')"
   ]
  },
  {
   "cell_type": "code",
   "execution_count": 24,
   "id": "1d36e5e5",
   "metadata": {},
   "outputs": [],
   "source": [
    "# counter = Counter(fruit_series[1])\n",
    "\n",
    "# counter['a']"
   ]
  },
  {
   "cell_type": "code",
   "execution_count": 25,
   "id": "50216a6b",
   "metadata": {},
   "outputs": [],
   "source": [
    "fruit_series_a_counts = [fruit_series[i].count('a') for i in range(0,len(fruit_series))]"
   ]
  },
  {
   "cell_type": "code",
   "execution_count": 26,
   "id": "a6bce1b3",
   "metadata": {},
   "outputs": [],
   "source": [
    "fruit_series_a_counts = np.array(fruit_series_a_counts)"
   ]
  },
  {
   "cell_type": "code",
   "execution_count": 27,
   "id": "95906498",
   "metadata": {},
   "outputs": [
    {
     "data": {
      "text/plain": [
       "array([0, 1, 1, 1, 3, 1, 1, 1, 0, 0, 0, 0, 1, 0, 1, 0, 3])"
      ]
     },
     "execution_count": 27,
     "metadata": {},
     "output_type": "execute_result"
    }
   ],
   "source": [
    "fruit_series_a_counts"
   ]
  },
  {
   "cell_type": "code",
   "execution_count": 28,
   "id": "085e1621",
   "metadata": {},
   "outputs": [
    {
     "data": {
      "text/plain": [
       "14"
      ]
     },
     "execution_count": 28,
     "metadata": {},
     "output_type": "execute_result"
    }
   ],
   "source": [
    "fruit_series_a_counts.sum()"
   ]
  },
  {
   "cell_type": "markdown",
   "id": "72392013",
   "metadata": {},
   "source": [
    "## Count the occurance of VOWELS in each string"
   ]
  },
  {
   "cell_type": "code",
   "execution_count": 29,
   "id": "ce710ee4",
   "metadata": {},
   "outputs": [],
   "source": [
    "fruit_series_a_counts = np.array([fruit_series[i].count('a') for i in range(0,len(fruit_series))])\n",
    "fruit_series_e_counts = np.array([fruit_series[i].count('e') for i in range(0,len(fruit_series))])\n",
    "fruit_series_i_counts = np.array([fruit_series[i].count('i') for i in range(0,len(fruit_series))])\n",
    "fruit_series_o_counts = np.array([fruit_series[i].count('o') for i in range(0,len(fruit_series))])\n",
    "fruit_series_u_counts = np.array([fruit_series[i].count('u') for i in range(0,len(fruit_series))])"
   ]
  },
  {
   "cell_type": "code",
   "execution_count": 30,
   "id": "9d332093",
   "metadata": {},
   "outputs": [
    {
     "data": {
      "text/plain": [
       "0     2\n",
       "1     2\n",
       "2     2\n",
       "3     4\n",
       "4     4\n",
       "5     5\n",
       "6     3\n",
       "7     4\n",
       "8     3\n",
       "9     2\n",
       "10    2\n",
       "11    2\n",
       "12    2\n",
       "13    3\n",
       "14    2\n",
       "15    4\n",
       "16    3\n",
       "dtype: int64"
      ]
     },
     "execution_count": 30,
     "metadata": {},
     "output_type": "execute_result"
    }
   ],
   "source": [
    "pd.Series([fruit_series_a_counts[i]+fruit_series_e_counts[i]+fruit_series_i_counts[i]+\n",
    "           fruit_series_o_counts[i]+fruit_series_u_counts[i] for i in range(0,len(fruit_series))])"
   ]
  },
  {
   "cell_type": "markdown",
   "id": "33c8dc6c",
   "metadata": {},
   "source": [
    "## Return the longest String Value from FRUITS"
   ]
  },
  {
   "cell_type": "code",
   "execution_count": 31,
   "id": "b252c277",
   "metadata": {},
   "outputs": [
    {
     "data": {
      "text/plain": [
       "4"
      ]
     },
     "execution_count": 31,
     "metadata": {},
     "output_type": "execute_result"
    }
   ],
   "source": [
    "len(fruit_series[0])"
   ]
  },
  {
   "cell_type": "code",
   "execution_count": 32,
   "id": "0f442bff",
   "metadata": {},
   "outputs": [],
   "source": [
    "lenths = pd.Series([len(fruit_series[i]) for i in range(0,len(fruit_series))])"
   ]
  },
  {
   "cell_type": "code",
   "execution_count": 33,
   "id": "63d862b0",
   "metadata": {},
   "outputs": [
    {
     "data": {
      "text/plain": [
       "0      4\n",
       "1      5\n",
       "2     10\n",
       "3      9\n",
       "4     10\n",
       "5     16\n",
       "6      6\n",
       "7     10\n",
       "8      8\n",
       "9      4\n",
       "10     4\n",
       "11     4\n",
       "12     5\n",
       "13     9\n",
       "14    10\n",
       "15    10\n",
       "16     6\n",
       "dtype: int64"
      ]
     },
     "execution_count": 33,
     "metadata": {},
     "output_type": "execute_result"
    }
   ],
   "source": [
    "lenths"
   ]
  },
  {
   "cell_type": "code",
   "execution_count": 34,
   "id": "c41594a6",
   "metadata": {},
   "outputs": [
    {
     "data": {
      "text/plain": [
       "5    16\n",
       "dtype: int64"
      ]
     },
     "execution_count": 34,
     "metadata": {},
     "output_type": "execute_result"
    }
   ],
   "source": [
    "lenths.nlargest(n=1)"
   ]
  },
  {
   "cell_type": "code",
   "execution_count": 35,
   "id": "9a24ffa2",
   "metadata": {},
   "outputs": [
    {
     "data": {
      "text/plain": [
       "Int64Index([5], dtype='int64')"
      ]
     },
     "execution_count": 35,
     "metadata": {},
     "output_type": "execute_result"
    }
   ],
   "source": [
    "lenths.nlargest(n=1).index"
   ]
  },
  {
   "cell_type": "code",
   "execution_count": 36,
   "id": "2cb820a7",
   "metadata": {},
   "outputs": [
    {
     "data": {
      "text/plain": [
       "5    honeycrisp apple\n",
       "dtype: object"
      ]
     },
     "execution_count": 36,
     "metadata": {},
     "output_type": "execute_result"
    }
   ],
   "source": [
    "fruit_series[lenths.nlargest(n=1).index]"
   ]
  },
  {
   "cell_type": "markdown",
   "id": "10e9bc6a",
   "metadata": {},
   "source": [
    "## Return the String Values from FRUITS where len >= 5"
   ]
  },
  {
   "cell_type": "code",
   "execution_count": 37,
   "id": "54bb93d6",
   "metadata": {},
   "outputs": [
    {
     "data": {
      "text/plain": [
       "1      5\n",
       "2     10\n",
       "3      9\n",
       "4     10\n",
       "5     16\n",
       "6      6\n",
       "7     10\n",
       "8      8\n",
       "12     5\n",
       "13     9\n",
       "14    10\n",
       "15    10\n",
       "16     6\n",
       "dtype: int64"
      ]
     },
     "execution_count": 37,
     "metadata": {},
     "output_type": "execute_result"
    }
   ],
   "source": [
    "lenths[lenths >= 5]"
   ]
  },
  {
   "cell_type": "code",
   "execution_count": 38,
   "id": "839f46c1",
   "metadata": {},
   "outputs": [
    {
     "data": {
      "text/plain": [
       "1                mango\n",
       "2           strawberry\n",
       "3            pineapple\n",
       "4           gala apple\n",
       "5     honeycrisp apple\n",
       "6               tomato\n",
       "7           watermelon\n",
       "8             honeydew\n",
       "12               mango\n",
       "13           blueberry\n",
       "14          blackberry\n",
       "15          gooseberry\n",
       "16              papaya\n",
       "dtype: object"
      ]
     },
     "execution_count": 38,
     "metadata": {},
     "output_type": "execute_result"
    }
   ],
   "source": [
    "fruit_series[lenths >= 5]"
   ]
  },
  {
   "cell_type": "markdown",
   "id": "f2702666",
   "metadata": {},
   "source": [
    "## Return the String Values from FRUITS where 'o' occurs 2 or more times"
   ]
  },
  {
   "cell_type": "code",
   "execution_count": 39,
   "id": "e125976a",
   "metadata": {},
   "outputs": [],
   "source": [
    "fruit_series_o_counts = pd.Series(fruit_series_o_counts)"
   ]
  },
  {
   "cell_type": "code",
   "execution_count": 40,
   "id": "b4573506",
   "metadata": {},
   "outputs": [
    {
     "data": {
      "text/plain": [
       "0     0\n",
       "1     1\n",
       "2     0\n",
       "3     0\n",
       "4     0\n",
       "5     1\n",
       "6     2\n",
       "7     1\n",
       "8     1\n",
       "9     0\n",
       "10    0\n",
       "11    0\n",
       "12    1\n",
       "13    0\n",
       "14    0\n",
       "15    2\n",
       "16    0\n",
       "dtype: int64"
      ]
     },
     "execution_count": 40,
     "metadata": {},
     "output_type": "execute_result"
    }
   ],
   "source": [
    "fruit_series_o_counts"
   ]
  },
  {
   "cell_type": "code",
   "execution_count": 41,
   "id": "8069de90",
   "metadata": {},
   "outputs": [
    {
     "data": {
      "text/plain": [
       "6         tomato\n",
       "15    gooseberry\n",
       "dtype: object"
      ]
     },
     "execution_count": 41,
     "metadata": {},
     "output_type": "execute_result"
    }
   ],
   "source": [
    "fruit_series[fruit_series_o_counts >= 2]"
   ]
  },
  {
   "cell_type": "markdown",
   "id": "f9e62d25",
   "metadata": {},
   "source": [
    "## Return the String Values from FRUITS where substring 'berry' exists"
   ]
  },
  {
   "cell_type": "code",
   "execution_count": 45,
   "id": "1a1f2cb7",
   "metadata": {},
   "outputs": [
    {
     "data": {
      "text/plain": [
       "2     strawberry\n",
       "13     blueberry\n",
       "14    blackberry\n",
       "15    gooseberry\n",
       "dtype: object"
      ]
     },
     "execution_count": 45,
     "metadata": {},
     "output_type": "execute_result"
    }
   ],
   "source": [
    "fruit_series[(fruit_series.str.contains('berry')) | (fruit_series.str.contains('Berry'))]"
   ]
  },
  {
   "cell_type": "markdown",
   "id": "0045c572",
   "metadata": {},
   "source": [
    "## Return the String Values from FRUITS where substring 'apple' exists"
   ]
  },
  {
   "cell_type": "code",
   "execution_count": 52,
   "id": "d5b691ce",
   "metadata": {},
   "outputs": [
    {
     "data": {
      "text/plain": [
       "3           pineapple\n",
       "4          gala apple\n",
       "5    honeycrisp apple\n",
       "dtype: object"
      ]
     },
     "execution_count": 52,
     "metadata": {},
     "output_type": "execute_result"
    }
   ],
   "source": [
    "fruit_series[(fruit_series.str.contains('apple')) | (fruit_series.str.contains('Apple'))]"
   ]
  },
  {
   "cell_type": "code",
   "execution_count": 53,
   "id": "bf6c0df2",
   "metadata": {},
   "outputs": [
    {
     "data": {
      "text/plain": [
       "0     False\n",
       "1     False\n",
       "2     False\n",
       "3      True\n",
       "4      True\n",
       "5      True\n",
       "6     False\n",
       "7     False\n",
       "8     False\n",
       "9     False\n",
       "10    False\n",
       "11    False\n",
       "12    False\n",
       "13    False\n",
       "14    False\n",
       "15    False\n",
       "16    False\n",
       "dtype: bool"
      ]
     },
     "execution_count": 53,
     "metadata": {},
     "output_type": "execute_result"
    }
   ],
   "source": [
    "fruit_series.str.contains('apple')"
   ]
  },
  {
   "cell_type": "markdown",
   "id": "d4d39f0e",
   "metadata": {},
   "source": [
    "## Which String value contains the most vowels?"
   ]
  },
  {
   "cell_type": "code",
   "execution_count": 54,
   "id": "325e0d83",
   "metadata": {},
   "outputs": [],
   "source": [
    "vowel_count = pd.Series([fruit_series_a_counts[i]+fruit_series_e_counts[i]+fruit_series_i_counts[i]+\n",
    "           fruit_series_o_counts[i]+fruit_series_u_counts[i] for i in range(0,len(fruit_series))])"
   ]
  },
  {
   "cell_type": "code",
   "execution_count": 55,
   "id": "9e05a3bc",
   "metadata": {},
   "outputs": [
    {
     "data": {
      "text/plain": [
       "5    honeycrisp apple\n",
       "dtype: object"
      ]
     },
     "execution_count": 55,
     "metadata": {},
     "output_type": "execute_result"
    }
   ],
   "source": [
    "fruit_series[vowel_count.nlargest(n=1).index]"
   ]
  },
  {
   "cell_type": "markdown",
   "id": "302e203a",
   "metadata": {},
   "source": [
    "# PART III"
   ]
  },
  {
   "cell_type": "markdown",
   "id": "ba476223",
   "metadata": {},
   "source": [
    "## Which letter occurs most frequently in the Series?"
   ]
  },
  {
   "cell_type": "code",
   "execution_count": 5,
   "id": "7e305d14",
   "metadata": {},
   "outputs": [],
   "source": [
    "raw_string = 'hnvidduckkqxwymbimkccexbkmqygkxoyndmcxnwqarhyffsjpsrabtjzsypmzadfavyrnndndvswreauxovncxtwzp\\\n",
    "wejilzjrmmbbgbyxvjtewqthafnbkqplarokkyydtubbmnexoypulzwfhqvckdpqtpoppzqrmcvhhpwgjwupgzhiofohawytlsiyecuproguy'"
   ]
  },
  {
   "cell_type": "code",
   "execution_count": 7,
   "id": "f2f80ae3",
   "metadata": {},
   "outputs": [],
   "source": [
    "letters_list = list(raw_string)"
   ]
  },
  {
   "cell_type": "code",
   "execution_count": 8,
   "id": "a9756159",
   "metadata": {},
   "outputs": [
    {
     "data": {
      "text/plain": [
       "200"
      ]
     },
     "execution_count": 8,
     "metadata": {},
     "output_type": "execute_result"
    }
   ],
   "source": [
    "len(letters_list)"
   ]
  },
  {
   "cell_type": "code",
   "execution_count": 9,
   "id": "ea6d9745",
   "metadata": {},
   "outputs": [],
   "source": [
    "letters_Series = pd.Series(letters_list)"
   ]
  },
  {
   "cell_type": "code",
   "execution_count": 10,
   "id": "439952cd",
   "metadata": {},
   "outputs": [
    {
     "data": {
      "text/plain": [
       "0      h\n",
       "1      n\n",
       "2      v\n",
       "3      i\n",
       "4      d\n",
       "      ..\n",
       "195    r\n",
       "196    o\n",
       "197    g\n",
       "198    u\n",
       "199    y\n",
       "Length: 200, dtype: object"
      ]
     },
     "execution_count": 10,
     "metadata": {},
     "output_type": "execute_result"
    }
   ],
   "source": [
    "letters_Series"
   ]
  },
  {
   "cell_type": "code",
   "execution_count": 16,
   "id": "5d0b016c",
   "metadata": {},
   "outputs": [],
   "source": [
    "letter_counts = letters_Series.value_counts()"
   ]
  },
  {
   "cell_type": "code",
   "execution_count": 18,
   "id": "768def34",
   "metadata": {},
   "outputs": [
    {
     "data": {
      "text/plain": [
       "y    13\n",
       "dtype: int64"
      ]
     },
     "execution_count": 18,
     "metadata": {},
     "output_type": "execute_result"
    }
   ],
   "source": [
    "letter_counts.nlargest(n=1,keep='all')"
   ]
  },
  {
   "cell_type": "markdown",
   "id": "d878553b",
   "metadata": {},
   "source": [
    "## How many elements exist in the Series?"
   ]
  },
  {
   "cell_type": "code",
   "execution_count": 19,
   "id": "af40372c",
   "metadata": {},
   "outputs": [
    {
     "data": {
      "text/plain": [
       "200"
      ]
     },
     "execution_count": 19,
     "metadata": {},
     "output_type": "execute_result"
    }
   ],
   "source": [
    "len(letters_list)"
   ]
  },
  {
   "cell_type": "markdown",
   "id": "1446c392",
   "metadata": {},
   "source": [
    "## Which letter occurs LEAST frequently in the Series?"
   ]
  },
  {
   "cell_type": "code",
   "execution_count": 20,
   "id": "a5c4e727",
   "metadata": {},
   "outputs": [
    {
     "data": {
      "text/plain": [
       "l    4\n",
       "dtype: int64"
      ]
     },
     "execution_count": 20,
     "metadata": {},
     "output_type": "execute_result"
    }
   ],
   "source": [
    "letter_counts.nsmallest(n=1,keep='all')"
   ]
  },
  {
   "cell_type": "markdown",
   "id": "3f4862af",
   "metadata": {},
   "source": [
    "## How many vowels in the Series?"
   ]
  },
  {
   "cell_type": "code",
   "execution_count": 21,
   "id": "18af21e9",
   "metadata": {},
   "outputs": [],
   "source": [
    "vowels = list('aeiou')"
   ]
  },
  {
   "cell_type": "code",
   "execution_count": 30,
   "id": "498788e6",
   "metadata": {},
   "outputs": [
    {
     "data": {
      "text/plain": [
       "False    166\n",
       "True      34\n",
       "dtype: int64"
      ]
     },
     "execution_count": 30,
     "metadata": {},
     "output_type": "execute_result"
    }
   ],
   "source": [
    "letters_Series.isin(vowels).value_counts()"
   ]
  },
  {
   "cell_type": "markdown",
   "id": "3242f8cd",
   "metadata": {},
   "source": [
    "## How many consonants in the Series?"
   ]
  },
  {
   "cell_type": "code",
   "execution_count": 31,
   "id": "3f1bc758",
   "metadata": {},
   "outputs": [],
   "source": [
    "consonants = list('bcdfghjklmnpqrstvwxyz')"
   ]
  },
  {
   "cell_type": "code",
   "execution_count": 32,
   "id": "867b1a7d",
   "metadata": {},
   "outputs": [
    {
     "data": {
      "text/plain": [
       "True     166\n",
       "False     34\n",
       "dtype: int64"
      ]
     },
     "execution_count": 32,
     "metadata": {},
     "output_type": "execute_result"
    }
   ],
   "source": [
    "letters_Series.isin(consonants).value_counts()"
   ]
  },
  {
   "cell_type": "markdown",
   "id": "71c2c7ff",
   "metadata": {},
   "source": [
    "## Create a Series with each letter in Uppercase"
   ]
  },
  {
   "cell_type": "code",
   "execution_count": 34,
   "id": "0020f011",
   "metadata": {},
   "outputs": [
    {
     "data": {
      "text/plain": [
       "0      H\n",
       "1      N\n",
       "2      V\n",
       "3      I\n",
       "4      D\n",
       "      ..\n",
       "195    R\n",
       "196    O\n",
       "197    G\n",
       "198    U\n",
       "199    Y\n",
       "Length: 200, dtype: object"
      ]
     },
     "execution_count": 34,
     "metadata": {},
     "output_type": "execute_result"
    }
   ],
   "source": [
    "letters_Series.str.upper()"
   ]
  },
  {
   "cell_type": "code",
   "execution_count": 35,
   "id": "2a40e6aa",
   "metadata": {},
   "outputs": [],
   "source": [
    "letters_Series_upper = letters_Series.str.upper()"
   ]
  },
  {
   "cell_type": "markdown",
   "id": "cfe169d3",
   "metadata": {},
   "source": [
    "## Create a BARPLOT of the freqs of the top 6 most common letters?"
   ]
  },
  {
   "cell_type": "code",
   "execution_count": 36,
   "id": "90eafec7",
   "metadata": {
    "collapsed": true
   },
   "outputs": [
    {
     "data": {
      "text/plain": [
       "y    13\n",
       "p    12\n",
       "w    10\n",
       "b     9\n",
       "n     9\n",
       "k     9\n",
       "m     9\n",
       "r     8\n",
       "a     8\n",
       "o     8\n",
       "h     8\n",
       "x     8\n",
       "q     8\n",
       "c     8\n",
       "d     8\n",
       "u     7\n",
       "v     7\n",
       "t     7\n",
       "z     7\n",
       "e     6\n",
       "f     6\n",
       "j     6\n",
       "g     5\n",
       "i     5\n",
       "s     5\n",
       "l     4\n",
       "dtype: int64"
      ]
     },
     "execution_count": 36,
     "metadata": {},
     "output_type": "execute_result"
    }
   ],
   "source": [
    "letter_counts"
   ]
  },
  {
   "cell_type": "code",
   "execution_count": 37,
   "id": "ac4852ac",
   "metadata": {
    "collapsed": true
   },
   "outputs": [
    {
     "data": {
      "text/plain": [
       "<Axes: >"
      ]
     },
     "execution_count": 37,
     "metadata": {},
     "output_type": "execute_result"
    },
    {
     "data": {
      "image/png": "[encoded data removed]",
      "text/plain": [
       "<Figure size 640x480 with 1 Axes>"
      ]
     },
     "metadata": {},
     "output_type": "display_data"
    }
   ],
   "source": [
    "letter_counts.plot()"
   ]
  },
  {
   "cell_type": "code",
   "execution_count": 38,
   "id": "6f909d7e",
   "metadata": {},
   "outputs": [
    {
     "data": {
      "text/plain": [
       "<Axes: >"
      ]
     },
     "execution_count": 38,
     "metadata": {},
     "output_type": "execute_result"
    },
    {
     "data": {
      "image/png": "[encoded data removed]",
      "text/plain": [
       "<Figure size 640x480 with 1 Axes>"
      ]
     },
     "metadata": {},
     "output_type": "display_data"
    }
   ],
   "source": [
    "letter_counts.plot.bar()"
   ]
  },
  {
   "cell_type": "code",
   "execution_count": 50,
   "id": "130b5c4a",
   "metadata": {},
   "outputs": [
    {
     "data": {
      "text/plain": [
       "[Text(0.5, 0, 'Letter'), Text(0, 0.5, 'Count')]"
      ]
     },
     "execution_count": 50,
     "metadata": {},
     "output_type": "execute_result"
    },
    {
     "data": {
      "image/png": "[encoded data removed]",
      "text/plain": [
       "<Figure size 640x480 with 1 Axes>"
      ]
     },
     "metadata": {},
     "output_type": "display_data"
    }
   ],
   "source": [
    "letter_counts.nlargest(n=6,keep='all').plot.bar(title='Most Common Letters',\n",
    "                                                color='firebrick',\n",
    "                                                ec='blue',\n",
    "                                                lw=2,\n",
    "                                                width=.6).set(xlabel='Letter',ylabel='Count')"
   ]
  },
  {
   "cell_type": "markdown",
   "id": "38dc6a35",
   "metadata": {},
   "source": [
    "## Create a Series from the following list"
   ]
  },
  {
   "cell_type": "code",
   "execution_count": 51,
   "id": "f546506f",
   "metadata": {},
   "outputs": [],
   "source": [
    "num_list = ['$796,459.41', '$278.60', '$482,571.67', '$4,503,915.98', '$2,121,418.3', '$1,260,813.3', '$87,231.01',\n",
    " '$1,509,175.45', '$4,138,548.00', '$2,848,913.80', '$594,715.39', '$4,789,988.17', '$4,513,644.5',\n",
    " '$3,191,059.97', '$1,758,712.24', '$4,338,283.54', '$4,738,303.38', '$2,791,759.67', '$769,681.94', '$452,650.23']"
   ]
  },
  {
   "cell_type": "code",
   "execution_count": 53,
   "id": "727f464c",
   "metadata": {},
   "outputs": [],
   "source": [
    "num_Series = pd.Series(num_list) # these are string objects"
   ]
  },
  {
   "cell_type": "markdown",
   "id": "09aef85a",
   "metadata": {},
   "source": [
    "## What is data type of the Series?"
   ]
  },
  {
   "cell_type": "code",
   "execution_count": 54,
   "id": "e475cef2",
   "metadata": {},
   "outputs": [
    {
     "data": {
      "text/plain": [
       "dtype('O')"
      ]
     },
     "execution_count": 54,
     "metadata": {},
     "output_type": "execute_result"
    }
   ],
   "source": [
    "num_Series.dtype"
   ]
  },
  {
   "cell_type": "markdown",
   "id": "0adcda41",
   "metadata": {},
   "source": [
    "## How many elements in the Series?"
   ]
  },
  {
   "cell_type": "code",
   "execution_count": 55,
   "id": "60d4a082",
   "metadata": {},
   "outputs": [
    {
     "data": {
      "text/plain": [
       "20"
      ]
     },
     "execution_count": 55,
     "metadata": {},
     "output_type": "execute_result"
    }
   ],
   "source": [
    "len(num_Series)"
   ]
  },
  {
   "cell_type": "markdown",
   "id": "0fbf5853",
   "metadata": {},
   "source": [
    "## Convert Series to numeric dtype"
   ]
  },
  {
   "cell_type": "code",
   "execution_count": 64,
   "id": "5d3726bf",
   "metadata": {},
   "outputs": [
    {
     "name": "stderr",
     "output_type": "stream",
     "text": [
      "/var/folders/ty/2pnn6wsj06n_glzjgbmxzlkw0000gn/T/ipykernel_4842/3367348362.py:1: FutureWarning: The default value of regex will change from True to False in a future version. In addition, single character regular expressions will *not* be treated as literal strings when regex=True.\n",
      "  num_only = num_Series.str.replace('$','').str.replace(',','')\n"
     ]
    }
   ],
   "source": [
    "num_only = num_Series.str.replace('$','').str.replace(',','')"
   ]
  },
  {
   "cell_type": "code",
   "execution_count": 65,
   "id": "de34b381",
   "metadata": {
    "collapsed": true
   },
   "outputs": [
    {
     "data": {
      "text/plain": [
       "0      796459.41\n",
       "1         278.60\n",
       "2      482571.67\n",
       "3     4503915.98\n",
       "4      2121418.3\n",
       "5      1260813.3\n",
       "6       87231.01\n",
       "7     1509175.45\n",
       "8     4138548.00\n",
       "9     2848913.80\n",
       "10     594715.39\n",
       "11    4789988.17\n",
       "12     4513644.5\n",
       "13    3191059.97\n",
       "14    1758712.24\n",
       "15    4338283.54\n",
       "16    4738303.38\n",
       "17    2791759.67\n",
       "18     769681.94\n",
       "19     452650.23\n",
       "dtype: object"
      ]
     },
     "execution_count": 65,
     "metadata": {},
     "output_type": "execute_result"
    }
   ],
   "source": [
    "num_only"
   ]
  },
  {
   "cell_type": "code",
   "execution_count": 67,
   "id": "ec339d32",
   "metadata": {},
   "outputs": [],
   "source": [
    "num_Series = num_only.astype('float')"
   ]
  },
  {
   "cell_type": "code",
   "execution_count": 68,
   "id": "e16f7a95",
   "metadata": {},
   "outputs": [
    {
     "data": {
      "text/plain": [
       "0      796459.41\n",
       "1         278.60\n",
       "2      482571.67\n",
       "3     4503915.98\n",
       "4     2121418.30\n",
       "5     1260813.30\n",
       "6       87231.01\n",
       "7     1509175.45\n",
       "8     4138548.00\n",
       "9     2848913.80\n",
       "10     594715.39\n",
       "11    4789988.17\n",
       "12    4513644.50\n",
       "13    3191059.97\n",
       "14    1758712.24\n",
       "15    4338283.54\n",
       "16    4738303.38\n",
       "17    2791759.67\n",
       "18     769681.94\n",
       "19     452650.23\n",
       "dtype: float64"
      ]
     },
     "execution_count": 68,
     "metadata": {},
     "output_type": "execute_result"
    }
   ],
   "source": [
    "num_Series"
   ]
  },
  {
   "cell_type": "markdown",
   "id": "d6a1fb06",
   "metadata": {},
   "source": [
    "## Max value of Series?"
   ]
  },
  {
   "cell_type": "code",
   "execution_count": 69,
   "id": "2a5f7569",
   "metadata": {},
   "outputs": [
    {
     "data": {
      "text/plain": [
       "11    4789988.17\n",
       "dtype: float64"
      ]
     },
     "execution_count": 69,
     "metadata": {},
     "output_type": "execute_result"
    }
   ],
   "source": [
    "num_Series.nlargest(n=1,keep='all')"
   ]
  },
  {
   "cell_type": "markdown",
   "id": "cdfe21de",
   "metadata": {},
   "source": [
    "## Min value of Series?"
   ]
  },
  {
   "cell_type": "code",
   "execution_count": 70,
   "id": "3404c345",
   "metadata": {},
   "outputs": [
    {
     "data": {
      "text/plain": [
       "1    278.6\n",
       "dtype: float64"
      ]
     },
     "execution_count": 70,
     "metadata": {},
     "output_type": "execute_result"
    }
   ],
   "source": [
    "num_Series.nsmallest(n=1,keep='all')"
   ]
  },
  {
   "cell_type": "markdown",
   "id": "3b9c360a",
   "metadata": {},
   "source": [
    "## Range of Values in Series?"
   ]
  },
  {
   "cell_type": "code",
   "execution_count": 81,
   "id": "f88e5984",
   "metadata": {},
   "outputs": [
    {
     "data": {
      "text/plain": [
       "4789709.57"
      ]
     },
     "execution_count": 81,
     "metadata": {},
     "output_type": "execute_result"
    }
   ],
   "source": [
    "num_Series.nlargest(n=1,keep='all').values[0] - num_Series.nsmallest(n=1,keep='all').values[0]"
   ]
  },
  {
   "cell_type": "markdown",
   "id": "d74fc9d5",
   "metadata": {},
   "source": [
    "## Bin the Data into 4 equally-sized bins.  How many values exist in each bin?"
   ]
  },
  {
   "cell_type": "code",
   "execution_count": 83,
   "id": "8de07b39",
   "metadata": {},
   "outputs": [],
   "source": [
    "num_bins = pd.cut(num_Series,4)"
   ]
  },
  {
   "cell_type": "code",
   "execution_count": 84,
   "id": "e2d02c4b",
   "metadata": {},
   "outputs": [
    {
     "data": {
      "text/plain": [
       "(-4511.11, 1197705.993]       7\n",
       "(3592560.778, 4789988.17]     6\n",
       "(1197705.993, 2395133.385]    4\n",
       "(2395133.385, 3592560.778]    3\n",
       "dtype: int64"
      ]
     },
     "execution_count": 84,
     "metadata": {},
     "output_type": "execute_result"
    }
   ],
   "source": [
    "num_bins.value_counts()"
   ]
  },
  {
   "cell_type": "markdown",
   "id": "6f11ce12",
   "metadata": {},
   "source": [
    "## Plot the bin-counts in a meaningful way"
   ]
  },
  {
   "cell_type": "code",
   "execution_count": 95,
   "id": "a3ef668c",
   "metadata": {},
   "outputs": [
    {
     "data": {
      "text/plain": [
       "<Axes: title={'center': 'Most Common Value Groupings'}, xlabel='bins', ylabel='Count'>"
      ]
     },
     "execution_count": 95,
     "metadata": {},
     "output_type": "execute_result"
    },
    {
     "data": {
      "image/png": "[encoded data removed]",
      "text/plain": [
       "<Figure size 640x480 with 1 Axes>"
      ]
     },
     "metadata": {},
     "output_type": "display_data"
    }
   ],
   "source": [
    "num_bins.value_counts().plot.bar(title='Most Common Value Groupings',rot=75,\n",
    "                                 color='firebrick',ec='blue',lw=2,width=.6,xlabel='bins',ylabel='Count')"
   ]
  },
  {
   "cell_type": "code",
   "execution_count": null,
   "id": "0353ea27",
   "metadata": {},
   "outputs": [],
   "source": []
  },
  {
   "cell_type": "code",
   "execution_count": null,
   "id": "0dce6d53",
   "metadata": {},
   "outputs": [],
   "source": []
  },
  {
   "cell_type": "code",
   "execution_count": null,
   "id": "68ecac56",
   "metadata": {},
   "outputs": [],
   "source": []
  },
  {
   "cell_type": "code",
   "execution_count": null,
   "id": "afa3af75",
   "metadata": {},
   "outputs": [],
   "source": []
  },
  {
   "cell_type": "code",
   "execution_count": null,
   "id": "15e0c116",
   "metadata": {},
   "outputs": [],
   "source": []
  },
  {
   "cell_type": "code",
   "execution_count": null,
   "id": "0febf1ff",
   "metadata": {},
   "outputs": [],
   "source": []
  },
  {
   "cell_type": "code",
   "execution_count": null,
   "id": "c8cb169d",
   "metadata": {},
   "outputs": [],
   "source": []
  },
  {
   "cell_type": "code",
   "execution_count": null,
   "id": "406785be",
   "metadata": {},
   "outputs": [],
   "source": []
  },
  {
   "cell_type": "code",
   "execution_count": null,
   "id": "bd76b277",
   "metadata": {},
   "outputs": [],
   "source": []
  },
  {
   "cell_type": "code",
   "execution_count": null,
   "id": "53f20693",
   "metadata": {},
   "outputs": [],
   "source": []
  }
 ],
 "metadata": {
  "kernelspec": {
   "display_name": "Python 3 (ipykernel)",
   "language": "python",
   "name": "python3"
  },
  "language_info": {
   "codemirror_mode": {
    "name": "ipython",
    "version": 3
   },
   "file_extension": ".py",
   "mimetype": "text/x-python",
   "name": "python",
   "nbconvert_exporter": "python",
   "pygments_lexer": "ipython3",
   "version": "3.11.4"
  }
 },
 "nbformat": 4,
 "nbformat_minor": 5
}
