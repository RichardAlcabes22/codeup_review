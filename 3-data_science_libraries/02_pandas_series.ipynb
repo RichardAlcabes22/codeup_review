{
 "cells": [
  {
   "cell_type": "code",
   "execution_count": 40,
   "id": "4dd849fc",
   "metadata": {},
   "outputs": [],
   "source": [
    "import pandas as pd\n",
    "import numpy as np\n",
    "import itertools as it\n",
    "import json\n",
    "import re\n",
    "from collections import Counter"
   ]
  },
  {
   "cell_type": "code",
   "execution_count": 2,
   "id": "7a06337a",
   "metadata": {},
   "outputs": [
    {
     "data": {
      "application/javascript": [
       "IPython.notebook.set_autosave_interval(0)"
      ]
     },
     "metadata": {},
     "output_type": "display_data"
    },
    {
     "name": "stdout",
     "output_type": "stream",
     "text": [
      "Autosave disabled\n"
     ]
    }
   ],
   "source": [
    "%autosave 0\n",
    "pd.set_option('display.max_columns', None)"
   ]
  },
  {
   "cell_type": "markdown",
   "id": "47c7afca",
   "metadata": {},
   "source": [
    "## Create a pd.Series from a List"
   ]
  },
  {
   "cell_type": "code",
   "execution_count": 3,
   "id": "cd78366e",
   "metadata": {},
   "outputs": [],
   "source": [
    "fruits = [\"kiwi\", \"mango\", \"strawberry\", \"pineapple\", \"gala apple\", \"honeycrisp apple\",\n",
    "          \"tomato\", \"watermelon\", \"honeydew\", \"kiwi\", \"kiwi\", \"kiwi\", \"mango\", \"blueberry\", \"blackberry\",\n",
    "          \"gooseberry\", \"papaya\"]"
   ]
  },
  {
   "cell_type": "code",
   "execution_count": 4,
   "id": "f60bf4b6",
   "metadata": {
    "collapsed": true
   },
   "outputs": [
    {
     "data": {
      "text/plain": [
       "['kiwi',\n",
       " 'mango',\n",
       " 'strawberry',\n",
       " 'pineapple',\n",
       " 'gala apple',\n",
       " 'honeycrisp apple',\n",
       " 'tomato',\n",
       " 'watermelon',\n",
       " 'honeydew',\n",
       " 'kiwi',\n",
       " 'kiwi',\n",
       " 'kiwi',\n",
       " 'mango',\n",
       " 'blueberry',\n",
       " 'blackberry',\n",
       " 'gooseberry',\n",
       " 'papaya']"
      ]
     },
     "execution_count": 4,
     "metadata": {},
     "output_type": "execute_result"
    }
   ],
   "source": [
    "fruits"
   ]
  },
  {
   "cell_type": "code",
   "execution_count": 4,
   "id": "e042450b",
   "metadata": {},
   "outputs": [],
   "source": [
    "fruit_series = pd.Series(fruits)"
   ]
  },
  {
   "cell_type": "code",
   "execution_count": 6,
   "id": "cc95ac25",
   "metadata": {
    "collapsed": true
   },
   "outputs": [
    {
     "data": {
      "text/plain": [
       "0                 kiwi\n",
       "1                mango\n",
       "2           strawberry\n",
       "3            pineapple\n",
       "4           gala apple\n",
       "5     honeycrisp apple\n",
       "6               tomato\n",
       "7           watermelon\n",
       "8             honeydew\n",
       "9                 kiwi\n",
       "10                kiwi\n",
       "11                kiwi\n",
       "12               mango\n",
       "13           blueberry\n",
       "14          blackberry\n",
       "15          gooseberry\n",
       "16              papaya\n",
       "dtype: object"
      ]
     },
     "execution_count": 6,
     "metadata": {},
     "output_type": "execute_result"
    }
   ],
   "source": [
    "fruit_series"
   ]
  },
  {
   "cell_type": "markdown",
   "id": "2dd279ce",
   "metadata": {},
   "source": [
    "## Determine the number of elements in FRUITS"
   ]
  },
  {
   "cell_type": "code",
   "execution_count": 7,
   "id": "7a5f71b9",
   "metadata": {},
   "outputs": [
    {
     "data": {
      "text/plain": [
       "17"
      ]
     },
     "execution_count": 7,
     "metadata": {},
     "output_type": "execute_result"
    }
   ],
   "source": [
    "fruit_series.count()"
   ]
  },
  {
   "cell_type": "markdown",
   "id": "f2325b5d",
   "metadata": {},
   "source": [
    "## Output only the index in FRUIT_SERIES"
   ]
  },
  {
   "cell_type": "code",
   "execution_count": 9,
   "id": "ec846471",
   "metadata": {},
   "outputs": [
    {
     "data": {
      "text/plain": [
       "RangeIndex(start=0, stop=17, step=1)"
      ]
     },
     "execution_count": 9,
     "metadata": {},
     "output_type": "execute_result"
    }
   ],
   "source": [
    "fruit_series.index"
   ]
  },
  {
   "cell_type": "markdown",
   "id": "92d993a6",
   "metadata": {},
   "source": [
    "## Output only the values in FRUIT_SERIES"
   ]
  },
  {
   "cell_type": "code",
   "execution_count": 5,
   "id": "90cc95dc",
   "metadata": {},
   "outputs": [
    {
     "data": {
      "text/plain": [
       "array(['kiwi', 'mango', 'strawberry', 'pineapple', 'gala apple',\n",
       "       'honeycrisp apple', 'tomato', 'watermelon', 'honeydew', 'kiwi',\n",
       "       'kiwi', 'kiwi', 'mango', 'blueberry', 'blackberry', 'gooseberry',\n",
       "       'papaya'], dtype=object)"
      ]
     },
     "execution_count": 5,
     "metadata": {},
     "output_type": "execute_result"
    }
   ],
   "source": [
    "fruit_series.values"
   ]
  },
  {
   "cell_type": "markdown",
   "id": "3ac7cb88",
   "metadata": {},
   "source": [
    "## Confirm the data type in FRUIT_SERIES"
   ]
  },
  {
   "cell_type": "code",
   "execution_count": 6,
   "id": "2e0f9a59",
   "metadata": {},
   "outputs": [
    {
     "data": {
      "text/plain": [
       "dtype('O')"
      ]
     },
     "execution_count": 6,
     "metadata": {},
     "output_type": "execute_result"
    }
   ],
   "source": [
    "fruit_series.dtype"
   ]
  },
  {
   "cell_type": "markdown",
   "id": "c32cbd66",
   "metadata": {},
   "source": [
    "## Output only first 5 values in FRUIT_SERIES"
   ]
  },
  {
   "cell_type": "code",
   "execution_count": 7,
   "id": "1d4a96ed",
   "metadata": {},
   "outputs": [
    {
     "data": {
      "text/plain": [
       "0          kiwi\n",
       "1         mango\n",
       "2    strawberry\n",
       "3     pineapple\n",
       "4    gala apple\n",
       "dtype: object"
      ]
     },
     "execution_count": 7,
     "metadata": {},
     "output_type": "execute_result"
    }
   ],
   "source": [
    "fruit_series.head()"
   ]
  },
  {
   "cell_type": "markdown",
   "id": "462dcda1",
   "metadata": {},
   "source": [
    "## Output onlylast 3 values in FRUIT_SERIES"
   ]
  },
  {
   "cell_type": "code",
   "execution_count": 8,
   "id": "7af47ba4",
   "metadata": {},
   "outputs": [
    {
     "data": {
      "text/plain": [
       "14    blackberry\n",
       "15    gooseberry\n",
       "16        papaya\n",
       "dtype: object"
      ]
     },
     "execution_count": 8,
     "metadata": {},
     "output_type": "execute_result"
    }
   ],
   "source": [
    "fruit_series.tail(3)"
   ]
  },
  {
   "cell_type": "markdown",
   "id": "bc36dad5",
   "metadata": {},
   "source": [
    "## Output 2 random values in FRUIT_SERIES"
   ]
  },
  {
   "cell_type": "code",
   "execution_count": 9,
   "id": "3feafc5b",
   "metadata": {},
   "outputs": [
    {
     "data": {
      "text/plain": [
       "2    strawberry\n",
       "7    watermelon\n",
       "dtype: object"
      ]
     },
     "execution_count": 9,
     "metadata": {},
     "output_type": "execute_result"
    }
   ],
   "source": [
    "fruit_series.sample(2)"
   ]
  },
  {
   "cell_type": "markdown",
   "id": "ac1194cf",
   "metadata": {},
   "source": [
    "## Run .describe() method on FRUIT_SERIES"
   ]
  },
  {
   "cell_type": "code",
   "execution_count": 10,
   "id": "0bc066b2",
   "metadata": {},
   "outputs": [
    {
     "data": {
      "text/plain": [
       "count       17\n",
       "unique      13\n",
       "top       kiwi\n",
       "freq         4\n",
       "dtype: object"
      ]
     },
     "execution_count": 10,
     "metadata": {},
     "output_type": "execute_result"
    }
   ],
   "source": [
    "fruit_series.describe()"
   ]
  },
  {
   "cell_type": "markdown",
   "id": "1ad1abaa",
   "metadata": {},
   "source": [
    "## Output only the UNIQUE values in FRUIT_SERIES"
   ]
  },
  {
   "cell_type": "code",
   "execution_count": 15,
   "id": "cf8441cc",
   "metadata": {},
   "outputs": [
    {
     "data": {
      "text/plain": [
       "array(['kiwi', 'mango', 'strawberry', 'pineapple', 'gala apple',\n",
       "       'honeycrisp apple', 'tomato', 'watermelon', 'honeydew',\n",
       "       'blueberry', 'blackberry', 'gooseberry', 'papaya'], dtype=object)"
      ]
     },
     "execution_count": 15,
     "metadata": {},
     "output_type": "execute_result"
    }
   ],
   "source": [
    "fruit_series.unique()"
   ]
  },
  {
   "cell_type": "code",
   "execution_count": 21,
   "id": "f24a4bb8",
   "metadata": {},
   "outputs": [
    {
     "data": {
      "text/plain": [
       "(13, 13)"
      ]
     },
     "execution_count": 21,
     "metadata": {},
     "output_type": "execute_result"
    }
   ],
   "source": [
    "fs_unique = pd.Series(fruit_series.unique())\n",
    "len(fs_unique),fs_unique.count()"
   ]
  },
  {
   "cell_type": "markdown",
   "id": "fdb125d2",
   "metadata": {},
   "source": [
    "## Count occurance of the UNIQUE values in FRUIT_SERIES"
   ]
  },
  {
   "cell_type": "code",
   "execution_count": 22,
   "id": "596ba693",
   "metadata": {},
   "outputs": [
    {
     "data": {
      "text/plain": [
       "kiwi                4\n",
       "mango               2\n",
       "strawberry          1\n",
       "pineapple           1\n",
       "gala apple          1\n",
       "honeycrisp apple    1\n",
       "tomato              1\n",
       "watermelon          1\n",
       "honeydew            1\n",
       "blueberry           1\n",
       "blackberry          1\n",
       "gooseberry          1\n",
       "papaya              1\n",
       "dtype: int64"
      ]
     },
     "execution_count": 22,
     "metadata": {},
     "output_type": "execute_result"
    }
   ],
   "source": [
    "fruit_series.value_counts()"
   ]
  },
  {
   "cell_type": "markdown",
   "id": "34611934",
   "metadata": {},
   "source": [
    "## What value occurs most frequently in FRUIT_SERIES?"
   ]
  },
  {
   "cell_type": "code",
   "execution_count": 24,
   "id": "cd9c2574",
   "metadata": {},
   "outputs": [
    {
     "data": {
      "text/plain": [
       "kiwi    4\n",
       "dtype: int64"
      ]
     },
     "execution_count": 24,
     "metadata": {},
     "output_type": "execute_result"
    }
   ],
   "source": [
    "fruit_series.value_counts().nlargest(n=1)"
   ]
  },
  {
   "cell_type": "markdown",
   "id": "abb048ff",
   "metadata": {},
   "source": [
    "## What value occurs least frequently in FRUIT_SERIES?"
   ]
  },
  {
   "cell_type": "code",
   "execution_count": 27,
   "id": "5cf2aefc",
   "metadata": {},
   "outputs": [
    {
     "data": {
      "text/plain": [
       "strawberry          1\n",
       "pineapple           1\n",
       "gala apple          1\n",
       "honeycrisp apple    1\n",
       "tomato              1\n",
       "watermelon          1\n",
       "honeydew            1\n",
       "blueberry           1\n",
       "blackberry          1\n",
       "gooseberry          1\n",
       "papaya              1\n",
       "dtype: int64"
      ]
     },
     "execution_count": 27,
     "metadata": {},
     "output_type": "execute_result"
    }
   ],
   "source": [
    "fruit_series.value_counts().nsmallest(n=1,keep='all')"
   ]
  },
  {
   "cell_type": "markdown",
   "id": "084183a1",
   "metadata": {},
   "source": [
    "# PART II"
   ]
  },
  {
   "cell_type": "markdown",
   "id": "64289e1c",
   "metadata": {},
   "source": [
    "## Capitalize all string values in FRUIT_SERIES"
   ]
  },
  {
   "cell_type": "code",
   "execution_count": 28,
   "id": "28063840",
   "metadata": {},
   "outputs": [
    {
     "data": {
      "text/plain": [
       "0                 KIWI\n",
       "1                MANGO\n",
       "2           STRAWBERRY\n",
       "3            PINEAPPLE\n",
       "4           GALA APPLE\n",
       "5     HONEYCRISP APPLE\n",
       "6               TOMATO\n",
       "7           WATERMELON\n",
       "8             HONEYDEW\n",
       "9                 KIWI\n",
       "10                KIWI\n",
       "11                KIWI\n",
       "12               MANGO\n",
       "13           BLUEBERRY\n",
       "14          BLACKBERRY\n",
       "15          GOOSEBERRY\n",
       "16              PAPAYA\n",
       "dtype: object"
      ]
     },
     "execution_count": 28,
     "metadata": {},
     "output_type": "execute_result"
    }
   ],
   "source": [
    "fruit_series.str.upper()"
   ]
  },
  {
   "cell_type": "code",
   "execution_count": 29,
   "id": "7f4825ec",
   "metadata": {},
   "outputs": [
    {
     "data": {
      "text/plain": [
       "0                 Kiwi\n",
       "1                Mango\n",
       "2           Strawberry\n",
       "3            Pineapple\n",
       "4           Gala Apple\n",
       "5     Honeycrisp Apple\n",
       "6               Tomato\n",
       "7           Watermelon\n",
       "8             Honeydew\n",
       "9                 Kiwi\n",
       "10                Kiwi\n",
       "11                Kiwi\n",
       "12               Mango\n",
       "13           Blueberry\n",
       "14          Blackberry\n",
       "15          Gooseberry\n",
       "16              Papaya\n",
       "dtype: object"
      ]
     },
     "execution_count": 29,
     "metadata": {},
     "output_type": "execute_result"
    }
   ],
   "source": [
    "fruit_series.str.title()"
   ]
  },
  {
   "cell_type": "markdown",
   "id": "9277981f",
   "metadata": {},
   "source": [
    "## Count the occurance of letter 'A' in all strings"
   ]
  },
  {
   "cell_type": "code",
   "execution_count": 35,
   "id": "d3ef0d63",
   "metadata": {},
   "outputs": [
    {
     "data": {
      "text/plain": [
       "0"
      ]
     },
     "execution_count": 35,
     "metadata": {},
     "output_type": "execute_result"
    }
   ],
   "source": [
    "fruit_series[0].count('a')"
   ]
  },
  {
   "cell_type": "code",
   "execution_count": 39,
   "id": "6ad68b0e",
   "metadata": {},
   "outputs": [
    {
     "data": {
      "text/plain": [
       "1"
      ]
     },
     "execution_count": 39,
     "metadata": {},
     "output_type": "execute_result"
    }
   ],
   "source": [
    "fruit_series[1].count('a')"
   ]
  },
  {
   "cell_type": "code",
   "execution_count": 44,
   "id": "1d36e5e5",
   "metadata": {},
   "outputs": [],
   "source": [
    "# counter = Counter(fruit_series[1])\n",
    "\n",
    "# counter['a']"
   ]
  },
  {
   "cell_type": "code",
   "execution_count": 52,
   "id": "50216a6b",
   "metadata": {},
   "outputs": [],
   "source": [
    "fruit_series_a_counts = [fruit_series[i].count('a') for i in range(0,len(fruit_series))]"
   ]
  },
  {
   "cell_type": "code",
   "execution_count": 60,
   "id": "a6bce1b3",
   "metadata": {},
   "outputs": [],
   "source": [
    "fruit_series_a_counts = np.array(fruit_series_a_counts)"
   ]
  },
  {
   "cell_type": "code",
   "execution_count": 61,
   "id": "95906498",
   "metadata": {},
   "outputs": [
    {
     "data": {
      "text/plain": [
       "array([0, 1, 1, 1, 3, 1, 1, 1, 0, 0, 0, 0, 1, 0, 1, 0, 3])"
      ]
     },
     "execution_count": 61,
     "metadata": {},
     "output_type": "execute_result"
    }
   ],
   "source": [
    "fruit_series_a_counts"
   ]
  },
  {
   "cell_type": "code",
   "execution_count": 62,
   "id": "085e1621",
   "metadata": {},
   "outputs": [
    {
     "data": {
      "text/plain": [
       "14"
      ]
     },
     "execution_count": 62,
     "metadata": {},
     "output_type": "execute_result"
    }
   ],
   "source": [
    "fruit_series_a_counts.sum()"
   ]
  },
  {
   "cell_type": "markdown",
   "id": "72392013",
   "metadata": {},
   "source": [
    "## Count the occurance of VOWELS in each string"
   ]
  },
  {
   "cell_type": "code",
   "execution_count": 65,
   "id": "ce710ee4",
   "metadata": {},
   "outputs": [],
   "source": [
    "fruit_series_a_counts = np.array([fruit_series[i].count('a') for i in range(0,len(fruit_series))])\n",
    "fruit_series_e_counts = np.array([fruit_series[i].count('e') for i in range(0,len(fruit_series))])\n",
    "fruit_series_i_counts = np.array([fruit_series[i].count('i') for i in range(0,len(fruit_series))])\n",
    "fruit_series_o_counts = np.array([fruit_series[i].count('o') for i in range(0,len(fruit_series))])\n",
    "fruit_series_u_counts = np.array([fruit_series[i].count('u') for i in range(0,len(fruit_series))])"
   ]
  },
  {
   "cell_type": "code",
   "execution_count": 66,
   "id": "9d332093",
   "metadata": {},
   "outputs": [
    {
     "data": {
      "text/plain": [
       "0     2\n",
       "1     2\n",
       "2     2\n",
       "3     4\n",
       "4     4\n",
       "5     5\n",
       "6     3\n",
       "7     4\n",
       "8     3\n",
       "9     2\n",
       "10    2\n",
       "11    2\n",
       "12    2\n",
       "13    3\n",
       "14    2\n",
       "15    4\n",
       "16    3\n",
       "dtype: int64"
      ]
     },
     "execution_count": 66,
     "metadata": {},
     "output_type": "execute_result"
    }
   ],
   "source": [
    "pd.Series([fruit_series_a_counts[i]+fruit_series_e_counts[i]+fruit_series_i_counts[i]+\n",
    "           fruit_series_o_counts[i]+fruit_series_u_counts[i] for i in range(0,len(fruit_series))])"
   ]
  },
  {
   "cell_type": "markdown",
   "id": "33c8dc6c",
   "metadata": {},
   "source": [
    "## Return the longest String Value from FRUITS"
   ]
  },
  {
   "cell_type": "code",
   "execution_count": 69,
   "id": "b252c277",
   "metadata": {},
   "outputs": [
    {
     "data": {
      "text/plain": [
       "4"
      ]
     },
     "execution_count": 69,
     "metadata": {},
     "output_type": "execute_result"
    }
   ],
   "source": [
    "len(fruit_series[0])"
   ]
  },
  {
   "cell_type": "code",
   "execution_count": 71,
   "id": "0f442bff",
   "metadata": {},
   "outputs": [],
   "source": [
    "lenths = pd.Series([len(fruit_series[i]) for i in range(0,len(fruit_series))])"
   ]
  },
  {
   "cell_type": "code",
   "execution_count": 72,
   "id": "63d862b0",
   "metadata": {},
   "outputs": [
    {
     "data": {
      "text/plain": [
       "0      4\n",
       "1      5\n",
       "2     10\n",
       "3      9\n",
       "4     10\n",
       "5     16\n",
       "6      6\n",
       "7     10\n",
       "8      8\n",
       "9      4\n",
       "10     4\n",
       "11     4\n",
       "12     5\n",
       "13     9\n",
       "14    10\n",
       "15    10\n",
       "16     6\n",
       "dtype: int64"
      ]
     },
     "execution_count": 72,
     "metadata": {},
     "output_type": "execute_result"
    }
   ],
   "source": [
    "lenths"
   ]
  },
  {
   "cell_type": "code",
   "execution_count": 85,
   "id": "c41594a6",
   "metadata": {},
   "outputs": [
    {
     "data": {
      "text/plain": [
       "5    16\n",
       "dtype: int64"
      ]
     },
     "execution_count": 85,
     "metadata": {},
     "output_type": "execute_result"
    }
   ],
   "source": [
    "lenths.nlargest(n=1)"
   ]
  },
  {
   "cell_type": "code",
   "execution_count": 86,
   "id": "9a24ffa2",
   "metadata": {},
   "outputs": [
    {
     "data": {
      "text/plain": [
       "Int64Index([5], dtype='int64')"
      ]
     },
     "execution_count": 86,
     "metadata": {},
     "output_type": "execute_result"
    }
   ],
   "source": [
    "lenths.nlargest(n=1).index"
   ]
  },
  {
   "cell_type": "code",
   "execution_count": 87,
   "id": "2cb820a7",
   "metadata": {},
   "outputs": [
    {
     "data": {
      "text/plain": [
       "5    honeycrisp apple\n",
       "dtype: object"
      ]
     },
     "execution_count": 87,
     "metadata": {},
     "output_type": "execute_result"
    }
   ],
   "source": [
    "fruit_series[lenths.nlargest(n=1).index]"
   ]
  },
  {
   "cell_type": "markdown",
   "id": "10e9bc6a",
   "metadata": {},
   "source": [
    "## Return the String Values from FRUITS where len >= 5"
   ]
  },
  {
   "cell_type": "code",
   "execution_count": 88,
   "id": "54bb93d6",
   "metadata": {},
   "outputs": [
    {
     "data": {
      "text/plain": [
       "1      5\n",
       "2     10\n",
       "3      9\n",
       "4     10\n",
       "5     16\n",
       "6      6\n",
       "7     10\n",
       "8      8\n",
       "12     5\n",
       "13     9\n",
       "14    10\n",
       "15    10\n",
       "16     6\n",
       "dtype: int64"
      ]
     },
     "execution_count": 88,
     "metadata": {},
     "output_type": "execute_result"
    }
   ],
   "source": [
    "lenths[lenths >= 5]"
   ]
  },
  {
   "cell_type": "code",
   "execution_count": 89,
   "id": "839f46c1",
   "metadata": {},
   "outputs": [
    {
     "data": {
      "text/plain": [
       "1                mango\n",
       "2           strawberry\n",
       "3            pineapple\n",
       "4           gala apple\n",
       "5     honeycrisp apple\n",
       "6               tomato\n",
       "7           watermelon\n",
       "8             honeydew\n",
       "12               mango\n",
       "13           blueberry\n",
       "14          blackberry\n",
       "15          gooseberry\n",
       "16              papaya\n",
       "dtype: object"
      ]
     },
     "execution_count": 89,
     "metadata": {},
     "output_type": "execute_result"
    }
   ],
   "source": [
    "fruit_series[lenths >= 5]"
   ]
  },
  {
   "cell_type": "markdown",
   "id": "f2702666",
   "metadata": {},
   "source": [
    "## Return the String Values from FRUITS where 'o' occurs 2 or more times"
   ]
  },
  {
   "cell_type": "code",
   "execution_count": 91,
   "id": "e125976a",
   "metadata": {},
   "outputs": [],
   "source": [
    "fruit_series_o_counts = pd.Series(fruit_series_o_counts)"
   ]
  },
  {
   "cell_type": "code",
   "execution_count": 92,
   "id": "b4573506",
   "metadata": {},
   "outputs": [
    {
     "data": {
      "text/plain": [
       "0     0\n",
       "1     1\n",
       "2     0\n",
       "3     0\n",
       "4     0\n",
       "5     1\n",
       "6     2\n",
       "7     1\n",
       "8     1\n",
       "9     0\n",
       "10    0\n",
       "11    0\n",
       "12    1\n",
       "13    0\n",
       "14    0\n",
       "15    2\n",
       "16    0\n",
       "dtype: int64"
      ]
     },
     "execution_count": 92,
     "metadata": {},
     "output_type": "execute_result"
    }
   ],
   "source": [
    "fruit_series_o_counts"
   ]
  },
  {
   "cell_type": "code",
   "execution_count": 93,
   "id": "8069de90",
   "metadata": {},
   "outputs": [
    {
     "data": {
      "text/plain": [
       "6         tomato\n",
       "15    gooseberry\n",
       "dtype: object"
      ]
     },
     "execution_count": 93,
     "metadata": {},
     "output_type": "execute_result"
    }
   ],
   "source": [
    "fruit_series[fruit_series_o_counts >= 2]"
   ]
  },
  {
   "cell_type": "code",
   "execution_count": null,
   "id": "f2f80ae3",
   "metadata": {},
   "outputs": [],
   "source": []
  },
  {
   "cell_type": "code",
   "execution_count": null,
   "id": "a9756159",
   "metadata": {},
   "outputs": [],
   "source": []
  },
  {
   "cell_type": "code",
   "execution_count": null,
   "id": "bd76b277",
   "metadata": {},
   "outputs": [],
   "source": []
  },
  {
   "cell_type": "code",
   "execution_count": null,
   "id": "53f20693",
   "metadata": {},
   "outputs": [],
   "source": []
  }
 ],
 "metadata": {
  "kernelspec": {
   "display_name": "Python 3 (ipykernel)",
   "language": "python",
   "name": "python3"
  },
  "language_info": {
   "codemirror_mode": {
    "name": "ipython",
    "version": 3
   },
   "file_extension": ".py",
   "mimetype": "text/x-python",
   "name": "python",
   "nbconvert_exporter": "python",
   "pygments_lexer": "ipython3",
   "version": "3.11.4"
  }
 },
 "nbformat": 4,
 "nbformat_minor": 5
}
