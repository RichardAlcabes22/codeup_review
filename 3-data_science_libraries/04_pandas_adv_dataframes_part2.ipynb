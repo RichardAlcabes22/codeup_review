{
 "cells": [
  {
   "cell_type": "code",
   "execution_count": null,
   "id": "d0357e8f",
   "metadata": {},
   "outputs": [],
   "source": [
    "import pandas as pd\n",
    "import numpy as np\n",
    "\n",
    "np.random.seed(123)"
   ]
  },
  {
   "cell_type": "markdown",
   "id": "c880fa4b",
   "metadata": {},
   "source": [
    "## Exercises III\n",
    "\n",
    "1. Use your `get_db_url` function to help you explore the data from the `chipotle` database."
   ]
  },
  {
   "cell_type": "markdown",
   "id": "90401015",
   "metadata": {},
   "source": []
  },
  {
   "cell_type": "markdown",
   "id": "b74cc603",
   "metadata": {},
   "source": []
  },
  {
   "cell_type": "markdown",
   "id": "2c5bba80",
   "metadata": {},
   "source": []
  },
  {
   "cell_type": "markdown",
   "id": "200eaa41",
   "metadata": {},
   "source": []
  },
  {
   "cell_type": "markdown",
   "id": "d315303c",
   "metadata": {},
   "source": []
  },
  {
   "cell_type": "markdown",
   "id": "4678af54",
   "metadata": {},
   "source": []
  }
 ],
 "metadata": {
  "kernelspec": {
   "display_name": "Python 3 (ipykernel)",
   "language": "python",
   "name": "python3"
  },
  "language_info": {
   "codemirror_mode": {
    "name": "ipython",
    "version": 3
   },
   "file_extension": ".py",
   "mimetype": "text/x-python",
   "name": "python",
   "nbconvert_exporter": "python",
   "pygments_lexer": "ipython3",
   "version": "3.11.4"
  }
 },
 "nbformat": 4,
 "nbformat_minor": 5
}
