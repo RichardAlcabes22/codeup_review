{
 "cells": [
  {
   "cell_type": "markdown",
   "id": "e232fbf7",
   "metadata": {},
   "source": [
    "# Matplotlib\n",
    "\n",
    "Matplotlib is the de-facto library used in Python to create visualizations.\n",
    "\n",
    "There are two common approaches to plotting with Matplotlib.\n",
    "\n",
    "1. The pyplot API: pyplot is mainly intended for interactive plots and simple cases of programmatic plot generation.\n",
    "2. The object-oriented API: At its core, Matplotlib is object-oriented and this interface allows more control and customization of your plots.\n",
    "\n",
    "In this lesson, we will focus on pyplot interface only.\n",
    "\n",
    "## Line and Scatter Charts\n",
    "\n",
    "Convention is to import the `pyplot` module as `plt`.\n",
    "\n",
    "`import matplotlib.pyplot as plt`\n",
    "\n",
    "`print(plt)`"
   ]
  },
  {
   "cell_type": "markdown",
   "id": "8932cc14",
   "metadata": {},
   "source": []
  },
  {
   "cell_type": "markdown",
   "id": "ec6dd4d7",
   "metadata": {},
   "source": []
  },
  {
   "cell_type": "code",
   "execution_count": null,
   "id": "0f7a9d22",
   "metadata": {},
   "outputs": [],
   "source": []
  },
  {
   "cell_type": "code",
   "execution_count": null,
   "id": "333aac31",
   "metadata": {},
   "outputs": [],
   "source": []
  },
  {
   "cell_type": "code",
   "execution_count": null,
   "id": "5f9e840d",
   "metadata": {},
   "outputs": [],
   "source": []
  },
  {
   "cell_type": "code",
   "execution_count": null,
   "id": "02f0f7e7",
   "metadata": {},
   "outputs": [],
   "source": []
  },
  {
   "cell_type": "code",
   "execution_count": null,
   "id": "f6624b8f",
   "metadata": {},
   "outputs": [],
   "source": []
  }
 ],
 "metadata": {
  "kernelspec": {
   "display_name": "Python 3 (ipykernel)",
   "language": "python",
   "name": "python3"
  },
  "language_info": {
   "codemirror_mode": {
    "name": "ipython",
    "version": 3
   },
   "file_extension": ".py",
   "mimetype": "text/x-python",
   "name": "python",
   "nbconvert_exporter": "python",
   "pygments_lexer": "ipython3",
   "version": "3.11.4"
  }
 },
 "nbformat": 4,
 "nbformat_minor": 5
}
