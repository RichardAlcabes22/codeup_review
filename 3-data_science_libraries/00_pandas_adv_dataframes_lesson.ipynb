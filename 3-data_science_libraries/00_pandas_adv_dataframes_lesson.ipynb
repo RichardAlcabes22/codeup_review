{
 "cells": [
  {
   "cell_type": "code",
   "execution_count": 1,
   "id": "6128f38d",
   "metadata": {},
   "outputs": [],
   "source": [
    "import pandas as pd\n",
    "import numpy as np\n",
    "\n",
    "np.random.seed(123)"
   ]
  },
  {
   "cell_type": "code",
   "execution_count": 2,
   "id": "279fe8a5",
   "metadata": {},
   "outputs": [],
   "source": [
    "# Create list of values for names column.\n",
    "\n",
    "students = ['Sally', 'Jane', 'Suzie', 'Billy', 'Ada', 'John', 'Thomas',\n",
    "            'Marie', 'Albert', 'Richard', 'Isaac', 'Alan']\n",
    "\n",
    "# Randomly generate arrays of scores for each student for each subject.\n",
    "# Note that all the values need to have the same length here.\n",
    "\n",
    "math_grades = np.random.randint(low=60, high=100, size=len(students))\n",
    "english_grades = np.random.randint(low=60, high=100, size=len(students))\n",
    "reading_grades = np.random.randint(low=60, high=100, size=len(students))"
   ]
  },
  {
   "cell_type": "code",
   "execution_count": 3,
   "id": "1576c09d",
   "metadata": {},
   "outputs": [],
   "source": [
    "# Construct the DataFrame using the above lists and arrays.\n",
    "\n",
    "df = pd.DataFrame({'name': students,\n",
    "                   'math': math_grades,\n",
    "                   'english': english_grades,\n",
    "                   'reading': reading_grades,\n",
    "                   'classroom': np.random.choice(['A', 'B'], len(students))})"
   ]
  },
  {
   "cell_type": "markdown",
   "id": "816f00dd",
   "metadata": {},
   "source": [
    "## Creating Dataframes\n",
    "\n",
    "### From Lists and Dictionaries\n",
    "\n",
    "There are several ways to create dataframes, we've already seen how we can create a dataframe from a dictionary:"
   ]
  },
  {
   "cell_type": "code",
   "execution_count": 4,
   "id": "30d1ec84",
   "metadata": {},
   "outputs": [
    {
     "data": {
      "text/html": [
       "<div>\n",
       "<style scoped>\n",
       "    .dataframe tbody tr th:only-of-type {\n",
       "        vertical-align: middle;\n",
       "    }\n",
       "\n",
       "    .dataframe tbody tr th {\n",
       "        vertical-align: top;\n",
       "    }\n",
       "\n",
       "    .dataframe thead th {\n",
       "        text-align: right;\n",
       "    }\n",
       "</style>\n",
       "<table border=\"1\" class=\"dataframe\">\n",
       "  <thead>\n",
       "    <tr style=\"text-align: right;\">\n",
       "      <th></th>\n",
       "      <th>A</th>\n",
       "      <th>B</th>\n",
       "    </tr>\n",
       "  </thead>\n",
       "  <tbody>\n",
       "    <tr>\n",
       "      <th>0</th>\n",
       "      <td>1</td>\n",
       "      <td>4</td>\n",
       "    </tr>\n",
       "    <tr>\n",
       "      <th>1</th>\n",
       "      <td>2</td>\n",
       "      <td>5</td>\n",
       "    </tr>\n",
       "    <tr>\n",
       "      <th>2</th>\n",
       "      <td>3</td>\n",
       "      <td>6</td>\n",
       "    </tr>\n",
       "  </tbody>\n",
       "</table>\n",
       "</div>"
      ],
      "text/plain": [
       "   A  B\n",
       "0  1  4\n",
       "1  2  5\n",
       "2  3  6"
      ]
     },
     "execution_count": 4,
     "metadata": {},
     "output_type": "execute_result"
    }
   ],
   "source": [
    "pd.DataFrame({'A': [1,2,3], 'B': [4,5,6]})"
   ]
  },
  {
   "cell_type": "markdown",
   "id": "2628740d",
   "metadata": {},
   "source": [
    "The keys in the passed dictionary will be the column names, and the values are the data points that make up each column.\n",
    "\n",
    "We can also create dataframes from a 2d data structure, either a numpy array or a list of lists:"
   ]
  },
  {
   "cell_type": "code",
   "execution_count": 5,
   "id": "2fdfefd4",
   "metadata": {},
   "outputs": [
    {
     "data": {
      "text/html": [
       "<div>\n",
       "<style scoped>\n",
       "    .dataframe tbody tr th:only-of-type {\n",
       "        vertical-align: middle;\n",
       "    }\n",
       "\n",
       "    .dataframe tbody tr th {\n",
       "        vertical-align: top;\n",
       "    }\n",
       "\n",
       "    .dataframe thead th {\n",
       "        text-align: right;\n",
       "    }\n",
       "</style>\n",
       "<table border=\"1\" class=\"dataframe\">\n",
       "  <thead>\n",
       "    <tr style=\"text-align: right;\">\n",
       "      <th></th>\n",
       "      <th>0</th>\n",
       "      <th>1</th>\n",
       "      <th>2</th>\n",
       "    </tr>\n",
       "  </thead>\n",
       "  <tbody>\n",
       "    <tr>\n",
       "      <th>0</th>\n",
       "      <td>1</td>\n",
       "      <td>2</td>\n",
       "      <td>3</td>\n",
       "    </tr>\n",
       "    <tr>\n",
       "      <th>1</th>\n",
       "      <td>4</td>\n",
       "      <td>5</td>\n",
       "      <td>6</td>\n",
       "    </tr>\n",
       "  </tbody>\n",
       "</table>\n",
       "</div>"
      ],
      "text/plain": [
       "   0  1  2\n",
       "0  1  2  3\n",
       "1  4  5  6"
      ]
     },
     "execution_count": 5,
     "metadata": {},
     "output_type": "execute_result"
    }
   ],
   "source": [
    "pd.DataFrame([[1,2,3],[4,5,6]])"
   ]
  },
  {
   "cell_type": "code",
   "execution_count": 6,
   "id": "86ff23d8",
   "metadata": {},
   "outputs": [
    {
     "data": {
      "text/html": [
       "<div>\n",
       "<style scoped>\n",
       "    .dataframe tbody tr th:only-of-type {\n",
       "        vertical-align: middle;\n",
       "    }\n",
       "\n",
       "    .dataframe tbody tr th {\n",
       "        vertical-align: top;\n",
       "    }\n",
       "\n",
       "    .dataframe thead th {\n",
       "        text-align: right;\n",
       "    }\n",
       "</style>\n",
       "<table border=\"1\" class=\"dataframe\">\n",
       "  <thead>\n",
       "    <tr style=\"text-align: right;\">\n",
       "      <th></th>\n",
       "      <th>a</th>\n",
       "      <th>b</th>\n",
       "      <th>c</th>\n",
       "    </tr>\n",
       "  </thead>\n",
       "  <tbody>\n",
       "    <tr>\n",
       "      <th>0</th>\n",
       "      <td>1</td>\n",
       "      <td>2</td>\n",
       "      <td>3</td>\n",
       "    </tr>\n",
       "    <tr>\n",
       "      <th>1</th>\n",
       "      <td>4</td>\n",
       "      <td>5</td>\n",
       "      <td>6</td>\n",
       "    </tr>\n",
       "  </tbody>\n",
       "</table>\n",
       "</div>"
      ],
      "text/plain": [
       "   a  b  c\n",
       "0  1  2  3\n",
       "1  4  5  6"
      ]
     },
     "execution_count": 6,
     "metadata": {},
     "output_type": "execute_result"
    }
   ],
   "source": [
    "array = np.array([[1, 2, 3], [4, 5, 6]])\n",
    "\n",
    "pd.DataFrame(array, columns=['a', 'b', 'c'])"
   ]
  },
  {
   "cell_type": "markdown",
   "id": "a022569d",
   "metadata": {},
   "source": [
    "Notice here that we had to specify the names of the columns ourselves.Notice here that we had to specify the names of the columns ourselves.\n",
    "\n",
    "### From SQL\n",
    "\n",
    "We can use the `read_sql` method to create a dataframe based on the results of a SQL query. To do this, we need to tell pandas how to connect to the database we are querying. The way we communicate this to pandas is with a specially formatted *connection string*.\n",
    "\n",
    "In addition, whenever we want to connect to a database from our python code (other programming languages are similar), we will need a **driver**, a bit of software that handles the details of the database connection.\n",
    "\n",
    "In order to connect to mysql, we'll install the `pymysql` driver packages:\n",
    "\n",
    "`python -m pip install pymysql`\n",
    "\n",
    "Once those are installed, we can create the connection string. In general, database connection urls will have this format:\n",
    "\n",
    "`protocol://[user[:password]@]hostname/[database_name]`\n",
    "\n",
    "Here's an example of what one would look like:\n",
    "\n",
    "`mysql+pymysql://codeup:p@assw0rd@123.123.123.123/some_db`\n",
    "\n",
    "Another thing we need to consider is that we don't want to publish our database credentials to github, however, we will need access to these values in our code in order to create the connection string defined above.\n",
    "\n",
    "In order to accomplish this, we can define several variables in a file named `env.py` that contain the sensitive data, add `env.py` to our `.gitignore` file, and then import those values into another script.\n",
    "\n",
    "**Be 100% sure to add `env.py` to this specific repository's `.gitignore` file, even and especially, if you have already added `env.py` to your global .gitignore file. This will protect the env file for people who clone this project (like collaborators)**\n",
    "\n",
    "`from env import host, user, password`\n",
    "\n",
    "`url = f'mysql+pymysql://{user}:{password}@{host}/employees'`\n",
    "\n",
    "Now that the url is defined, we need to define our SQL query.\n",
    "\n",
    "Once these two elements are defined, we can use them with the `read_sql` function to have pandas treat the results of a SQL query as a dataframe.\n",
    "\n",
    "`query = 'SELECT * FROM employees LIMIT 5 OFFSET 50'`\n",
    "\n",
    "`pd.read_sql(query, url)`\n",
    "\n",
    "|  | emp_no | birth_date | first_name | last_name | gender | hire_date |\n",
    "| --- | --- | --- | --- | --- | --- | --- |\n",
    "| 0 | 10051 | 1953-07-28 | Hidefumi | Caine | M | 1992-10-15 |\n",
    "| 1 | 10052 | 1961-02-26 | Heping | Nitsch | M | 1988-05-21 |\n",
    "| 2 | 10053 | 1954-09-13 | Sanjiv | Zschoche | F | 1986-02-04 |\n",
    "| 3 | 10054 | 1957-04-04 | Mayumi | Schueller | M | 1995-03-13 |\n",
    "| 4 | 10055 | 1956-06-06 | Georgy | Dredge | M | 1992-04-27 |\n",
    "\n",
    "It is common to have longer SQL queries that we want to read into python, and an example of how we might break a query into several lines is below:"
   ]
  },
  {
   "cell_type": "code",
   "execution_count": 7,
   "id": "3783747f",
   "metadata": {},
   "outputs": [
    {
     "ename": "NameError",
     "evalue": "name 'text' is not defined",
     "output_type": "error",
     "traceback": [
      "\u001b[0;31m---------------------------------------------------------------------------\u001b[0m",
      "\u001b[0;31mNameError\u001b[0m                                 Traceback (most recent call last)",
      "Cell \u001b[0;32mIn[7], line 11\u001b[0m\n\u001b[1;32m      1\u001b[0m sql \u001b[38;5;241m=\u001b[39m \u001b[38;5;124m'''\u001b[39m\n\u001b[1;32m      2\u001b[0m \u001b[38;5;124mSELECT\u001b[39m\n\u001b[1;32m      3\u001b[0m \u001b[38;5;124m    emp_no,\u001b[39m\n\u001b[0;32m   (...)\u001b[0m\n\u001b[1;32m      8\u001b[0m \u001b[38;5;124mLIMIT 100\u001b[39m\n\u001b[1;32m      9\u001b[0m \u001b[38;5;124m'''\u001b[39m\n\u001b[0;32m---> 11\u001b[0m employees \u001b[38;5;241m=\u001b[39m pd\u001b[38;5;241m.\u001b[39mread_sql(text(sql), engine\u001b[38;5;241m.\u001b[39mconnect())\n\u001b[1;32m     12\u001b[0m employees\u001b[38;5;241m.\u001b[39mhead()\n",
      "\u001b[0;31mNameError\u001b[0m: name 'text' is not defined"
     ]
    }
   ],
   "source": [
    "sql = '''\n",
    "SELECT\n",
    "    emp_no,\n",
    "    first_name,\n",
    "    last_name\n",
    "FROM employees\n",
    "WHERE gender = 'F'\n",
    "LIMIT 100\n",
    "'''\n",
    "\n",
    "employees = pd.read_sql(text(sql), engine.connect())\n",
    "employees.head()"
   ]
  },
  {
   "cell_type": "markdown",
   "id": "44cbc652",
   "metadata": {},
   "source": [
    "**Passwords and Sensitive Information**\n",
    "\n",
    "Don't add and commit files with passwords or other sensitive information in them to a git repository!"
   ]
  },
  {
   "cell_type": "code",
   "execution_count": 8,
   "id": "1677c144",
   "metadata": {},
   "outputs": [
    {
     "ename": "NameError",
     "evalue": "name 'text' is not defined",
     "output_type": "error",
     "traceback": [
      "\u001b[0;31m---------------------------------------------------------------------------\u001b[0m",
      "\u001b[0;31mNameError\u001b[0m                                 Traceback (most recent call last)",
      "Cell \u001b[0;32mIn[8], line 11\u001b[0m\n\u001b[1;32m      1\u001b[0m query \u001b[38;5;241m=\u001b[39m \u001b[38;5;124m'''\u001b[39m\n\u001b[1;32m      2\u001b[0m \u001b[38;5;124mSELECT\u001b[39m\n\u001b[1;32m      3\u001b[0m \u001b[38;5;124m    t.title as title,\u001b[39m\n\u001b[0;32m   (...)\u001b[0m\n\u001b[1;32m      8\u001b[0m \u001b[38;5;124mLIMIT 100\u001b[39m\n\u001b[1;32m      9\u001b[0m \u001b[38;5;124m'''\u001b[39m\n\u001b[0;32m---> 11\u001b[0m title_dept \u001b[38;5;241m=\u001b[39m pd\u001b[38;5;241m.\u001b[39mread_sql(text(query), engine\u001b[38;5;241m.\u001b[39mconnect())\n\u001b[1;32m     12\u001b[0m title_dept\u001b[38;5;241m.\u001b[39mhead()\n",
      "\u001b[0;31mNameError\u001b[0m: name 'text' is not defined"
     ]
    }
   ],
   "source": [
    "query = '''\n",
    "SELECT\n",
    "    t.title as title,\n",
    "    d.dept_name as dept_name\n",
    "FROM titles t\n",
    "JOIN dept_emp USING (emp_no)\n",
    "JOIN departments d USING (dept_no)\n",
    "LIMIT 100\n",
    "'''\n",
    "\n",
    "title_dept = pd.read_sql(text(query), engine.connect())\n",
    "title_dept.head()"
   ]
  },
  {
   "cell_type": "markdown",
   "id": "86696a16",
   "metadata": {},
   "source": [
    "## Exercises I\n",
    "\n",
    "Run `python -m pip install pymysql` from your terminal to install pymysql.\n",
    "\n",
    "Create a notebook or python script named `advanced_dataframes` to do your work in for these exercises.\n",
    "\n",
    "1. Run `python -m pip install pymysql` from your terminal to install the mysql client (any folder is fine)\n",
    "2. cd into your exercises folder for this module and run `echo env.py >> .gitignore`\n",
    "3. Create a function named `get_db_url`. It should accept a username, hostname, password, and database name and return a url connection string formatted like in the example at the start of this lesson.\n",
    "4. Use your function to obtain a connection to the `employees` database.\n",
    "5. Once you have successfully run a query:\n",
    "    \n",
    "    a. Intentionally make a typo in the database url. What kind of error message do you see?\n",
    "    \n",
    "    b. Intentionally make an error in your SQL query. What does the error message look like?\n",
    "    \n",
    "6. Read the `employees` and `titles` tables into two separate DataFrames.\n",
    "7. How many rows and columns do you have in each DataFrame? Is that what you expected?\n",
    "8. Display the summary statistics for each DataFrame.\n",
    "9. How many unique titles are in the `titles` DataFrame?\n",
    "10. What is the oldest date in the `to_date` column?\n",
    "11. What is the most recent date in the `to_date` column?"
   ]
  },
  {
   "cell_type": "markdown",
   "id": "9a3542a4",
   "metadata": {},
   "source": [
    "## Indexing and Subsetting\n",
    "\n",
    "Like the pandas Series object, the pandas DataFrame object supports both position- and label-based indexing using the indexing operator `[]`.\n",
    "\n",
    "I will demonstrate concrete examples of indexing using the indexing operator `[]` alone and with the `.loc` and `.iloc` attributes below.\n",
    "\n",
    "### `[]`\n",
    "\n",
    "I can pass a list of columns from a DataFrame to the indexing operator (aka bracket notation) to return a subset of my original DataFrame."
   ]
  },
  {
   "cell_type": "code",
   "execution_count": 9,
   "id": "22078614",
   "metadata": {},
   "outputs": [
    {
     "data": {
      "text/html": [
       "<div>\n",
       "<style scoped>\n",
       "    .dataframe tbody tr th:only-of-type {\n",
       "        vertical-align: middle;\n",
       "    }\n",
       "\n",
       "    .dataframe tbody tr th {\n",
       "        vertical-align: top;\n",
       "    }\n",
       "\n",
       "    .dataframe thead th {\n",
       "        text-align: right;\n",
       "    }\n",
       "</style>\n",
       "<table border=\"1\" class=\"dataframe\">\n",
       "  <thead>\n",
       "    <tr style=\"text-align: right;\">\n",
       "      <th></th>\n",
       "      <th>name</th>\n",
       "      <th>classroom</th>\n",
       "    </tr>\n",
       "  </thead>\n",
       "  <tbody>\n",
       "    <tr>\n",
       "      <th>0</th>\n",
       "      <td>Sally</td>\n",
       "      <td>A</td>\n",
       "    </tr>\n",
       "    <tr>\n",
       "      <th>1</th>\n",
       "      <td>Jane</td>\n",
       "      <td>B</td>\n",
       "    </tr>\n",
       "    <tr>\n",
       "      <th>2</th>\n",
       "      <td>Suzie</td>\n",
       "      <td>A</td>\n",
       "    </tr>\n",
       "    <tr>\n",
       "      <th>3</th>\n",
       "      <td>Billy</td>\n",
       "      <td>B</td>\n",
       "    </tr>\n",
       "    <tr>\n",
       "      <th>4</th>\n",
       "      <td>Ada</td>\n",
       "      <td>A</td>\n",
       "    </tr>\n",
       "    <tr>\n",
       "      <th>5</th>\n",
       "      <td>John</td>\n",
       "      <td>B</td>\n",
       "    </tr>\n",
       "    <tr>\n",
       "      <th>6</th>\n",
       "      <td>Thomas</td>\n",
       "      <td>A</td>\n",
       "    </tr>\n",
       "    <tr>\n",
       "      <th>7</th>\n",
       "      <td>Marie</td>\n",
       "      <td>A</td>\n",
       "    </tr>\n",
       "    <tr>\n",
       "      <th>8</th>\n",
       "      <td>Albert</td>\n",
       "      <td>A</td>\n",
       "    </tr>\n",
       "    <tr>\n",
       "      <th>9</th>\n",
       "      <td>Richard</td>\n",
       "      <td>A</td>\n",
       "    </tr>\n",
       "    <tr>\n",
       "      <th>10</th>\n",
       "      <td>Isaac</td>\n",
       "      <td>B</td>\n",
       "    </tr>\n",
       "    <tr>\n",
       "      <th>11</th>\n",
       "      <td>Alan</td>\n",
       "      <td>A</td>\n",
       "    </tr>\n",
       "  </tbody>\n",
       "</table>\n",
       "</div>"
      ],
      "text/plain": [
       "       name classroom\n",
       "0     Sally         A\n",
       "1      Jane         B\n",
       "2     Suzie         A\n",
       "3     Billy         B\n",
       "4       Ada         A\n",
       "5      John         B\n",
       "6    Thomas         A\n",
       "7     Marie         A\n",
       "8    Albert         A\n",
       "9   Richard         A\n",
       "10    Isaac         B\n",
       "11     Alan         A"
      ]
     },
     "execution_count": 9,
     "metadata": {},
     "output_type": "execute_result"
    }
   ],
   "source": [
    "# Choose only two columns for my subset.\n",
    "\n",
    "df[['name', 'classroom']]"
   ]
  },
  {
   "cell_type": "code",
   "execution_count": 10,
   "id": "0d5b6278",
   "metadata": {},
   "outputs": [
    {
     "data": {
      "text/plain": [
       "0     False\n",
       "1     False\n",
       "2     False\n",
       "3     False\n",
       "4      True\n",
       "5     False\n",
       "6     False\n",
       "7     False\n",
       "8      True\n",
       "9     False\n",
       "10    False\n",
       "11     True\n",
       "Name: name, dtype: bool"
      ]
     },
     "execution_count": 10,
     "metadata": {},
     "output_type": "execute_result"
    }
   ],
   "source": [
    "# I can pass a boolean Series to the indexing operator as a selector.\n",
    "\n",
    "bools = df.name.str.startswith('A')\n",
    "bools"
   ]
  },
  {
   "cell_type": "code",
   "execution_count": 11,
   "id": "3ef26d5c",
   "metadata": {},
   "outputs": [
    {
     "data": {
      "text/html": [
       "<div>\n",
       "<style scoped>\n",
       "    .dataframe tbody tr th:only-of-type {\n",
       "        vertical-align: middle;\n",
       "    }\n",
       "\n",
       "    .dataframe tbody tr th {\n",
       "        vertical-align: top;\n",
       "    }\n",
       "\n",
       "    .dataframe thead th {\n",
       "        text-align: right;\n",
       "    }\n",
       "</style>\n",
       "<table border=\"1\" class=\"dataframe\">\n",
       "  <thead>\n",
       "    <tr style=\"text-align: right;\">\n",
       "      <th></th>\n",
       "      <th>name</th>\n",
       "      <th>math</th>\n",
       "      <th>english</th>\n",
       "      <th>reading</th>\n",
       "      <th>classroom</th>\n",
       "    </tr>\n",
       "  </thead>\n",
       "  <tbody>\n",
       "    <tr>\n",
       "      <th>4</th>\n",
       "      <td>Ada</td>\n",
       "      <td>77</td>\n",
       "      <td>92</td>\n",
       "      <td>98</td>\n",
       "      <td>A</td>\n",
       "    </tr>\n",
       "    <tr>\n",
       "      <th>8</th>\n",
       "      <td>Albert</td>\n",
       "      <td>92</td>\n",
       "      <td>62</td>\n",
       "      <td>87</td>\n",
       "      <td>A</td>\n",
       "    </tr>\n",
       "    <tr>\n",
       "      <th>11</th>\n",
       "      <td>Alan</td>\n",
       "      <td>92</td>\n",
       "      <td>62</td>\n",
       "      <td>72</td>\n",
       "      <td>A</td>\n",
       "    </tr>\n",
       "  </tbody>\n",
       "</table>\n",
       "</div>"
      ],
      "text/plain": [
       "      name  math  english  reading classroom\n",
       "4      Ada    77       92       98         A\n",
       "8   Albert    92       62       87         A\n",
       "11    Alan    92       62       72         A"
      ]
     },
     "execution_count": 11,
     "metadata": {},
     "output_type": "execute_result"
    }
   ],
   "source": [
    "df[bools]"
   ]
  },
  {
   "cell_type": "markdown",
   "id": "a8026993",
   "metadata": {},
   "source": [
    "### `.loc`\n",
    "\n",
    "We can use the `.loc` attribute to select specific rows AND columns by index label. The index label can be a number, but it can also be a string label. This method offers a lot of flexibility! **The .loc attribute's indexing is inclusive and uses an index label, not position.**\n",
    "\n",
    "`df.loc[row_indexer, column_indexer]`"
   ]
  },
  {
   "cell_type": "markdown",
   "id": "0f872a70",
   "metadata": {},
   "source": []
  },
  {
   "cell_type": "markdown",
   "id": "21633f66",
   "metadata": {},
   "source": []
  },
  {
   "cell_type": "markdown",
   "id": "133b419e",
   "metadata": {},
   "source": []
  },
  {
   "cell_type": "markdown",
   "id": "6627a62b",
   "metadata": {},
   "source": []
  },
  {
   "cell_type": "markdown",
   "id": "6fa0eff5",
   "metadata": {},
   "source": []
  },
  {
   "cell_type": "markdown",
   "id": "5a5ce04d",
   "metadata": {},
   "source": []
  },
  {
   "cell_type": "markdown",
   "id": "fb4d561c",
   "metadata": {},
   "source": []
  },
  {
   "cell_type": "markdown",
   "id": "b6d1d709",
   "metadata": {},
   "source": []
  },
  {
   "cell_type": "code",
   "execution_count": null,
   "id": "031cd35d",
   "metadata": {},
   "outputs": [],
   "source": []
  },
  {
   "cell_type": "code",
   "execution_count": null,
   "id": "6b557d42",
   "metadata": {},
   "outputs": [],
   "source": []
  },
  {
   "cell_type": "code",
   "execution_count": null,
   "id": "fa88c9d8",
   "metadata": {},
   "outputs": [],
   "source": []
  },
  {
   "cell_type": "code",
   "execution_count": null,
   "id": "af6bf509",
   "metadata": {},
   "outputs": [],
   "source": []
  }
 ],
 "metadata": {
  "kernelspec": {
   "display_name": "Python 3 (ipykernel)",
   "language": "python",
   "name": "python3"
  },
  "language_info": {
   "codemirror_mode": {
    "name": "ipython",
    "version": 3
   },
   "file_extension": ".py",
   "mimetype": "text/x-python",
   "name": "python",
   "nbconvert_exporter": "python",
   "pygments_lexer": "ipython3",
   "version": "3.11.4"
  }
 },
 "nbformat": 4,
 "nbformat_minor": 5
}
