{
 "cells": [
  {
   "cell_type": "code",
   "execution_count": 1,
   "id": "7bee3cd7",
   "metadata": {},
   "outputs": [],
   "source": [
    "import matplotlib.pyplot as plt\n",
    "import pandas as pd\n",
    "import numpy as np\n",
    "import random\n",
    "import math"
   ]
  },
  {
   "cell_type": "code",
   "execution_count": 2,
   "id": "8e44b386",
   "metadata": {},
   "outputs": [],
   "source": [
    "x_series = [i for i in range(1,31)]"
   ]
  },
  {
   "cell_type": "markdown",
   "id": "f734767a",
   "metadata": {},
   "source": [
    "## 1: $0n + 1$"
   ]
  },
  {
   "cell_type": "code",
   "execution_count": 3,
   "id": "f53b1cd7",
   "metadata": {},
   "outputs": [
    {
     "data": {
      "text/plain": [
       "[1,\n",
       " 1,\n",
       " 1,\n",
       " 1,\n",
       " 1,\n",
       " 1,\n",
       " 1,\n",
       " 1,\n",
       " 1,\n",
       " 1,\n",
       " 1,\n",
       " 1,\n",
       " 1,\n",
       " 1,\n",
       " 1,\n",
       " 1,\n",
       " 1,\n",
       " 1,\n",
       " 1,\n",
       " 1,\n",
       " 1,\n",
       " 1,\n",
       " 1,\n",
       " 1,\n",
       " 1,\n",
       " 1,\n",
       " 1,\n",
       " 1,\n",
       " 1,\n",
       " 1]"
      ]
     },
     "execution_count": 3,
     "metadata": {},
     "output_type": "execute_result"
    }
   ],
   "source": [
    "[(0 * i) + 1 for i in x_series]"
   ]
  },
  {
   "cell_type": "code",
   "execution_count": 4,
   "id": "1cdf5dd9",
   "metadata": {},
   "outputs": [],
   "source": [
    "y1_series = [(0 * i) + 1 for i in x_series]"
   ]
  },
  {
   "cell_type": "code",
   "execution_count": null,
   "id": "2ba204e5",
   "metadata": {},
   "outputs": [],
   "source": []
  },
  {
   "cell_type": "markdown",
   "id": "30ecd826",
   "metadata": {},
   "source": [
    "## 2: $\\log(n)$"
   ]
  },
  {
   "cell_type": "code",
   "execution_count": 5,
   "id": "3e68d255",
   "metadata": {},
   "outputs": [
    {
     "data": {
      "text/plain": [
       "1.0002641656503337"
      ]
     },
     "execution_count": 5,
     "metadata": {},
     "output_type": "execute_result"
    }
   ],
   "source": [
    "math.log(2.719)"
   ]
  },
  {
   "cell_type": "code",
   "execution_count": 6,
   "id": "25b5a954",
   "metadata": {
    "scrolled": true
   },
   "outputs": [
    {
     "data": {
      "text/plain": [
       "[0.0,\n",
       " 0.6931471805599453,\n",
       " 1.0986122886681098,\n",
       " 1.3862943611198906,\n",
       " 1.6094379124341003,\n",
       " 1.791759469228055,\n",
       " 1.9459101490553132,\n",
       " 2.0794415416798357,\n",
       " 2.1972245773362196,\n",
       " 2.302585092994046,\n",
       " 2.3978952727983707,\n",
       " 2.4849066497880004,\n",
       " 2.5649493574615367,\n",
       " 2.6390573296152584,\n",
       " 2.70805020110221,\n",
       " 2.772588722239781,\n",
       " 2.833213344056216,\n",
       " 2.8903717578961645,\n",
       " 2.9444389791664403,\n",
       " 2.995732273553991,\n",
       " 3.044522437723423,\n",
       " 3.091042453358316,\n",
       " 3.1354942159291497,\n",
       " 3.1780538303479458,\n",
       " 3.2188758248682006,\n",
       " 3.258096538021482,\n",
       " 3.295836866004329,\n",
       " 3.332204510175204,\n",
       " 3.367295829986474,\n",
       " 3.4011973816621555]"
      ]
     },
     "execution_count": 6,
     "metadata": {},
     "output_type": "execute_result"
    }
   ],
   "source": [
    "[math.log(i) for i in x_series]"
   ]
  },
  {
   "cell_type": "code",
   "execution_count": 7,
   "id": "355b62a4",
   "metadata": {},
   "outputs": [],
   "source": [
    "y2_series = [math.log(i) for i in x_series]"
   ]
  },
  {
   "cell_type": "markdown",
   "id": "6011cd8f",
   "metadata": {},
   "source": [
    "## 3: $n$"
   ]
  },
  {
   "cell_type": "code",
   "execution_count": 8,
   "id": "82f498bd",
   "metadata": {},
   "outputs": [
    {
     "data": {
      "text/plain": [
       "[1,\n",
       " 2,\n",
       " 3,\n",
       " 4,\n",
       " 5,\n",
       " 6,\n",
       " 7,\n",
       " 8,\n",
       " 9,\n",
       " 10,\n",
       " 11,\n",
       " 12,\n",
       " 13,\n",
       " 14,\n",
       " 15,\n",
       " 16,\n",
       " 17,\n",
       " 18,\n",
       " 19,\n",
       " 20,\n",
       " 21,\n",
       " 22,\n",
       " 23,\n",
       " 24,\n",
       " 25,\n",
       " 26,\n",
       " 27,\n",
       " 28,\n",
       " 29,\n",
       " 30]"
      ]
     },
     "execution_count": 8,
     "metadata": {},
     "output_type": "execute_result"
    }
   ],
   "source": [
    "[i for i in x_series]"
   ]
  },
  {
   "cell_type": "code",
   "execution_count": 9,
   "id": "9077fcc8",
   "metadata": {},
   "outputs": [],
   "source": [
    "y3_series = [i for i in x_series]"
   ]
  },
  {
   "cell_type": "markdown",
   "id": "3a5d896f",
   "metadata": {},
   "source": [
    "## 4: $n \\log(n)$"
   ]
  },
  {
   "cell_type": "code",
   "execution_count": 10,
   "id": "323668e9",
   "metadata": {},
   "outputs": [
    {
     "data": {
      "text/plain": [
       "1.0002641656503337"
      ]
     },
     "execution_count": 10,
     "metadata": {},
     "output_type": "execute_result"
    }
   ],
   "source": [
    "math.log(2.719)"
   ]
  },
  {
   "cell_type": "code",
   "execution_count": 11,
   "id": "61956120",
   "metadata": {
    "scrolled": true
   },
   "outputs": [
    {
     "data": {
      "text/plain": [
       "[0.0,\n",
       " 1.3862943611198906,\n",
       " 3.295836866004329,\n",
       " 5.545177444479562,\n",
       " 8.047189562170502,\n",
       " 10.75055681536833,\n",
       " 13.621371043387192,\n",
       " 16.635532333438686,\n",
       " 19.775021196025975,\n",
       " 23.02585092994046,\n",
       " 26.376848000782076,\n",
       " 29.818879797456006,\n",
       " 33.34434164699998,\n",
       " 36.94680261461362,\n",
       " 40.62075301653315,\n",
       " 44.3614195558365,\n",
       " 48.16462684895568,\n",
       " 52.02669164213096,\n",
       " 55.94434060416236,\n",
       " 59.914645471079815,\n",
       " 63.93497119219188,\n",
       " 68.00293397388296,\n",
       " 72.11636696637044,\n",
       " 76.2732919283507,\n",
       " 80.47189562170502,\n",
       " 84.71050998855854,\n",
       " 88.9875953821169,\n",
       " 93.30172628490571,\n",
       " 97.65157906960775,\n",
       " 102.03592144986466]"
      ]
     },
     "execution_count": 11,
     "metadata": {},
     "output_type": "execute_result"
    }
   ],
   "source": [
    "[i * math.log(i) for i in x_series]"
   ]
  },
  {
   "cell_type": "code",
   "execution_count": 12,
   "id": "6bbd0446",
   "metadata": {},
   "outputs": [],
   "source": [
    "y4_series = [i *math.log(i) for i in x_series]"
   ]
  },
  {
   "cell_type": "markdown",
   "id": "e5fc51e9",
   "metadata": {},
   "source": [
    "## 5: $n^2$"
   ]
  },
  {
   "cell_type": "code",
   "execution_count": 14,
   "id": "8a11deec",
   "metadata": {
    "scrolled": true
   },
   "outputs": [
    {
     "data": {
      "text/plain": [
       "[1,\n",
       " 4,\n",
       " 9,\n",
       " 16,\n",
       " 25,\n",
       " 36,\n",
       " 49,\n",
       " 64,\n",
       " 81,\n",
       " 100,\n",
       " 121,\n",
       " 144,\n",
       " 169,\n",
       " 196,\n",
       " 225,\n",
       " 256,\n",
       " 289,\n",
       " 324,\n",
       " 361,\n",
       " 400,\n",
       " 441,\n",
       " 484,\n",
       " 529,\n",
       " 576,\n",
       " 625,\n",
       " 676,\n",
       " 729,\n",
       " 784,\n",
       " 841,\n",
       " 900]"
      ]
     },
     "execution_count": 14,
     "metadata": {},
     "output_type": "execute_result"
    }
   ],
   "source": [
    "[i**2 for i in x_series]"
   ]
  },
  {
   "cell_type": "code",
   "execution_count": 15,
   "id": "17de3a2d",
   "metadata": {},
   "outputs": [],
   "source": [
    "y5_series = [i**2 for i in x_series]"
   ]
  },
  {
   "cell_type": "code",
   "execution_count": null,
   "id": "e0e50b21",
   "metadata": {},
   "outputs": [],
   "source": []
  },
  {
   "cell_type": "markdown",
   "id": "c7932677",
   "metadata": {},
   "source": [
    "## 6: $2^n$"
   ]
  },
  {
   "cell_type": "code",
   "execution_count": 16,
   "id": "d6a943e5",
   "metadata": {},
   "outputs": [
    {
     "data": {
      "text/plain": [
       "1.0002641656503337"
      ]
     },
     "execution_count": 16,
     "metadata": {},
     "output_type": "execute_result"
    }
   ],
   "source": [
    "math.log(2.719)"
   ]
  },
  {
   "cell_type": "code",
   "execution_count": 17,
   "id": "accaad6a",
   "metadata": {
    "scrolled": true
   },
   "outputs": [
    {
     "data": {
      "text/plain": [
       "[2,\n",
       " 4,\n",
       " 8,\n",
       " 16,\n",
       " 32,\n",
       " 64,\n",
       " 128,\n",
       " 256,\n",
       " 512,\n",
       " 1024,\n",
       " 2048,\n",
       " 4096,\n",
       " 8192,\n",
       " 16384,\n",
       " 32768,\n",
       " 65536,\n",
       " 131072,\n",
       " 262144,\n",
       " 524288,\n",
       " 1048576,\n",
       " 2097152,\n",
       " 4194304,\n",
       " 8388608,\n",
       " 16777216,\n",
       " 33554432,\n",
       " 67108864,\n",
       " 134217728,\n",
       " 268435456,\n",
       " 536870912,\n",
       " 1073741824]"
      ]
     },
     "execution_count": 17,
     "metadata": {},
     "output_type": "execute_result"
    }
   ],
   "source": [
    "[2**i for i in x_series]"
   ]
  },
  {
   "cell_type": "code",
   "execution_count": 18,
   "id": "3fd796db",
   "metadata": {},
   "outputs": [],
   "source": [
    "y6_series = [2**i for i in x_series]"
   ]
  },
  {
   "cell_type": "markdown",
   "id": "afffeac5",
   "metadata": {},
   "source": [
    "## 7: $n!$"
   ]
  },
  {
   "cell_type": "code",
   "execution_count": 19,
   "id": "6ab697b2",
   "metadata": {
    "scrolled": true
   },
   "outputs": [
    {
     "data": {
      "text/plain": [
       "[1,\n",
       " 2,\n",
       " 6,\n",
       " 24,\n",
       " 120,\n",
       " 720,\n",
       " 5040,\n",
       " 40320,\n",
       " 362880,\n",
       " 3628800,\n",
       " 39916800,\n",
       " 479001600,\n",
       " 6227020800,\n",
       " 87178291200,\n",
       " 1307674368000,\n",
       " 20922789888000,\n",
       " 355687428096000,\n",
       " 6402373705728000,\n",
       " 121645100408832000,\n",
       " 2432902008176640000,\n",
       " 51090942171709440000,\n",
       " 1124000727777607680000,\n",
       " 25852016738884976640000,\n",
       " 620448401733239439360000,\n",
       " 15511210043330985984000000,\n",
       " 403291461126605635584000000,\n",
       " 10888869450418352160768000000,\n",
       " 304888344611713860501504000000,\n",
       " 8841761993739701954543616000000,\n",
       " 265252859812191058636308480000000]"
      ]
     },
     "execution_count": 19,
     "metadata": {},
     "output_type": "execute_result"
    }
   ],
   "source": [
    "[math.factorial(i) for i in x_series]"
   ]
  },
  {
   "cell_type": "code",
   "execution_count": 20,
   "id": "1e089f47",
   "metadata": {},
   "outputs": [],
   "source": [
    "y7_series = [math.factorial(i) for i in x_series]"
   ]
  },
  {
   "cell_type": "markdown",
   "id": "b0a30fb1",
   "metadata": {},
   "source": [
    "## 8: $n^n$"
   ]
  },
  {
   "cell_type": "code",
   "execution_count": 26,
   "id": "bb98b449",
   "metadata": {},
   "outputs": [
    {
     "data": {
      "text/plain": [
       "[1,\n",
       " 4,\n",
       " 27,\n",
       " 256,\n",
       " 3125,\n",
       " 46656,\n",
       " 823543,\n",
       " 16777216,\n",
       " 387420489,\n",
       " 10000000000,\n",
       " 285311670611,\n",
       " 8916100448256,\n",
       " 302875106592253,\n",
       " 11112006825558016,\n",
       " 437893890380859375,\n",
       " 18446744073709551616,\n",
       " 827240261886336764177,\n",
       " 39346408075296537575424,\n",
       " 1978419655660313589123979,\n",
       " 104857600000000000000000000,\n",
       " 5842587018385982521381124421,\n",
       " 341427877364219557396646723584,\n",
       " 20880467999847912034355032910567,\n",
       " 1333735776850284124449081472843776,\n",
       " 88817841970012523233890533447265625,\n",
       " 6156119580207157310796674288400203776,\n",
       " 443426488243037769948249630619149892803,\n",
       " 33145523113253374862572728253364605812736,\n",
       " 2567686153161211134561828214731016126483469,\n",
       " 205891132094649000000000000000000000000000000]"
      ]
     },
     "execution_count": 26,
     "metadata": {},
     "output_type": "execute_result"
    }
   ],
   "source": [
    "[i**i for i in x_series]"
   ]
  },
  {
   "cell_type": "code",
   "execution_count": 27,
   "id": "5639f2c4",
   "metadata": {},
   "outputs": [],
   "source": [
    "y8_series = [i**i for i in x_series]"
   ]
  },
  {
   "cell_type": "code",
   "execution_count": null,
   "id": "1cea52a2",
   "metadata": {},
   "outputs": [],
   "source": []
  },
  {
   "cell_type": "code",
   "execution_count": null,
   "id": "a878f54d",
   "metadata": {},
   "outputs": [],
   "source": []
  },
  {
   "cell_type": "code",
   "execution_count": null,
   "id": "9dfee445",
   "metadata": {},
   "outputs": [],
   "source": []
  },
  {
   "cell_type": "code",
   "execution_count": null,
   "id": "461d0aa2",
   "metadata": {},
   "outputs": [],
   "source": []
  },
  {
   "cell_type": "code",
   "execution_count": null,
   "id": "dd278279",
   "metadata": {},
   "outputs": [],
   "source": []
  }
 ],
 "metadata": {
  "kernelspec": {
   "display_name": "Python 3 (ipykernel)",
   "language": "python",
   "name": "python3"
  },
  "language_info": {
   "codemirror_mode": {
    "name": "ipython",
    "version": 3
   },
   "file_extension": ".py",
   "mimetype": "text/x-python",
   "name": "python",
   "nbconvert_exporter": "python",
   "pygments_lexer": "ipython3",
   "version": "3.11.4"
  }
 },
 "nbformat": 4,
 "nbformat_minor": 5
}
