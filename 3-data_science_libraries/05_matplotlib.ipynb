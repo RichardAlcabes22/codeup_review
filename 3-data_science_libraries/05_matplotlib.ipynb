{
 "cells": [
  {
   "cell_type": "code",
   "execution_count": 12,
   "id": "916e8bff",
   "metadata": {},
   "outputs": [],
   "source": [
    "import matplotlib.pyplot as plt\n",
    "import pandas as pd\n",
    "import numpy as np\n",
    "import random\n",
    "import math"
   ]
  },
  {
   "cell_type": "markdown",
   "id": "d6a8ccae",
   "metadata": {},
   "source": [
    "## EX 1. Plot the following equation $y = x^2 - x + 2$"
   ]
  },
  {
   "cell_type": "code",
   "execution_count": 28,
   "id": "6f3746e5",
   "metadata": {},
   "outputs": [],
   "source": [
    "x_series = [i for i in range(-10,11)]"
   ]
  },
  {
   "cell_type": "code",
   "execution_count": 29,
   "id": "8a7bd453",
   "metadata": {},
   "outputs": [
    {
     "data": {
      "text/plain": [
       "[-10, -9, -8, -7, -6, -5, -4, -3, -2, -1, 0, 1, 2, 3, 4, 5, 6, 7, 8, 9, 10]"
      ]
     },
     "execution_count": 29,
     "metadata": {},
     "output_type": "execute_result"
    }
   ],
   "source": [
    "x_series"
   ]
  },
  {
   "cell_type": "code",
   "execution_count": 30,
   "id": "a5d76cf3",
   "metadata": {},
   "outputs": [],
   "source": [
    "y = x_series[0]**2 - x_series[0] + 2"
   ]
  },
  {
   "cell_type": "code",
   "execution_count": 31,
   "id": "32589b1f",
   "metadata": {},
   "outputs": [
    {
     "data": {
      "text/plain": [
       "112"
      ]
     },
     "execution_count": 31,
     "metadata": {},
     "output_type": "execute_result"
    }
   ],
   "source": [
    "y"
   ]
  },
  {
   "cell_type": "code",
   "execution_count": 32,
   "id": "979ee969",
   "metadata": {},
   "outputs": [],
   "source": [
    "y_series = [(x_series[i]**2 - x_series[i] + 2) for i in range(0,len(x_series))]"
   ]
  },
  {
   "cell_type": "code",
   "execution_count": 33,
   "id": "94c0ec37",
   "metadata": {},
   "outputs": [
    {
     "data": {
      "text/plain": [
       "[112, 92, 74, 58, 44, 32, 22, 14, 8, 4, 2, 2, 4, 8, 14, 22, 32, 44, 58, 74, 92]"
      ]
     },
     "execution_count": 33,
     "metadata": {},
     "output_type": "execute_result"
    }
   ],
   "source": [
    "y_series"
   ]
  },
  {
   "cell_type": "code",
   "execution_count": 42,
   "id": "0a163c47",
   "metadata": {},
   "outputs": [
    {
     "data": {
      "image/png": "[encoded data removed]",
      "text/plain": [
       "<Figure size 640x480 with 1 Axes>"
      ]
     },
     "metadata": {},
     "output_type": "display_data"
    }
   ],
   "source": [
    "plt.scatter(x_series,y_series)\n",
    "plt.annotate('Origin', xy=(0, 0), xytext=(0, 20),\n",
    "             arrowprops={'facecolor': 'white'})\n",
    "plt.show()"
   ]
  },
  {
   "cell_type": "code",
   "execution_count": null,
   "id": "ac8edd3e",
   "metadata": {},
   "outputs": [],
   "source": []
  },
  {
   "cell_type": "code",
   "execution_count": null,
   "id": "b2b9e4b3",
   "metadata": {},
   "outputs": [],
   "source": []
  },
  {
   "cell_type": "code",
   "execution_count": null,
   "id": "51edb022",
   "metadata": {},
   "outputs": [],
   "source": []
  },
  {
   "cell_type": "code",
   "execution_count": null,
   "id": "2a07b3a0",
   "metadata": {},
   "outputs": [],
   "source": []
  }
 ],
 "metadata": {
  "kernelspec": {
   "display_name": "Python 3 (ipykernel)",
   "language": "python",
   "name": "python3"
  },
  "language_info": {
   "codemirror_mode": {
    "name": "ipython",
    "version": 3
   },
   "file_extension": ".py",
   "mimetype": "text/x-python",
   "name": "python",
   "nbconvert_exporter": "python",
   "pygments_lexer": "ipython3",
   "version": "3.11.4"
  }
 },
 "nbformat": 4,
 "nbformat_minor": 5
}
