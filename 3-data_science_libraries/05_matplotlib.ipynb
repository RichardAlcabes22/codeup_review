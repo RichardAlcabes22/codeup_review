{
 "cells": [
  {
   "cell_type": "code",
   "execution_count": 1,
   "id": "916e8bff",
   "metadata": {},
   "outputs": [],
   "source": [
    "import matplotlib.pyplot as plt\n",
    "import pandas as pd\n",
    "import numpy as np\n",
    "import random\n",
    "import math"
   ]
  },
  {
   "cell_type": "markdown",
   "id": "d6a8ccae",
   "metadata": {},
   "source": [
    "## EX 1. Plot the following equation $y = x^2 - x + 2$"
   ]
  },
  {
   "cell_type": "code",
   "execution_count": 2,
   "id": "6f3746e5",
   "metadata": {},
   "outputs": [],
   "source": [
    "x_series = [i for i in range(-20,21)]"
   ]
  },
  {
   "cell_type": "code",
   "execution_count": 3,
   "id": "8a7bd453",
   "metadata": {
    "collapsed": true
   },
   "outputs": [
    {
     "data": {
      "text/plain": [
       "[-20,\n",
       " -19,\n",
       " -18,\n",
       " -17,\n",
       " -16,\n",
       " -15,\n",
       " -14,\n",
       " -13,\n",
       " -12,\n",
       " -11,\n",
       " -10,\n",
       " -9,\n",
       " -8,\n",
       " -7,\n",
       " -6,\n",
       " -5,\n",
       " -4,\n",
       " -3,\n",
       " -2,\n",
       " -1,\n",
       " 0,\n",
       " 1,\n",
       " 2,\n",
       " 3,\n",
       " 4,\n",
       " 5,\n",
       " 6,\n",
       " 7,\n",
       " 8,\n",
       " 9,\n",
       " 10,\n",
       " 11,\n",
       " 12,\n",
       " 13,\n",
       " 14,\n",
       " 15,\n",
       " 16,\n",
       " 17,\n",
       " 18,\n",
       " 19,\n",
       " 20]"
      ]
     },
     "execution_count": 3,
     "metadata": {},
     "output_type": "execute_result"
    }
   ],
   "source": [
    "x_series"
   ]
  },
  {
   "cell_type": "code",
   "execution_count": 4,
   "id": "a5d76cf3",
   "metadata": {},
   "outputs": [],
   "source": [
    "y = x_series[0]**2 - x_series[0] + 2"
   ]
  },
  {
   "cell_type": "code",
   "execution_count": 5,
   "id": "32589b1f",
   "metadata": {},
   "outputs": [
    {
     "data": {
      "text/plain": [
       "422"
      ]
     },
     "execution_count": 5,
     "metadata": {},
     "output_type": "execute_result"
    }
   ],
   "source": [
    "y"
   ]
  },
  {
   "cell_type": "code",
   "execution_count": 6,
   "id": "979ee969",
   "metadata": {},
   "outputs": [],
   "source": [
    "y_series = [(x_series[i]**2 - x_series[i] + 2) for i in range(0,len(x_series))]"
   ]
  },
  {
   "cell_type": "code",
   "execution_count": 7,
   "id": "94c0ec37",
   "metadata": {
    "collapsed": true
   },
   "outputs": [
    {
     "data": {
      "text/plain": [
       "[422,\n",
       " 382,\n",
       " 344,\n",
       " 308,\n",
       " 274,\n",
       " 242,\n",
       " 212,\n",
       " 184,\n",
       " 158,\n",
       " 134,\n",
       " 112,\n",
       " 92,\n",
       " 74,\n",
       " 58,\n",
       " 44,\n",
       " 32,\n",
       " 22,\n",
       " 14,\n",
       " 8,\n",
       " 4,\n",
       " 2,\n",
       " 2,\n",
       " 4,\n",
       " 8,\n",
       " 14,\n",
       " 22,\n",
       " 32,\n",
       " 44,\n",
       " 58,\n",
       " 74,\n",
       " 92,\n",
       " 112,\n",
       " 134,\n",
       " 158,\n",
       " 184,\n",
       " 212,\n",
       " 242,\n",
       " 274,\n",
       " 308,\n",
       " 344,\n",
       " 382]"
      ]
     },
     "execution_count": 7,
     "metadata": {},
     "output_type": "execute_result"
    }
   ],
   "source": [
    "y_series"
   ]
  },
  {
   "cell_type": "code",
   "execution_count": 8,
   "id": "0a163c47",
   "metadata": {},
   "outputs": [
    {
     "data": {
      "image/png": "[encoded data removed]",
      "text/plain": [
       "<Figure size 640x480 with 1 Axes>"
      ]
     },
     "metadata": {},
     "output_type": "display_data"
    }
   ],
   "source": [
    "plt.scatter(x_series,y_series)\n",
    "plt.title('$y = x^2 - x + 2$')\n",
    "plt.annotate('Origin', xy=(0, 0), xytext=(0, 20),\n",
    "             arrowprops={'facecolor': 'white'})\n",
    "plt.show()"
   ]
  },
  {
   "cell_type": "markdown",
   "id": "dbdc3d43",
   "metadata": {},
   "source": [
    "## EX 2. Plot the following equations:   <br><br>$y = \\sqrt{x}$ <br> $y = x^3$ <br> $y = 2^x$ <br> $y = 1/(x+1)$"
   ]
  },
  {
   "cell_type": "code",
   "execution_count": 21,
   "id": "70f67cd4",
   "metadata": {},
   "outputs": [],
   "source": [
    "x_series = [i for i in range(2,37)]"
   ]
  },
  {
   "cell_type": "code",
   "execution_count": 17,
   "id": "f7b84e8a",
   "metadata": {},
   "outputs": [
    {
     "data": {
      "text/plain": [
       "3.0"
      ]
     },
     "execution_count": 17,
     "metadata": {},
     "output_type": "execute_result"
    }
   ],
   "source": [
    "x_series[29]**(1/2)"
   ]
  },
  {
   "cell_type": "code",
   "execution_count": 22,
   "id": "31bf6111",
   "metadata": {},
   "outputs": [],
   "source": [
    "y_1_series = [x_series[i]**(1/2) for i in range(0,len(x_series))]"
   ]
  },
  {
   "cell_type": "code",
   "execution_count": 23,
   "id": "ea0d6ff5",
   "metadata": {
    "collapsed": true
   },
   "outputs": [
    {
     "data": {
      "text/plain": [
       "[1.4142135623730951,\n",
       " 1.7320508075688772,\n",
       " 2.0,\n",
       " 2.23606797749979,\n",
       " 2.449489742783178,\n",
       " 2.6457513110645907,\n",
       " 2.8284271247461903,\n",
       " 3.0,\n",
       " 3.1622776601683795,\n",
       " 3.3166247903554,\n",
       " 3.4641016151377544,\n",
       " 3.605551275463989,\n",
       " 3.7416573867739413,\n",
       " 3.872983346207417,\n",
       " 4.0,\n",
       " 4.123105625617661,\n",
       " 4.242640687119285,\n",
       " 4.358898943540674,\n",
       " 4.47213595499958,\n",
       " 4.58257569495584,\n",
       " 4.69041575982343,\n",
       " 4.795831523312719,\n",
       " 4.898979485566356,\n",
       " 5.0,\n",
       " 5.0990195135927845,\n",
       " 5.196152422706632,\n",
       " 5.291502622129181,\n",
       " 5.385164807134504,\n",
       " 5.477225575051661,\n",
       " 5.5677643628300215,\n",
       " 5.656854249492381,\n",
       " 5.744562646538029,\n",
       " 5.830951894845301,\n",
       " 5.916079783099616,\n",
       " 6.0]"
      ]
     },
     "execution_count": 23,
     "metadata": {},
     "output_type": "execute_result"
    }
   ],
   "source": [
    "y_1_series"
   ]
  },
  {
   "cell_type": "code",
   "execution_count": 24,
   "id": "a4977ca9",
   "metadata": {},
   "outputs": [
    {
     "data": {
      "image/png": "[encoded data removed]",
      "text/plain": [
       "<Figure size 640x480 with 1 Axes>"
      ]
     },
     "metadata": {},
     "output_type": "display_data"
    }
   ],
   "source": [
    "plt.scatter(x_series,y_1_series)\n",
    "plt.show()"
   ]
  },
  {
   "cell_type": "code",
   "execution_count": 26,
   "id": "87de4288",
   "metadata": {},
   "outputs": [
    {
     "data": {
      "text/plain": [
       "64"
      ]
     },
     "execution_count": 26,
     "metadata": {},
     "output_type": "execute_result"
    }
   ],
   "source": [
    "x_series[2]**(3)"
   ]
  },
  {
   "cell_type": "code",
   "execution_count": 27,
   "id": "5a0bed76",
   "metadata": {},
   "outputs": [],
   "source": [
    "y_2_series = [x_series[i]**(3) for i in range(0,len(x_series))]"
   ]
  },
  {
   "cell_type": "code",
   "execution_count": 28,
   "id": "cc076b08",
   "metadata": {},
   "outputs": [
    {
     "data": {
      "image/png": "[encoded data removed]",
      "text/plain": [
       "<Figure size 640x480 with 1 Axes>"
      ]
     },
     "metadata": {},
     "output_type": "display_data"
    }
   ],
   "source": [
    "plt.scatter(x_series,y_2_series)\n",
    "plt.show()"
   ]
  },
  {
   "cell_type": "code",
   "execution_count": null,
   "id": "ac8edd3e",
   "metadata": {},
   "outputs": [],
   "source": []
  },
  {
   "cell_type": "code",
   "execution_count": null,
   "id": "b2b9e4b3",
   "metadata": {},
   "outputs": [],
   "source": []
  },
  {
   "cell_type": "code",
   "execution_count": null,
   "id": "51edb022",
   "metadata": {},
   "outputs": [],
   "source": []
  },
  {
   "cell_type": "code",
   "execution_count": null,
   "id": "2a07b3a0",
   "metadata": {},
   "outputs": [],
   "source": []
  }
 ],
 "metadata": {
  "kernelspec": {
   "display_name": "Python 3 (ipykernel)",
   "language": "python",
   "name": "python3"
  },
  "language_info": {
   "codemirror_mode": {
    "name": "ipython",
    "version": 3
   },
   "file_extension": ".py",
   "mimetype": "text/x-python",
   "name": "python",
   "nbconvert_exporter": "python",
   "pygments_lexer": "ipython3",
   "version": "3.11.4"
  }
 },
 "nbformat": 4,
 "nbformat_minor": 5
}
