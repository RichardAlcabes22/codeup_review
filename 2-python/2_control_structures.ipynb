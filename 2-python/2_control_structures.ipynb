{
 "cells": [
  {
   "cell_type": "markdown",
   "id": "a68a9e03",
   "metadata": {},
   "source": [
    "## Conditionals"
   ]
  },
  {
   "cell_type": "markdown",
   "id": "f4443e02",
   "metadata": {},
   "source": [
    "### Is the input valid? Is it Monday?"
   ]
  },
  {
   "cell_type": "code",
   "execution_count": 15,
   "id": "f492770b",
   "metadata": {},
   "outputs": [],
   "source": [
    "days = ['Monday','Tuesday','Wednesday','Thursday','Friday','Saturday','Sunday',\n",
    "       'Mon','Tue','Tues','Wed','Thu','Thur','Thurs','Fri','Sat','Sun',\n",
    "       'M','T','W','Th','F','Sa','Su']\n",
    "mon = ['Monday','Mon','M']\n",
    "weekdays = ['Monday','Tuesday','Wednesday','Thursday','Friday','Mon','Tue','Tues','Wed','Thu','Thur','Thurs','Fri',\n",
    "           'M','T','W','Th','F']\n",
    "weekends = ['Saturday','Sunday','Sat','Sun','Sa','Su']"
   ]
  },
  {
   "cell_type": "code",
   "execution_count": 6,
   "id": "1d4fa139",
   "metadata": {},
   "outputs": [
    {
     "name": "stdout",
     "output_type": "stream",
     "text": [
      "What day of the week do you select? Tues\n"
     ]
    }
   ],
   "source": [
    "day_of_wk = input('What day of the week do you select? ')"
   ]
  },
  {
   "cell_type": "code",
   "execution_count": 7,
   "id": "624c1eb5",
   "metadata": {},
   "outputs": [
    {
     "data": {
      "text/plain": [
       "'Tues'"
      ]
     },
     "execution_count": 7,
     "metadata": {},
     "output_type": "execute_result"
    }
   ],
   "source": [
    "day_of_wk"
   ]
  },
  {
   "cell_type": "code",
   "execution_count": 9,
   "id": "f9dda15d",
   "metadata": {},
   "outputs": [
    {
     "name": "stdout",
     "output_type": "stream",
     "text": [
      "Tues\n"
     ]
    }
   ],
   "source": [
    "if day_of_wk in days:\n",
    "    print(day_of_wk)\n",
    "else:\n",
    "    print(f'{day_of_wk} is not a valid option.')\n",
    "    day_of_wk = input('What day of the week do you select? ')"
   ]
  },
  {
   "cell_type": "code",
   "execution_count": 12,
   "id": "e2007726",
   "metadata": {},
   "outputs": [
    {
     "name": "stdout",
     "output_type": "stream",
     "text": [
      "Boo, it is not Monday!\n"
     ]
    }
   ],
   "source": [
    "if day_of_wk in mon:\n",
    "    print('Yes, it is Monday!')\n",
    "else:\n",
    "    print('Boo, it is not Monday!')"
   ]
  },
  {
   "cell_type": "markdown",
   "id": "d3349261",
   "metadata": {},
   "source": [
    "### Is the input valid? Is the day a Weekday or a Weekend?"
   ]
  },
  {
   "cell_type": "code",
   "execution_count": 13,
   "id": "f448f131",
   "metadata": {},
   "outputs": [
    {
     "name": "stdout",
     "output_type": "stream",
     "text": [
      "What day of the week do you select? Tues\n"
     ]
    }
   ],
   "source": [
    "day_of_wk = input('What day of the week do you select? ')"
   ]
  },
  {
   "cell_type": "code",
   "execution_count": 14,
   "id": "ba2c9301",
   "metadata": {},
   "outputs": [
    {
     "name": "stdout",
     "output_type": "stream",
     "text": [
      "Tues\n"
     ]
    }
   ],
   "source": [
    "if day_of_wk in days:\n",
    "    print(day_of_wk)\n",
    "else:\n",
    "    print(f'{day_of_wk} is not a valid option.')\n",
    "    day_of_wk = input('What day of the week do you select? ')"
   ]
  },
  {
   "cell_type": "code",
   "execution_count": 17,
   "id": "a357bb46",
   "metadata": {},
   "outputs": [
    {
     "name": "stdout",
     "output_type": "stream",
     "text": [
      "Ok, cool, it is a WEEKDAY!\n"
     ]
    }
   ],
   "source": [
    "if day_of_wk in weekdays:\n",
    "    print('Ok, cool, it is a WEEKDAY!')\n",
    "else:\n",
    "    print('Yes, it is THE WEEKEND!!!!!!')"
   ]
  },
  {
   "cell_type": "code",
   "execution_count": null,
   "id": "d6dd7ed5",
   "metadata": {},
   "outputs": [],
   "source": []
  },
  {
   "cell_type": "code",
   "execution_count": null,
   "id": "39e59836",
   "metadata": {},
   "outputs": [],
   "source": []
  },
  {
   "cell_type": "code",
   "execution_count": null,
   "id": "e8a5ad5b",
   "metadata": {},
   "outputs": [],
   "source": []
  },
  {
   "cell_type": "code",
   "execution_count": null,
   "id": "e7c38406",
   "metadata": {},
   "outputs": [],
   "source": []
  },
  {
   "cell_type": "code",
   "execution_count": null,
   "id": "b1208866",
   "metadata": {},
   "outputs": [],
   "source": []
  }
 ],
 "metadata": {
  "kernelspec": {
   "display_name": "Python 3 (ipykernel)",
   "language": "python",
   "name": "python3"
  },
  "language_info": {
   "codemirror_mode": {
    "name": "ipython",
    "version": 3
   },
   "file_extension": ".py",
   "mimetype": "text/x-python",
   "name": "python",
   "nbconvert_exporter": "python",
   "pygments_lexer": "ipython3",
   "version": "3.9.13"
  }
 },
 "nbformat": 4,
 "nbformat_minor": 5
}
