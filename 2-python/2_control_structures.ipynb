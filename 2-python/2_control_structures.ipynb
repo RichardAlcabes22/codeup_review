{
 "cells": [
  {
   "cell_type": "code",
   "execution_count": 45,
   "id": "ddae4dfe",
   "metadata": {},
   "outputs": [],
   "source": [
    "import numpy as np"
   ]
  },
  {
   "cell_type": "code",
   "execution_count": 46,
   "id": "7915d471",
   "metadata": {},
   "outputs": [
    {
     "data": {
      "application/javascript": [
       "IPython.notebook.set_autosave_interval(0)"
      ]
     },
     "metadata": {},
     "output_type": "display_data"
    },
    {
     "name": "stdout",
     "output_type": "stream",
     "text": [
      "Autosave disabled\n"
     ]
    }
   ],
   "source": [
    "%autosave 0"
   ]
  },
  {
   "cell_type": "markdown",
   "id": "a68a9e03",
   "metadata": {},
   "source": [
    "## Conditionals"
   ]
  },
  {
   "cell_type": "markdown",
   "id": "f4443e02",
   "metadata": {},
   "source": [
    "### Is the input valid? Is it Monday?"
   ]
  },
  {
   "cell_type": "code",
   "execution_count": 15,
   "id": "f492770b",
   "metadata": {},
   "outputs": [],
   "source": [
    "days = ['Monday','Tuesday','Wednesday','Thursday','Friday','Saturday','Sunday',\n",
    "       'Mon','Tue','Tues','Wed','Thu','Thur','Thurs','Fri','Sat','Sun',\n",
    "       'M','T','W','Th','F','Sa','Su']\n",
    "mon = ['Monday','Mon','M']\n",
    "weekdays = ['Monday','Tuesday','Wednesday','Thursday','Friday','Mon','Tue','Tues','Wed','Thu','Thur','Thurs','Fri',\n",
    "           'M','T','W','Th','F']\n",
    "weekends = ['Saturday','Sunday','Sat','Sun','Sa','Su']"
   ]
  },
  {
   "cell_type": "code",
   "execution_count": 6,
   "id": "1d4fa139",
   "metadata": {},
   "outputs": [
    {
     "name": "stdout",
     "output_type": "stream",
     "text": [
      "What day of the week do you select? Tues\n"
     ]
    }
   ],
   "source": [
    "day_of_wk = input('What day of the week do you select? ')"
   ]
  },
  {
   "cell_type": "code",
   "execution_count": 7,
   "id": "624c1eb5",
   "metadata": {},
   "outputs": [
    {
     "data": {
      "text/plain": [
       "'Tues'"
      ]
     },
     "execution_count": 7,
     "metadata": {},
     "output_type": "execute_result"
    }
   ],
   "source": [
    "day_of_wk"
   ]
  },
  {
   "cell_type": "code",
   "execution_count": 9,
   "id": "f9dda15d",
   "metadata": {},
   "outputs": [
    {
     "name": "stdout",
     "output_type": "stream",
     "text": [
      "Tues\n"
     ]
    }
   ],
   "source": [
    "if day_of_wk in days:\n",
    "    print(day_of_wk)\n",
    "else:\n",
    "    print(f'{day_of_wk} is not a valid option.')\n",
    "    day_of_wk = input('What day of the week do you select? ')"
   ]
  },
  {
   "cell_type": "code",
   "execution_count": 12,
   "id": "e2007726",
   "metadata": {},
   "outputs": [
    {
     "name": "stdout",
     "output_type": "stream",
     "text": [
      "Boo, it is not Monday!\n"
     ]
    }
   ],
   "source": [
    "if day_of_wk in mon:\n",
    "    print('Yes, it is Monday!')\n",
    "else:\n",
    "    print('Boo, it is not Monday!')"
   ]
  },
  {
   "cell_type": "markdown",
   "id": "d3349261",
   "metadata": {},
   "source": [
    "### Is the input valid? Is the day a Weekday or a Weekend?"
   ]
  },
  {
   "cell_type": "code",
   "execution_count": 13,
   "id": "f448f131",
   "metadata": {},
   "outputs": [
    {
     "name": "stdout",
     "output_type": "stream",
     "text": [
      "What day of the week do you select? Tues\n"
     ]
    }
   ],
   "source": [
    "day_of_wk = input('What day of the week do you select? ')"
   ]
  },
  {
   "cell_type": "code",
   "execution_count": 14,
   "id": "ba2c9301",
   "metadata": {},
   "outputs": [
    {
     "name": "stdout",
     "output_type": "stream",
     "text": [
      "Tues\n"
     ]
    }
   ],
   "source": [
    "if day_of_wk in days:\n",
    "    print(day_of_wk)\n",
    "else:\n",
    "    print(f'{day_of_wk} is not a valid option.')\n",
    "    day_of_wk = input('What day of the week do you select? ')"
   ]
  },
  {
   "cell_type": "code",
   "execution_count": 17,
   "id": "a357bb46",
   "metadata": {},
   "outputs": [
    {
     "name": "stdout",
     "output_type": "stream",
     "text": [
      "Ok, cool, it is a WEEKDAY!\n"
     ]
    }
   ],
   "source": [
    "if day_of_wk in weekdays:\n",
    "    print('Ok, cool, it is a WEEKDAY!')\n",
    "else:\n",
    "    print('Yes, it is THE WEEKEND!!!!!!')"
   ]
  },
  {
   "cell_type": "markdown",
   "id": "bdea0c81",
   "metadata": {},
   "source": [
    "### Calculate a weekly paycheck based upon numbers of hours worked, hourly rate, and overtime rate."
   ]
  },
  {
   "cell_type": "markdown",
   "id": "e812ff7e",
   "metadata": {},
   "source": [
    "##### Define and print Normal and Overtime pay rates:"
   ]
  },
  {
   "cell_type": "code",
   "execution_count": 33,
   "id": "d5f5f3c3",
   "metadata": {},
   "outputs": [
    {
     "name": "stdout",
     "output_type": "stream",
     "text": [
      "Please enter your Hourly Rate as ($$.cc): 12\n",
      "Hourly Rate: 12.00\n",
      "Overtime Rate: 18.00\n"
     ]
    }
   ],
   "source": [
    "hourly_rate = float(input('Please enter your Hourly Rate as ($$.cc): '))\n",
    "overtime_rate = hourly_rate * 1.5\n",
    "print(f'Hourly Rate: {hourly_rate:.2f}\\nOvertime Rate: {overtime_rate:.2f}')"
   ]
  },
  {
   "cell_type": "markdown",
   "id": "4426314c",
   "metadata": {},
   "source": [
    "##### Establish the number of hours worked this week and if this total requires Overtime pay rates:"
   ]
  },
  {
   "cell_type": "code",
   "execution_count": 35,
   "id": "0588fa86",
   "metadata": {},
   "outputs": [
    {
     "name": "stdout",
     "output_type": "stream",
     "text": [
      "Please enter the total nuber of hours worked this week: 64.2\n",
      "Overtime Hours (in addition to normal hours): 24.2\n"
     ]
    }
   ],
   "source": [
    "hrs_worked = float(input('Please enter the total nuber of hours worked this week: '))\n",
    "if hrs_worked > 40:\n",
    "    overtime_hrs = round(hrs_worked - 40,1)\n",
    "    no_overtime_hrs = round(hrs_worked - overtime_hrs,1)\n",
    "    print(f'Overtime Hours (in addition to normal hours): {overtime_hrs}')\n",
    "else:\n",
    "    no_overtime_hrs = round(hrs_worked,1)\n",
    "    overtime_rate = 0\n",
    "    print(f'Normal Hours (no overtime): {no_overtime_hrs}')"
   ]
  },
  {
   "cell_type": "markdown",
   "id": "c461ff70",
   "metadata": {},
   "source": [
    "##### Calculate Normal and Overtime totals and add them together for Total Pay:"
   ]
  },
  {
   "cell_type": "code",
   "execution_count": 36,
   "id": "4d2748f7",
   "metadata": {},
   "outputs": [
    {
     "name": "stdout",
     "output_type": "stream",
     "text": [
      "Normal Pay: 480.00\n",
      "Overtime Pay: 435.60\n",
      "Total Pay: 915.60\n"
     ]
    }
   ],
   "source": [
    "total_pay = (no_overtime_hrs * hourly_rate) + (overtime_hrs * overtime_rate)\n",
    "print(f'Normal Pay: {no_overtime_hrs * hourly_rate:.2f}')\n",
    "print(f'Overtime Pay: {overtime_hrs * overtime_rate:.2f}')\n",
    "print(f'Total Pay: {total_pay:.2f}')"
   ]
  },
  {
   "cell_type": "markdown",
   "id": "1a0a18a2",
   "metadata": {},
   "source": [
    "### All code in one cell:"
   ]
  },
  {
   "cell_type": "code",
   "execution_count": 38,
   "id": "30cbbe10",
   "metadata": {},
   "outputs": [
    {
     "name": "stdout",
     "output_type": "stream",
     "text": [
      "Please enter your Hourly Rate as ($$.cc): 12\n",
      "Hourly Rate: 12.00\n",
      "Overtime Rate: 18.00\n",
      "\n",
      "Please enter the total nuber of hours worked this week: 17.0\n",
      "Normal Hours (no overtime): 17.0\n",
      "Normal Pay: 204.00\n",
      "Overtime Pay: 0.00\n",
      "Total Pay: 204.00\n"
     ]
    }
   ],
   "source": [
    "# Define pay rates:\n",
    "hourly_rate = float(input('Please enter your Hourly Rate as ($$.cc): '))\n",
    "overtime_rate = hourly_rate * 1.5\n",
    "print(f'Hourly Rate: {hourly_rate:.2f}\\nOvertime Rate: {overtime_rate:.2f}\\n')\n",
    "\n",
    "# Define number of Normal and OT hours worked:\n",
    "hrs_worked = float(input('Please enter the total nuber of hours worked this week: '))\n",
    "if hrs_worked > 40:\n",
    "    overtime_hrs = round(hrs_worked - 40,1)\n",
    "    no_overtime_hrs = round(hrs_worked - overtime_hrs,1)\n",
    "    print(f'Overtime Hours (in addition to normal hours): {overtime_hrs}')\n",
    "else:\n",
    "    no_overtime_hrs = round(hrs_worked,1)\n",
    "    overtime_rate = 0\n",
    "    print(f'Normal Hours (no overtime): {no_overtime_hrs}')\n",
    "\n",
    "# Calculate Total Pay:\n",
    "total_pay = (no_overtime_hrs * hourly_rate) + (overtime_hrs * overtime_rate)\n",
    "print(f'Normal Pay: {no_overtime_hrs * hourly_rate:.2f}')\n",
    "print(f'Overtime Pay: {overtime_hrs * overtime_rate:.2f}')\n",
    "print(f'Total Pay: {total_pay:.2f}')"
   ]
  },
  {
   "cell_type": "markdown",
   "id": "8f2ea7e4",
   "metadata": {},
   "source": [
    "### While loop that prints value while x <= 15...begin at x = 5"
   ]
  },
  {
   "cell_type": "code",
   "execution_count": 39,
   "id": "d6dd7ed5",
   "metadata": {},
   "outputs": [
    {
     "name": "stdout",
     "output_type": "stream",
     "text": [
      "5\n",
      "6\n",
      "7\n",
      "8\n",
      "9\n",
      "10\n",
      "11\n",
      "12\n",
      "13\n",
      "14\n",
      "15\n"
     ]
    }
   ],
   "source": [
    "x = 5\n",
    "while x <= 15:\n",
    "    print(x)\n",
    "    x += 1"
   ]
  },
  {
   "cell_type": "markdown",
   "id": "1a990e2c",
   "metadata": {},
   "source": [
    "### While loop that counts by 2's from 0 to 100"
   ]
  },
  {
   "cell_type": "code",
   "execution_count": 40,
   "id": "39e59836",
   "metadata": {
    "scrolled": true
   },
   "outputs": [
    {
     "name": "stdout",
     "output_type": "stream",
     "text": [
      "0\n",
      "2\n",
      "4\n",
      "6\n",
      "8\n",
      "10\n",
      "12\n",
      "14\n",
      "16\n",
      "18\n",
      "20\n",
      "22\n",
      "24\n",
      "26\n",
      "28\n",
      "30\n",
      "32\n",
      "34\n",
      "36\n",
      "38\n",
      "40\n",
      "42\n",
      "44\n",
      "46\n",
      "48\n",
      "50\n",
      "52\n",
      "54\n",
      "56\n",
      "58\n",
      "60\n",
      "62\n",
      "64\n",
      "66\n",
      "68\n",
      "70\n",
      "72\n",
      "74\n",
      "76\n",
      "78\n",
      "80\n",
      "82\n",
      "84\n",
      "86\n",
      "88\n",
      "90\n",
      "92\n",
      "94\n",
      "96\n",
      "98\n",
      "100\n"
     ]
    }
   ],
   "source": [
    "x = 0\n",
    "while x <= 100:\n",
    "    if x % 2 == 0:\n",
    "        print(x)\n",
    "    x += 1\n"
   ]
  },
  {
   "cell_type": "markdown",
   "id": "149b428a",
   "metadata": {},
   "source": [
    "### While loop that begins with 2 and prints the square of the previous number.  Do not print any number over 1M."
   ]
  },
  {
   "cell_type": "code",
   "execution_count": 42,
   "id": "b3011b2d",
   "metadata": {
    "scrolled": true
   },
   "outputs": [
    {
     "name": "stdout",
     "output_type": "stream",
     "text": [
      "2\n",
      "4\n",
      "16\n",
      "256\n",
      "65536\n"
     ]
    }
   ],
   "source": [
    "x = 2\n",
    "while x <= 1000000:\n",
    "    print(x)\n",
    "    x *= x\n"
   ]
  },
  {
   "cell_type": "markdown",
   "id": "78078820",
   "metadata": {},
   "source": [
    "### While loop that begins with 100 and subtracts 5 the previous number.  Do not print any number below 0."
   ]
  },
  {
   "cell_type": "code",
   "execution_count": 43,
   "id": "d479de9d",
   "metadata": {
    "scrolled": true
   },
   "outputs": [
    {
     "name": "stdout",
     "output_type": "stream",
     "text": [
      "100\n",
      "95\n",
      "90\n",
      "85\n",
      "80\n",
      "75\n",
      "70\n",
      "65\n",
      "60\n",
      "55\n",
      "50\n",
      "45\n",
      "40\n",
      "35\n",
      "30\n",
      "25\n",
      "20\n",
      "15\n",
      "10\n",
      "5\n",
      "0\n"
     ]
    }
   ],
   "source": [
    "x = 100\n",
    "while x >= 0:\n",
    "    print(x)\n",
    "    x -= 5\n"
   ]
  },
  {
   "cell_type": "markdown",
   "id": "c53152e8",
   "metadata": {},
   "source": [
    "### Prompt the user for an integer and display multiplication table for the input."
   ]
  },
  {
   "cell_type": "code",
   "execution_count": 114,
   "id": "26151963",
   "metadata": {},
   "outputs": [
    {
     "name": "stdout",
     "output_type": "stream",
     "text": [
      "Please enter an integer bewteen 1 and 10: re\n"
     ]
    }
   ],
   "source": [
    "user_input = input(f'Please enter an integer bewteen 1 and 10: ')"
   ]
  },
  {
   "cell_type": "code",
   "execution_count": 99,
   "id": "93a44341",
   "metadata": {},
   "outputs": [
    {
     "data": {
      "text/plain": [
       "'er'"
      ]
     },
     "execution_count": 99,
     "metadata": {},
     "output_type": "execute_result"
    }
   ],
   "source": [
    "user_input"
   ]
  },
  {
   "cell_type": "code",
   "execution_count": 100,
   "id": "90000a3c",
   "metadata": {
    "scrolled": true
   },
   "outputs": [
    {
     "data": {
      "text/plain": [
       "str"
      ]
     },
     "execution_count": 100,
     "metadata": {},
     "output_type": "execute_result"
    }
   ],
   "source": [
    "type(user_input)"
   ]
  },
  {
   "cell_type": "code",
   "execution_count": 101,
   "id": "520086c4",
   "metadata": {},
   "outputs": [
    {
     "data": {
      "text/plain": [
       "False"
      ]
     },
     "execution_count": 101,
     "metadata": {},
     "output_type": "execute_result"
    }
   ],
   "source": [
    "user_input.isnumeric()"
   ]
  },
  {
   "cell_type": "code",
   "execution_count": 115,
   "id": "fe8d2250",
   "metadata": {},
   "outputs": [
    {
     "name": "stdout",
     "output_type": "stream",
     "text": [
      "Please enter an integer bewteen 1 and 10: yy\n",
      "Please enter an integer bewteen 1 and 10: 5\n",
      "Yes, 5 is an integer between 1 and 10!\n",
      "\n",
      "        5 x 1 = 5\n",
      "        5 x 2 = 10\n",
      "        5 x 3 = 15\n",
      "        5 x 4 = 20\n",
      "        5 x 5 = 25\n",
      "        5 x 6 = 30\n",
      "        5 x 7 = 35\n",
      "        5 x 8 = 40\n",
      "        5 x 9 = 45\n",
      "        5 x 10 = 50\n"
     ]
    }
   ],
   "source": [
    "while user_input:\n",
    "    if (user_input.isnumeric() == True) and (int(user_input) in range(1,11)):\n",
    "        print(f'Yes, {user_input} is an integer between 1 and 10!\\n\\n\\\n",
    "        {user_input} x 1 = {int(user_input)*1}\\n\\\n",
    "        {user_input} x 2 = {int(user_input)*2}\\n\\\n",
    "        {user_input} x 3 = {int(user_input)*3}\\n\\\n",
    "        {user_input} x 4 = {int(user_input)*4}\\n\\\n",
    "        {user_input} x 5 = {int(user_input)*5}\\n\\\n",
    "        {user_input} x 6 = {int(user_input)*6}\\n\\\n",
    "        {user_input} x 7 = {int(user_input)*7}\\n\\\n",
    "        {user_input} x 8 = {int(user_input)*8}\\n\\\n",
    "        {user_input} x 9 = {int(user_input)*9}\\n\\\n",
    "        {user_input} x 10 = {int(user_input)*10}')\n",
    "        break\n",
    "    else:\n",
    "        user_input = input(f'Please enter an integer bewteen 1 and 10: ')"
   ]
  },
  {
   "cell_type": "markdown",
   "id": "e4cc582b",
   "metadata": {},
   "source": [
    "### print each integer from 1-9 a number of interations = its value i.e. 1 22 333 4444"
   ]
  },
  {
   "cell_type": "code",
   "execution_count": 117,
   "id": "9a1ce4b8",
   "metadata": {
    "scrolled": true
   },
   "outputs": [
    {
     "name": "stdout",
     "output_type": "stream",
     "text": [
      "1\n",
      "22\n",
      "333\n",
      "4444\n",
      "55555\n",
      "666666\n",
      "7777777\n",
      "88888888\n",
      "999999999\n"
     ]
    }
   ],
   "source": [
    "for number in range(1,10):\n",
    "    print(f'{str(number) * number}')"
   ]
  },
  {
   "cell_type": "markdown",
   "id": "d5a524ba",
   "metadata": {},
   "source": [
    "### prompt user for positive integer, then count down from input value to 1"
   ]
  },
  {
   "cell_type": "code",
   "execution_count": 124,
   "id": "a3870ef3",
   "metadata": {},
   "outputs": [
    {
     "name": "stdout",
     "output_type": "stream",
     "text": [
      "Please enter a POSITIVE integer less than 100: 99\n"
     ]
    }
   ],
   "source": [
    "user_input = input(f'Please enter a POSITIVE integer less than 100: ')"
   ]
  },
  {
   "cell_type": "code",
   "execution_count": 125,
   "id": "5e726ed5",
   "metadata": {
    "scrolled": true
   },
   "outputs": [
    {
     "name": "stdout",
     "output_type": "stream",
     "text": [
      "99\n",
      "98\n",
      "97\n",
      "96\n",
      "95\n",
      "94\n",
      "93\n",
      "92\n",
      "91\n",
      "90\n",
      "89\n",
      "88\n",
      "87\n",
      "86\n",
      "85\n",
      "84\n",
      "83\n",
      "82\n",
      "81\n",
      "80\n",
      "79\n",
      "78\n",
      "77\n",
      "76\n",
      "75\n",
      "74\n",
      "73\n",
      "72\n",
      "71\n",
      "70\n",
      "69\n",
      "68\n",
      "67\n",
      "66\n",
      "65\n",
      "64\n",
      "63\n",
      "62\n",
      "61\n",
      "60\n",
      "59\n",
      "58\n",
      "57\n",
      "56\n",
      "55\n",
      "54\n",
      "53\n",
      "52\n",
      "51\n",
      "50\n",
      "49\n",
      "48\n",
      "47\n",
      "46\n",
      "45\n",
      "44\n",
      "43\n",
      "42\n",
      "41\n",
      "40\n",
      "39\n",
      "38\n",
      "37\n",
      "36\n",
      "35\n",
      "34\n",
      "33\n",
      "32\n",
      "31\n",
      "30\n",
      "29\n",
      "28\n",
      "27\n",
      "26\n",
      "25\n",
      "24\n",
      "23\n",
      "22\n",
      "21\n",
      "20\n",
      "19\n",
      "18\n",
      "17\n",
      "16\n",
      "15\n",
      "14\n",
      "13\n",
      "12\n",
      "11\n",
      "10\n",
      "9\n",
      "8\n",
      "7\n",
      "6\n",
      "5\n",
      "4\n",
      "3\n",
      "2\n",
      "1\n"
     ]
    }
   ],
   "source": [
    "while int(user_input) >= 1:\n",
    "    if (str(user_input).isnumeric() == True) and (int(user_input) in range(1,101)):\n",
    "        print(user_input)\n",
    "        user_input = int(user_input) - 1\n",
    "    else:\n",
    "        break"
   ]
  },
  {
   "cell_type": "code",
   "execution_count": 126,
   "id": "ecfbe3aa",
   "metadata": {},
   "outputs": [
    {
     "data": {
      "text/plain": [
       "0"
      ]
     },
     "execution_count": 126,
     "metadata": {},
     "output_type": "execute_result"
    }
   ],
   "source": [
    "user_input"
   ]
  },
  {
   "cell_type": "code",
   "execution_count": null,
   "id": "44197e51",
   "metadata": {},
   "outputs": [],
   "source": []
  },
  {
   "cell_type": "code",
   "execution_count": null,
   "id": "a86d590a",
   "metadata": {},
   "outputs": [],
   "source": []
  },
  {
   "cell_type": "code",
   "execution_count": null,
   "id": "f64800d7",
   "metadata": {},
   "outputs": [],
   "source": []
  },
  {
   "cell_type": "code",
   "execution_count": null,
   "id": "8cd047b8",
   "metadata": {},
   "outputs": [],
   "source": []
  },
  {
   "cell_type": "code",
   "execution_count": null,
   "id": "e7c38406",
   "metadata": {},
   "outputs": [],
   "source": []
  },
  {
   "cell_type": "code",
   "execution_count": null,
   "id": "b1208866",
   "metadata": {},
   "outputs": [],
   "source": []
  }
 ],
 "metadata": {
  "kernelspec": {
   "display_name": "Python 3 (ipykernel)",
   "language": "python",
   "name": "python3"
  },
  "language_info": {
   "codemirror_mode": {
    "name": "ipython",
    "version": 3
   },
   "file_extension": ".py",
   "mimetype": "text/x-python",
   "name": "python",
   "nbconvert_exporter": "python",
   "pygments_lexer": "ipython3",
   "version": "3.9.13"
  }
 },
 "nbformat": 4,
 "nbformat_minor": 5
}
