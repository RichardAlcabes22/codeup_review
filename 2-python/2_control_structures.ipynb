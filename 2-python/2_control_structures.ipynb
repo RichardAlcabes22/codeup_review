{
 "cells": [
  {
   "cell_type": "code",
   "execution_count": 6,
   "id": "ddae4dfe",
   "metadata": {},
   "outputs": [],
   "source": [
    "import numpy as np\n",
    "from tabulate import tabulate"
   ]
  },
  {
   "cell_type": "code",
   "execution_count": 1,
   "id": "7915d471",
   "metadata": {},
   "outputs": [
    {
     "data": {
      "application/javascript": [
       "IPython.notebook.set_autosave_interval(0)"
      ]
     },
     "metadata": {},
     "output_type": "display_data"
    },
    {
     "name": "stdout",
     "output_type": "stream",
     "text": [
      "Autosave disabled\n"
     ]
    }
   ],
   "source": [
    "%autosave 0"
   ]
  },
  {
   "cell_type": "markdown",
   "id": "a68a9e03",
   "metadata": {},
   "source": [
    "## Conditionals"
   ]
  },
  {
   "cell_type": "markdown",
   "id": "f4443e02",
   "metadata": {},
   "source": [
    "### Is the input valid? Is it Monday?"
   ]
  },
  {
   "cell_type": "code",
   "execution_count": 3,
   "id": "f492770b",
   "metadata": {},
   "outputs": [],
   "source": [
    "days = ['Monday','Tuesday','Wednesday','Thursday','Friday','Saturday','Sunday',\n",
    "       'Mon','Tue','Tues','Wed','Thu','Thur','Thurs','Fri','Sat','Sun',\n",
    "       'M','T','W','Th','F','Sa','Su']\n",
    "mon = ['Monday','Mon','M']\n",
    "weekdays = ['Monday','Tuesday','Wednesday','Thursday','Friday','Mon','Tue','Tues','Wed','Thu','Thur','Thurs','Fri',\n",
    "           'M','T','W','Th','F']\n",
    "weekends = ['Saturday','Sunday','Sat','Sun','Sa','Su']"
   ]
  },
  {
   "cell_type": "code",
   "execution_count": 4,
   "id": "1d4fa139",
   "metadata": {},
   "outputs": [
    {
     "name": "stdout",
     "output_type": "stream",
     "text": [
      "What day of the week do you select? Mon\n"
     ]
    }
   ],
   "source": [
    "day_of_wk = input('What day of the week do you select? ')"
   ]
  },
  {
   "cell_type": "code",
   "execution_count": 5,
   "id": "624c1eb5",
   "metadata": {},
   "outputs": [
    {
     "data": {
      "text/plain": [
       "'Mon'"
      ]
     },
     "execution_count": 5,
     "metadata": {},
     "output_type": "execute_result"
    }
   ],
   "source": [
    "day_of_wk"
   ]
  },
  {
   "cell_type": "code",
   "execution_count": 6,
   "id": "f9dda15d",
   "metadata": {},
   "outputs": [
    {
     "name": "stdout",
     "output_type": "stream",
     "text": [
      "Mon\n"
     ]
    }
   ],
   "source": [
    "if day_of_wk in days:\n",
    "    print(day_of_wk)\n",
    "else:\n",
    "    print(f'{day_of_wk} is not a valid option.')\n",
    "    day_of_wk = input('What day of the week do you select? ')"
   ]
  },
  {
   "cell_type": "code",
   "execution_count": 7,
   "id": "e2007726",
   "metadata": {},
   "outputs": [
    {
     "name": "stdout",
     "output_type": "stream",
     "text": [
      "Yes, it is Monday!\n"
     ]
    }
   ],
   "source": [
    "if day_of_wk in mon:\n",
    "    print('Yes, it is Monday!')\n",
    "else:\n",
    "    print('Boo, it is not Monday!')"
   ]
  },
  {
   "cell_type": "markdown",
   "id": "d3349261",
   "metadata": {},
   "source": [
    "### Is the input valid? Is the day a Weekday or a Weekend?"
   ]
  },
  {
   "cell_type": "code",
   "execution_count": 8,
   "id": "f448f131",
   "metadata": {},
   "outputs": [
    {
     "name": "stdout",
     "output_type": "stream",
     "text": [
      "What day of the week do you select? Sunday\n"
     ]
    }
   ],
   "source": [
    "day_of_wk = input('What day of the week do you select? ')"
   ]
  },
  {
   "cell_type": "code",
   "execution_count": 9,
   "id": "ba2c9301",
   "metadata": {},
   "outputs": [
    {
     "name": "stdout",
     "output_type": "stream",
     "text": [
      "Sunday\n"
     ]
    }
   ],
   "source": [
    "if day_of_wk in days:\n",
    "    print(day_of_wk)\n",
    "else:\n",
    "    print(f'{day_of_wk} is not a valid option.')\n",
    "    day_of_wk = input('What day of the week do you select? ')"
   ]
  },
  {
   "cell_type": "code",
   "execution_count": 10,
   "id": "a357bb46",
   "metadata": {},
   "outputs": [
    {
     "name": "stdout",
     "output_type": "stream",
     "text": [
      "Yes, it is THE WEEKEND!!!!!!\n"
     ]
    }
   ],
   "source": [
    "if day_of_wk in weekdays:\n",
    "    print('Ok, cool, it is a WEEKDAY!')\n",
    "else:\n",
    "    print('Yes, it is THE WEEKEND!!!!!!')"
   ]
  },
  {
   "cell_type": "markdown",
   "id": "bdea0c81",
   "metadata": {},
   "source": [
    "### Calculate a weekly paycheck based upon numbers of hours worked, hourly rate, and overtime rate."
   ]
  },
  {
   "cell_type": "markdown",
   "id": "e812ff7e",
   "metadata": {},
   "source": [
    "##### Define and print Normal and Overtime pay rates:"
   ]
  },
  {
   "cell_type": "code",
   "execution_count": 11,
   "id": "d5f5f3c3",
   "metadata": {},
   "outputs": [
    {
     "name": "stdout",
     "output_type": "stream",
     "text": [
      "Please enter your Hourly Rate as ($$.cc): 13.50\n",
      "Hourly Rate: 13.50\n",
      "Overtime Rate: 20.25\n"
     ]
    }
   ],
   "source": [
    "hourly_rate = float(input('Please enter your Hourly Rate as ($$.cc): '))\n",
    "overtime_rate = hourly_rate * 1.5\n",
    "print(f'Hourly Rate: {hourly_rate:.2f}\\nOvertime Rate: {overtime_rate:.2f}')"
   ]
  },
  {
   "cell_type": "markdown",
   "id": "4426314c",
   "metadata": {},
   "source": [
    "##### Establish the number of hours worked this week and if this total requires Overtime pay rates:"
   ]
  },
  {
   "cell_type": "code",
   "execution_count": 12,
   "id": "0588fa86",
   "metadata": {},
   "outputs": [
    {
     "name": "stdout",
     "output_type": "stream",
     "text": [
      "Please enter the total nuber of hours worked this week: 43.1\n",
      "Overtime Hours (in addition to normal hours): 3.1\n"
     ]
    }
   ],
   "source": [
    "hrs_worked = float(input('Please enter the total nuber of hours worked this week: '))\n",
    "if hrs_worked > 40:\n",
    "    overtime_hrs = round(hrs_worked - 40,1)\n",
    "    no_overtime_hrs = round(hrs_worked - overtime_hrs,1)\n",
    "    print(f'Overtime Hours (in addition to normal hours): {overtime_hrs}')\n",
    "else:\n",
    "    no_overtime_hrs = round(hrs_worked,1)\n",
    "    overtime_rate = 0\n",
    "    print(f'Normal Hours (no overtime): {no_overtime_hrs}')"
   ]
  },
  {
   "cell_type": "markdown",
   "id": "c461ff70",
   "metadata": {},
   "source": [
    "##### Calculate Normal and Overtime totals and add them together for Total Pay:"
   ]
  },
  {
   "cell_type": "code",
   "execution_count": 13,
   "id": "4d2748f7",
   "metadata": {},
   "outputs": [
    {
     "name": "stdout",
     "output_type": "stream",
     "text": [
      "Normal Pay: 540.00\n",
      "Overtime Pay: 62.77\n",
      "Total Pay: 602.77\n"
     ]
    }
   ],
   "source": [
    "total_pay = (no_overtime_hrs * hourly_rate) + (overtime_hrs * overtime_rate)\n",
    "print(f'Normal Pay: {no_overtime_hrs * hourly_rate:.2f}')\n",
    "print(f'Overtime Pay: {overtime_hrs * overtime_rate:.2f}')\n",
    "print(f'Total Pay: {total_pay:.2f}')"
   ]
  },
  {
   "cell_type": "markdown",
   "id": "1a0a18a2",
   "metadata": {},
   "source": [
    "### All code in one cell:"
   ]
  },
  {
   "cell_type": "code",
   "execution_count": 14,
   "id": "30cbbe10",
   "metadata": {},
   "outputs": [
    {
     "name": "stdout",
     "output_type": "stream",
     "text": [
      "Please enter your Hourly Rate as ($$.cc): 12.50\n",
      "Hourly Rate: 12.50\n",
      "Overtime Rate: 18.75\n",
      "\n",
      "Please enter the total nuber of hours worked this week: 21.0\n",
      "Normal Hours (no overtime): 21.0\n",
      "Normal Pay: 262.50\n",
      "Overtime Pay: 0.00\n",
      "Total Pay: 262.50\n"
     ]
    }
   ],
   "source": [
    "# Define pay rates:\n",
    "hourly_rate = float(input('Please enter your Hourly Rate as ($$.cc): '))\n",
    "overtime_rate = hourly_rate * 1.5\n",
    "print(f'Hourly Rate: {hourly_rate:.2f}\\nOvertime Rate: {overtime_rate:.2f}\\n')\n",
    "\n",
    "# Define number of Normal and OT hours worked:\n",
    "hrs_worked = float(input('Please enter the total nuber of hours worked this week: '))\n",
    "if hrs_worked > 40:\n",
    "    overtime_hrs = round(hrs_worked - 40,1)\n",
    "    no_overtime_hrs = round(hrs_worked - overtime_hrs,1)\n",
    "    print(f'Overtime Hours (in addition to normal hours): {overtime_hrs}')\n",
    "else:\n",
    "    no_overtime_hrs = round(hrs_worked,1)\n",
    "    overtime_rate = 0\n",
    "    print(f'Normal Hours (no overtime): {no_overtime_hrs}')\n",
    "\n",
    "# Calculate Total Pay:\n",
    "total_pay = (no_overtime_hrs * hourly_rate) + (overtime_hrs * overtime_rate)\n",
    "print(f'Normal Pay: {no_overtime_hrs * hourly_rate:.2f}')\n",
    "print(f'Overtime Pay: {overtime_hrs * overtime_rate:.2f}')\n",
    "print(f'Total Pay: {total_pay:.2f}')"
   ]
  },
  {
   "cell_type": "markdown",
   "id": "8f2ea7e4",
   "metadata": {},
   "source": [
    "### While loop that prints value while x <= 15...begin at x = 5"
   ]
  },
  {
   "cell_type": "code",
   "execution_count": 15,
   "id": "d6dd7ed5",
   "metadata": {
    "collapsed": true
   },
   "outputs": [
    {
     "name": "stdout",
     "output_type": "stream",
     "text": [
      "5\n",
      "6\n",
      "7\n",
      "8\n",
      "9\n",
      "10\n",
      "11\n",
      "12\n",
      "13\n",
      "14\n",
      "15\n"
     ]
    }
   ],
   "source": [
    "x = 5\n",
    "while x <= 15:\n",
    "    print(x)\n",
    "    x += 1"
   ]
  },
  {
   "cell_type": "markdown",
   "id": "1a990e2c",
   "metadata": {},
   "source": [
    "### While loop that counts by 2's from 0 to 100"
   ]
  },
  {
   "cell_type": "code",
   "execution_count": 16,
   "id": "39e59836",
   "metadata": {
    "scrolled": true
   },
   "outputs": [
    {
     "name": "stdout",
     "output_type": "stream",
     "text": [
      "0\n",
      "2\n",
      "4\n",
      "6\n",
      "8\n",
      "10\n",
      "12\n",
      "14\n",
      "16\n",
      "18\n",
      "20\n",
      "22\n",
      "24\n",
      "26\n",
      "28\n",
      "30\n",
      "32\n",
      "34\n",
      "36\n",
      "38\n",
      "40\n",
      "42\n",
      "44\n",
      "46\n",
      "48\n",
      "50\n",
      "52\n",
      "54\n",
      "56\n",
      "58\n",
      "60\n",
      "62\n",
      "64\n",
      "66\n",
      "68\n",
      "70\n",
      "72\n",
      "74\n",
      "76\n",
      "78\n",
      "80\n",
      "82\n",
      "84\n",
      "86\n",
      "88\n",
      "90\n",
      "92\n",
      "94\n",
      "96\n",
      "98\n",
      "100\n"
     ]
    }
   ],
   "source": [
    "x = 0\n",
    "while x <= 100:\n",
    "    if x % 2 == 0:\n",
    "        print(x)\n",
    "    x += 1\n"
   ]
  },
  {
   "cell_type": "markdown",
   "id": "149b428a",
   "metadata": {},
   "source": [
    "### While loop that begins with 2 and prints the square of the previous number.  Do not print any number over 1M."
   ]
  },
  {
   "cell_type": "code",
   "execution_count": 17,
   "id": "b3011b2d",
   "metadata": {
    "scrolled": true
   },
   "outputs": [
    {
     "name": "stdout",
     "output_type": "stream",
     "text": [
      "2\n",
      "4\n",
      "16\n",
      "256\n",
      "65536\n"
     ]
    }
   ],
   "source": [
    "x = 2\n",
    "while x <= 1000000:\n",
    "    print(x)\n",
    "    x *= x\n"
   ]
  },
  {
   "cell_type": "markdown",
   "id": "78078820",
   "metadata": {},
   "source": [
    "### While loop that begins with 100 and subtracts 5 the previous number.  Do not print any number below 0."
   ]
  },
  {
   "cell_type": "code",
   "execution_count": 18,
   "id": "d479de9d",
   "metadata": {
    "scrolled": true
   },
   "outputs": [
    {
     "name": "stdout",
     "output_type": "stream",
     "text": [
      "100\n",
      "95\n",
      "90\n",
      "85\n",
      "80\n",
      "75\n",
      "70\n",
      "65\n",
      "60\n",
      "55\n",
      "50\n",
      "45\n",
      "40\n",
      "35\n",
      "30\n",
      "25\n",
      "20\n",
      "15\n",
      "10\n",
      "5\n",
      "0\n"
     ]
    }
   ],
   "source": [
    "x = 100\n",
    "while x >= 0:\n",
    "    print(x)\n",
    "    x -= 5\n"
   ]
  },
  {
   "cell_type": "markdown",
   "id": "c53152e8",
   "metadata": {},
   "source": [
    "### Prompt the user for an integer and display multiplication table for the input."
   ]
  },
  {
   "cell_type": "code",
   "execution_count": 19,
   "id": "26151963",
   "metadata": {},
   "outputs": [
    {
     "name": "stdout",
     "output_type": "stream",
     "text": [
      "Please enter an integer bewteen 1 and 10: 3\n"
     ]
    }
   ],
   "source": [
    "user_input = input(f'Please enter an integer bewteen 1 and 10: ')"
   ]
  },
  {
   "cell_type": "code",
   "execution_count": 20,
   "id": "93a44341",
   "metadata": {},
   "outputs": [
    {
     "data": {
      "text/plain": [
       "'3'"
      ]
     },
     "execution_count": 20,
     "metadata": {},
     "output_type": "execute_result"
    }
   ],
   "source": [
    "user_input"
   ]
  },
  {
   "cell_type": "code",
   "execution_count": 21,
   "id": "90000a3c",
   "metadata": {
    "scrolled": true
   },
   "outputs": [
    {
     "data": {
      "text/plain": [
       "str"
      ]
     },
     "execution_count": 21,
     "metadata": {},
     "output_type": "execute_result"
    }
   ],
   "source": [
    "type(user_input)"
   ]
  },
  {
   "cell_type": "code",
   "execution_count": 22,
   "id": "520086c4",
   "metadata": {},
   "outputs": [
    {
     "data": {
      "text/plain": [
       "True"
      ]
     },
     "execution_count": 22,
     "metadata": {},
     "output_type": "execute_result"
    }
   ],
   "source": [
    "user_input.isnumeric()"
   ]
  },
  {
   "cell_type": "code",
   "execution_count": 23,
   "id": "fe8d2250",
   "metadata": {},
   "outputs": [
    {
     "name": "stdout",
     "output_type": "stream",
     "text": [
      "Yes, 3 is an integer between 1 and 10!\n",
      "\n",
      "        3 x 1 = 3\n",
      "        3 x 2 = 6\n",
      "        3 x 3 = 9\n",
      "        3 x 4 = 12\n",
      "        3 x 5 = 15\n",
      "        3 x 6 = 18\n",
      "        3 x 7 = 21\n",
      "        3 x 8 = 24\n",
      "        3 x 9 = 27\n",
      "        3 x 10 = 30\n"
     ]
    }
   ],
   "source": [
    "while user_input:\n",
    "    if (user_input.isnumeric() == True) and (int(user_input) in range(1,11)):\n",
    "        print(f'Yes, {user_input} is an integer between 1 and 10!\\n\\n\\\n",
    "        {user_input} x 1 = {int(user_input)*1}\\n\\\n",
    "        {user_input} x 2 = {int(user_input)*2}\\n\\\n",
    "        {user_input} x 3 = {int(user_input)*3}\\n\\\n",
    "        {user_input} x 4 = {int(user_input)*4}\\n\\\n",
    "        {user_input} x 5 = {int(user_input)*5}\\n\\\n",
    "        {user_input} x 6 = {int(user_input)*6}\\n\\\n",
    "        {user_input} x 7 = {int(user_input)*7}\\n\\\n",
    "        {user_input} x 8 = {int(user_input)*8}\\n\\\n",
    "        {user_input} x 9 = {int(user_input)*9}\\n\\\n",
    "        {user_input} x 10 = {int(user_input)*10}')\n",
    "        break\n",
    "    else:\n",
    "        user_input = input(f'Please enter an integer bewteen 1 and 10: ')"
   ]
  },
  {
   "cell_type": "markdown",
   "id": "e4cc582b",
   "metadata": {},
   "source": [
    "### print each integer from 1-9 a number of interations = its value i.e. 1 22 333 4444"
   ]
  },
  {
   "cell_type": "code",
   "execution_count": 24,
   "id": "9a1ce4b8",
   "metadata": {
    "scrolled": true
   },
   "outputs": [
    {
     "name": "stdout",
     "output_type": "stream",
     "text": [
      "1\n",
      "22\n",
      "333\n",
      "4444\n",
      "55555\n",
      "666666\n",
      "7777777\n",
      "88888888\n",
      "999999999\n"
     ]
    }
   ],
   "source": [
    "for number in range(1,10):\n",
    "    print(f'{str(number) * number}')"
   ]
  },
  {
   "cell_type": "markdown",
   "id": "d5a524ba",
   "metadata": {},
   "source": [
    "### prompt user for positive integer, then count down from input value to 1"
   ]
  },
  {
   "cell_type": "code",
   "execution_count": 25,
   "id": "a3870ef3",
   "metadata": {},
   "outputs": [
    {
     "name": "stdout",
     "output_type": "stream",
     "text": [
      "Please enter a POSITIVE integer less than 100: 75\n"
     ]
    }
   ],
   "source": [
    "user_input = input(f'Please enter a POSITIVE integer less than 100: ')"
   ]
  },
  {
   "cell_type": "code",
   "execution_count": 26,
   "id": "5e726ed5",
   "metadata": {
    "scrolled": true
   },
   "outputs": [
    {
     "name": "stdout",
     "output_type": "stream",
     "text": [
      "75\n",
      "74\n",
      "73\n",
      "72\n",
      "71\n",
      "70\n",
      "69\n",
      "68\n",
      "67\n",
      "66\n",
      "65\n",
      "64\n",
      "63\n",
      "62\n",
      "61\n",
      "60\n",
      "59\n",
      "58\n",
      "57\n",
      "56\n",
      "55\n",
      "54\n",
      "53\n",
      "52\n",
      "51\n",
      "50\n",
      "49\n",
      "48\n",
      "47\n",
      "46\n",
      "45\n",
      "44\n",
      "43\n",
      "42\n",
      "41\n",
      "40\n",
      "39\n",
      "38\n",
      "37\n",
      "36\n",
      "35\n",
      "34\n",
      "33\n",
      "32\n",
      "31\n",
      "30\n",
      "29\n",
      "28\n",
      "27\n",
      "26\n",
      "25\n",
      "24\n",
      "23\n",
      "22\n",
      "21\n",
      "20\n",
      "19\n",
      "18\n",
      "17\n",
      "16\n",
      "15\n",
      "14\n",
      "13\n",
      "12\n",
      "11\n",
      "10\n",
      "9\n",
      "8\n",
      "7\n",
      "6\n",
      "5\n",
      "4\n",
      "3\n",
      "2\n",
      "1\n"
     ]
    }
   ],
   "source": [
    "while user_input:\n",
    "    if (str(user_input).isnumeric() == True) and (int(user_input) in range(1,101)):\n",
    "        print(user_input)\n",
    "        user_input = int(user_input) - 1\n",
    "    else:\n",
    "        user_input = input(f'Please enter a POSITIVE integer less than 100: ')"
   ]
  },
  {
   "cell_type": "code",
   "execution_count": 27,
   "id": "ecfbe3aa",
   "metadata": {},
   "outputs": [
    {
     "data": {
      "text/plain": [
       "0"
      ]
     },
     "execution_count": 27,
     "metadata": {},
     "output_type": "execute_result"
    }
   ],
   "source": [
    "user_input"
   ]
  },
  {
   "cell_type": "markdown",
   "id": "17907ebf",
   "metadata": {},
   "source": [
    "### prompt user for positive integer, then count from 0 to the input value."
   ]
  },
  {
   "cell_type": "code",
   "execution_count": 28,
   "id": "b35bb3c0",
   "metadata": {
    "scrolled": true
   },
   "outputs": [
    {
     "name": "stdout",
     "output_type": "stream",
     "text": [
      "Please enter a POSITIVE integer less than 100: 79\n"
     ]
    }
   ],
   "source": [
    "user_input = input(f'Please enter a POSITIVE integer less than 100: ')"
   ]
  },
  {
   "cell_type": "code",
   "execution_count": 29,
   "id": "6c3490ff",
   "metadata": {
    "scrolled": true
   },
   "outputs": [
    {
     "name": "stdout",
     "output_type": "stream",
     "text": [
      "79\n",
      "80\n",
      "81\n",
      "82\n",
      "83\n",
      "84\n",
      "85\n",
      "86\n",
      "87\n",
      "88\n",
      "89\n",
      "90\n",
      "91\n",
      "92\n",
      "93\n",
      "94\n",
      "95\n",
      "96\n",
      "97\n",
      "98\n",
      "99\n",
      "100\n"
     ]
    }
   ],
   "source": [
    "while user_input:\n",
    "    if (str(user_input).isnumeric() == True) and (int(user_input) in range(1,101)):\n",
    "        print(user_input)\n",
    "        user_input = int(user_input) + 1\n",
    "    else:\n",
    "        break"
   ]
  },
  {
   "cell_type": "markdown",
   "id": "50967309",
   "metadata": {},
   "source": [
    "### prompt user for odd integer between 1 and 50.  Output all odd numbers between 1 and 50, except the input."
   ]
  },
  {
   "cell_type": "code",
   "execution_count": 30,
   "id": "a5d0a47b",
   "metadata": {
    "scrolled": true
   },
   "outputs": [
    {
     "name": "stdout",
     "output_type": "stream",
     "text": [
      "Please enter a POSITIVE ODD integer between 1 and 50: 33\n"
     ]
    }
   ],
   "source": [
    "user_input = input(f'Please enter a POSITIVE ODD integer between 1 and 50: ')"
   ]
  },
  {
   "cell_type": "code",
   "execution_count": 31,
   "id": "44197e51",
   "metadata": {},
   "outputs": [
    {
     "name": "stdout",
     "output_type": "stream",
     "text": [
      "\n",
      "Yes, 33 is an ODD integer between 1 and 50!\n",
      "\n",
      "Number to skip is: 33\n",
      "Here is an ODD number: 1\n",
      "Here is an ODD number: 3\n",
      "Here is an ODD number: 5\n",
      "Here is an ODD number: 7\n",
      "Here is an ODD number: 9\n",
      "Here is an ODD number: 11\n",
      "Here is an ODD number: 13\n",
      "Here is an ODD number: 15\n",
      "Here is an ODD number: 17\n",
      "Here is an ODD number: 19\n",
      "Here is an ODD number: 21\n",
      "Here is an ODD number: 23\n",
      "Here is an ODD number: 25\n",
      "Here is an ODD number: 27\n",
      "Here is an ODD number: 29\n",
      "Here is an ODD number: 31\n",
      "Yikes! SKIPPING NUMBER: 33\n",
      "Here is an ODD number: 35\n",
      "Here is an ODD number: 37\n",
      "Here is an ODD number: 39\n",
      "Here is an ODD number: 41\n",
      "Here is an ODD number: 43\n",
      "Here is an ODD number: 45\n",
      "Here is an ODD number: 47\n",
      "Here is an ODD number: 49\n"
     ]
    }
   ],
   "source": [
    "odd_count = 1\n",
    "while user_input:\n",
    "    if (user_input.isnumeric() == True) and (int(user_input) in range(1,50)) and (int(user_input) % 2 == 1):\n",
    "        print(f'\\nYes, {user_input} is an ODD integer between 1 and 50!\\n\\nNumber to skip is: {user_input}')\n",
    "        while user_input:\n",
    "            if odd_count <= 49 and (int(user_input) == odd_count):\n",
    "                print(f'Yikes! SKIPPING NUMBER: {user_input}')\n",
    "                odd_count += 2\n",
    "            elif odd_count <= 49 and (int(user_input) != odd_count):\n",
    "                print(f'Here is an ODD number: {odd_count}')\n",
    "                odd_count += 2\n",
    "            else:\n",
    "                break\n",
    "        break\n",
    "    else:\n",
    "        user_input = input(f'Please enter a POSITIVE ODD integer between 1 and 50: ')"
   ]
  },
  {
   "cell_type": "code",
   "execution_count": 32,
   "id": "a86d590a",
   "metadata": {
    "collapsed": true
   },
   "outputs": [
    {
     "name": "stdout",
     "output_type": "stream",
     "text": [
      "1\n",
      "3\n",
      "5\n",
      "7\n",
      "9\n",
      "11\n",
      "13\n",
      "15\n",
      "17\n",
      "19\n",
      "21\n",
      "23\n",
      "25\n",
      "27\n",
      "29\n",
      "31\n",
      "33\n",
      "35\n",
      "37\n",
      "39\n",
      "41\n",
      "43\n",
      "45\n",
      "47\n",
      "49\n"
     ]
    }
   ],
   "source": [
    "for i in range(1,51,2):\n",
    "    print(i)"
   ]
  },
  {
   "cell_type": "markdown",
   "id": "ace699c5",
   "metadata": {},
   "source": [
    "### FIZZBUZZ!!!\n",
    "    1. Print numbers from 1 to 100\n",
    "    2. Numbers which are multiples of 3, replace with \"FIZZ\"\n",
    "    3. Numbers which are multiples of 5, replace with \"BUZZ\"\n",
    "    4. Numbers which are multiples of both 3 and 5, replace with \"FIZZBUZZ!!!\""
   ]
  },
  {
   "cell_type": "code",
   "execution_count": 33,
   "id": "f64800d7",
   "metadata": {
    "collapsed": true
   },
   "outputs": [
    {
     "name": "stdout",
     "output_type": "stream",
     "text": [
      "1\n",
      "2\n",
      "3\n",
      "4\n",
      "5\n",
      "6\n",
      "7\n",
      "8\n",
      "9\n",
      "10\n",
      "11\n",
      "12\n",
      "13\n",
      "14\n",
      "15\n",
      "16\n",
      "17\n",
      "18\n",
      "19\n",
      "20\n",
      "21\n",
      "22\n",
      "23\n",
      "24\n",
      "25\n",
      "26\n",
      "27\n",
      "28\n",
      "29\n",
      "30\n",
      "31\n",
      "32\n",
      "33\n",
      "34\n",
      "35\n",
      "36\n",
      "37\n",
      "38\n",
      "39\n",
      "40\n",
      "41\n",
      "42\n",
      "43\n",
      "44\n",
      "45\n",
      "46\n",
      "47\n",
      "48\n",
      "49\n",
      "50\n",
      "51\n",
      "52\n",
      "53\n",
      "54\n",
      "55\n",
      "56\n",
      "57\n",
      "58\n",
      "59\n",
      "60\n",
      "61\n",
      "62\n",
      "63\n",
      "64\n",
      "65\n",
      "66\n",
      "67\n",
      "68\n",
      "69\n",
      "70\n",
      "71\n",
      "72\n",
      "73\n",
      "74\n",
      "75\n",
      "76\n",
      "77\n",
      "78\n",
      "79\n",
      "80\n",
      "81\n",
      "82\n",
      "83\n",
      "84\n",
      "85\n",
      "86\n",
      "87\n",
      "88\n",
      "89\n",
      "90\n",
      "91\n",
      "92\n",
      "93\n",
      "94\n",
      "95\n",
      "96\n",
      "97\n",
      "98\n",
      "99\n",
      "100\n"
     ]
    }
   ],
   "source": [
    "# STEP 1: \n",
    "for i in range(1,101):\n",
    "    print(i)"
   ]
  },
  {
   "cell_type": "code",
   "execution_count": 34,
   "id": "8cd047b8",
   "metadata": {
    "collapsed": true
   },
   "outputs": [
    {
     "name": "stdout",
     "output_type": "stream",
     "text": [
      "1\n",
      "2\n",
      "FIZZ\n",
      "4\n",
      "5\n",
      "FIZZ\n",
      "7\n",
      "8\n",
      "FIZZ\n",
      "10\n",
      "11\n",
      "FIZZ\n",
      "13\n",
      "14\n",
      "FIZZ\n",
      "16\n",
      "17\n",
      "FIZZ\n",
      "19\n",
      "20\n",
      "FIZZ\n",
      "22\n",
      "23\n",
      "FIZZ\n",
      "25\n",
      "26\n",
      "FIZZ\n",
      "28\n",
      "29\n",
      "FIZZ\n",
      "31\n",
      "32\n",
      "FIZZ\n",
      "34\n",
      "35\n",
      "FIZZ\n",
      "37\n",
      "38\n",
      "FIZZ\n",
      "40\n",
      "41\n",
      "FIZZ\n",
      "43\n",
      "44\n",
      "FIZZ\n",
      "46\n",
      "47\n",
      "FIZZ\n",
      "49\n",
      "50\n",
      "FIZZ\n",
      "52\n",
      "53\n",
      "FIZZ\n",
      "55\n",
      "56\n",
      "FIZZ\n",
      "58\n",
      "59\n",
      "FIZZ\n",
      "61\n",
      "62\n",
      "FIZZ\n",
      "64\n",
      "65\n",
      "FIZZ\n",
      "67\n",
      "68\n",
      "FIZZ\n",
      "70\n",
      "71\n",
      "FIZZ\n",
      "73\n",
      "74\n",
      "FIZZ\n",
      "76\n",
      "77\n",
      "FIZZ\n",
      "79\n",
      "80\n",
      "FIZZ\n",
      "82\n",
      "83\n",
      "FIZZ\n",
      "85\n",
      "86\n",
      "FIZZ\n",
      "88\n",
      "89\n",
      "FIZZ\n",
      "91\n",
      "92\n",
      "FIZZ\n",
      "94\n",
      "95\n",
      "FIZZ\n",
      "97\n",
      "98\n",
      "FIZZ\n",
      "100\n"
     ]
    }
   ],
   "source": [
    "# STEP 2:\n",
    "for i in range(1,101):\n",
    "    if i % 3 == 0:\n",
    "        print('FIZZ')\n",
    "    else:\n",
    "        print(i)"
   ]
  },
  {
   "cell_type": "code",
   "execution_count": 35,
   "id": "e7c38406",
   "metadata": {
    "collapsed": true
   },
   "outputs": [
    {
     "name": "stdout",
     "output_type": "stream",
     "text": [
      "1\n",
      "2\n",
      "FIZZ\n",
      "4\n",
      "BUZZ\n",
      "FIZZ\n",
      "7\n",
      "8\n",
      "FIZZ\n",
      "BUZZ\n",
      "11\n",
      "FIZZ\n",
      "13\n",
      "14\n",
      "FIZZ\n",
      "16\n",
      "17\n",
      "FIZZ\n",
      "19\n",
      "BUZZ\n",
      "FIZZ\n",
      "22\n",
      "23\n",
      "FIZZ\n",
      "BUZZ\n",
      "26\n",
      "FIZZ\n",
      "28\n",
      "29\n",
      "FIZZ\n",
      "31\n",
      "32\n",
      "FIZZ\n",
      "34\n",
      "BUZZ\n",
      "FIZZ\n",
      "37\n",
      "38\n",
      "FIZZ\n",
      "BUZZ\n",
      "41\n",
      "FIZZ\n",
      "43\n",
      "44\n",
      "FIZZ\n",
      "46\n",
      "47\n",
      "FIZZ\n",
      "49\n",
      "BUZZ\n",
      "FIZZ\n",
      "52\n",
      "53\n",
      "FIZZ\n",
      "BUZZ\n",
      "56\n",
      "FIZZ\n",
      "58\n",
      "59\n",
      "FIZZ\n",
      "61\n",
      "62\n",
      "FIZZ\n",
      "64\n",
      "BUZZ\n",
      "FIZZ\n",
      "67\n",
      "68\n",
      "FIZZ\n",
      "BUZZ\n",
      "71\n",
      "FIZZ\n",
      "73\n",
      "74\n",
      "FIZZ\n",
      "76\n",
      "77\n",
      "FIZZ\n",
      "79\n",
      "BUZZ\n",
      "FIZZ\n",
      "82\n",
      "83\n",
      "FIZZ\n",
      "BUZZ\n",
      "86\n",
      "FIZZ\n",
      "88\n",
      "89\n",
      "FIZZ\n",
      "91\n",
      "92\n",
      "FIZZ\n",
      "94\n",
      "BUZZ\n",
      "FIZZ\n",
      "97\n",
      "98\n",
      "FIZZ\n",
      "BUZZ\n"
     ]
    }
   ],
   "source": [
    "# STEP 3:\n",
    "for i in range(1,101):\n",
    "    if i % 3 == 0:\n",
    "        print('FIZZ')\n",
    "    elif i % 5 == 0:\n",
    "        print('BUZZ')\n",
    "    else:\n",
    "        print(i)"
   ]
  },
  {
   "cell_type": "code",
   "execution_count": 36,
   "id": "b4a5ed1c",
   "metadata": {
    "collapsed": true
   },
   "outputs": [
    {
     "name": "stdout",
     "output_type": "stream",
     "text": [
      "1\n",
      "2\n",
      "FIZZ\n",
      "4\n",
      "BUZZ\n",
      "FIZZ\n",
      "7\n",
      "8\n",
      "FIZZ\n",
      "BUZZ\n",
      "11\n",
      "FIZZ\n",
      "13\n",
      "14\n",
      "FIZZBUZZ!!!\n",
      "16\n",
      "17\n",
      "FIZZ\n",
      "19\n",
      "BUZZ\n",
      "FIZZ\n",
      "22\n",
      "23\n",
      "FIZZ\n",
      "BUZZ\n",
      "26\n",
      "FIZZ\n",
      "28\n",
      "29\n",
      "FIZZBUZZ!!!\n",
      "31\n",
      "32\n",
      "FIZZ\n",
      "34\n",
      "BUZZ\n",
      "FIZZ\n",
      "37\n",
      "38\n",
      "FIZZ\n",
      "BUZZ\n",
      "41\n",
      "FIZZ\n",
      "43\n",
      "44\n",
      "FIZZBUZZ!!!\n",
      "46\n",
      "47\n",
      "FIZZ\n",
      "49\n",
      "BUZZ\n",
      "FIZZ\n",
      "52\n",
      "53\n",
      "FIZZ\n",
      "BUZZ\n",
      "56\n",
      "FIZZ\n",
      "58\n",
      "59\n",
      "FIZZBUZZ!!!\n",
      "61\n",
      "62\n",
      "FIZZ\n",
      "64\n",
      "BUZZ\n",
      "FIZZ\n",
      "67\n",
      "68\n",
      "FIZZ\n",
      "BUZZ\n",
      "71\n",
      "FIZZ\n",
      "73\n",
      "74\n",
      "FIZZBUZZ!!!\n",
      "76\n",
      "77\n",
      "FIZZ\n",
      "79\n",
      "BUZZ\n",
      "FIZZ\n",
      "82\n",
      "83\n",
      "FIZZ\n",
      "BUZZ\n",
      "86\n",
      "FIZZ\n",
      "88\n",
      "89\n",
      "FIZZBUZZ!!!\n",
      "91\n",
      "92\n",
      "FIZZ\n",
      "94\n",
      "BUZZ\n",
      "FIZZ\n",
      "97\n",
      "98\n",
      "FIZZ\n",
      "BUZZ\n"
     ]
    }
   ],
   "source": [
    "# STEP 4:\n",
    "for i in range(1,101):\n",
    "    if (i % 3 == 0) and (i % 5 == 0):\n",
    "        print('FIZZBUZZ!!!')\n",
    "    elif i % 3 == 0:\n",
    "        print('FIZZ')\n",
    "    elif i % 5 == 0:\n",
    "        print('BUZZ')        \n",
    "    else:\n",
    "        print(i)"
   ]
  },
  {
   "cell_type": "markdown",
   "id": "9cee63a9",
   "metadata": {},
   "source": [
    "### Table of Powers:\n",
    "    1. Prompt user to enter an integer\n",
    "    2. Display table of Squares and Cubes from 1 to the value entered\n",
    "    3. Ask user to continue\n",
    "    4. Only continue if user chooses to do so"
   ]
  },
  {
   "cell_type": "code",
   "execution_count": 47,
   "id": "3afdb6b9",
   "metadata": {},
   "outputs": [
    {
     "name": "stdout",
     "output_type": "stream",
     "text": [
      "Please enter a POSITIVE integer less than 10: 5\n"
     ]
    }
   ],
   "source": [
    "user_input = input(f'Please enter a POSITIVE integer less than 10: ')"
   ]
  },
  {
   "cell_type": "code",
   "execution_count": 74,
   "id": "b4f5333d",
   "metadata": {},
   "outputs": [
    {
     "name": "stdout",
     "output_type": "stream",
     "text": [
      "Please enter a POSITIVE integer less than 10: 444\n",
      "Please enter a POSITIVE integer less than 10: 4\n",
      "Yes, here is your table:\n",
      "\n",
      "x    x2     x3\n",
      "1    1      1\n",
      "2    4      8\n",
      "3    9      27\n",
      "4    16      64\n",
      "\n",
      "Again? (y/n) y\n",
      "Please enter a POSITIVE integer less than 10: 6\n",
      "Yes, here is your table:\n",
      "\n",
      "x    x2     x3\n",
      "1    1      1\n",
      "2    4      8\n",
      "3    9      27\n",
      "4    16      64\n",
      "5    25      125\n",
      "6    36      216\n",
      "\n",
      "Again? (y/n) t\n"
     ]
    }
   ],
   "source": [
    "again = 'y'\n",
    "user_input = input(f'Please enter a POSITIVE integer less than 10: ')\n",
    "\n",
    "while user_input and (again == 'y'):\n",
    "    if (user_input.isnumeric() == True) and (int(user_input) in range(1,10)):\n",
    "        num = int(user_input)\n",
    "        print('Yes, here is your table:\\n')\n",
    "        print('x    x2     x3')\n",
    "        for i in range(1,num+1):\n",
    "            print(f'{i}    {i**2}      {i**3}')\n",
    "        again = input(f'\\nAgain? (y/n) ')\n",
    "        if again != 'y':\n",
    "            break\n",
    "        user_input = input(f'Please enter a POSITIVE integer less than 10: ')\n",
    "    else:\n",
    "        user_input = input(f'Please enter a POSITIVE integer less than 10: ')"
   ]
  },
  {
   "cell_type": "markdown",
   "id": "3100db61",
   "metadata": {},
   "source": [
    "### Convert a number grade into a letter grade:\n",
    "    1. Prompt the user for a Grade from 0 to 100: assume user will enter valid integers\n",
    "    2. Display the corresponding Letter Grade\n",
    "    3. Ask user to continue\n",
    "    4. Only continue if user chooses to do so\n",
    "    \n",
    "#### Grade Ranges:\n",
    "    - A: 100-88\n",
    "    - B: 87-80\n",
    "    - C: 79-67\n",
    "    - D: 66-60\n",
    "    - F: 59-0"
   ]
  },
  {
   "cell_type": "code",
   "execution_count": 3,
   "id": "6275911e",
   "metadata": {},
   "outputs": [
    {
     "name": "stdout",
     "output_type": "stream",
     "text": [
      "Please enter a Number Grade from 0 to 100: 78\n",
      "--->  C\n",
      "\n",
      "Again? (y/n) y\n",
      "Please enter a Number Grade from 0 to 100: 89\n",
      "--->  A\n",
      "\n",
      "Again? (y/n) n\n"
     ]
    }
   ],
   "source": [
    "again = 'y'\n",
    "user_input = int(input(f'Please enter a Number Grade from 0 to 100: '))\n",
    "\n",
    "while (again == 'y'):\n",
    "    if user_input in range(88,101):\n",
    "        print('--->  A')\n",
    "    elif user_input in range(80,88):\n",
    "        print('--->  B')\n",
    "    elif user_input in range(67,80):\n",
    "        print('--->  C')\n",
    "    elif user_input in range(60,67):\n",
    "        print('--->  D')\n",
    "    else:\n",
    "        print('--->  F')\n",
    "    again = input(f'\\nAgain? (y/n) ')\n",
    "    if again != 'y':\n",
    "        break\n",
    "    user_input = int(input(f'Please enter a Number Grade from 0 to 100: '))"
   ]
  },
  {
   "cell_type": "markdown",
   "id": "db94cd4a",
   "metadata": {},
   "source": [
    "### Table of Powers:\n",
    "    1. Prompt user to enter an integer\n",
    "    2. Display table of Squares and Cubes from 1 to the value entered\n",
    "    3. Ask user to continue\n",
    "    4. Only continue if user chooses to do so\n",
    "  \n",
    "## With a grid-like format"
   ]
  },
  {
   "cell_type": "code",
   "execution_count": 47,
   "id": "cc196362",
   "metadata": {},
   "outputs": [
    {
     "name": "stdout",
     "output_type": "stream",
     "text": [
      "Please enter a POSITIVE integer less than 10: 5\n"
     ]
    }
   ],
   "source": [
    "user_input = input(f'Please enter a POSITIVE integer less than 10: ')"
   ]
  },
  {
   "cell_type": "code",
   "execution_count": 7,
   "id": "b0a35be7",
   "metadata": {},
   "outputs": [
    {
     "name": "stdout",
     "output_type": "stream",
     "text": [
      "Please enter a POSITIVE integer less than 10: 4\n",
      "Yes, here is your table:\n",
      "\n",
      "  x    x^2    x^3\n",
      "---  -----  -----\n",
      "  1      1      1\n",
      "  2      4      8\n",
      "  3      9     27\n",
      "  4     16     64\n",
      "\n",
      "Again? (y/n) y\n",
      "Please enter a POSITIVE integer less than 10: 7\n",
      "Yes, here is your table:\n",
      "\n",
      "  x    x^2    x^3\n",
      "---  -----  -----\n",
      "  1      1      1\n",
      "  2      4      8\n",
      "  3      9     27\n",
      "  4     16     64\n",
      "  5     25    125\n",
      "  6     36    216\n",
      "  7     49    343\n",
      "\n",
      "Again? (y/n) y\n",
      "Please enter a POSITIVE integer less than 10: 9\n",
      "Yes, here is your table:\n",
      "\n",
      "  x    x^2    x^3\n",
      "---  -----  -----\n",
      "  1      1      1\n",
      "  2      4      8\n",
      "  3      9     27\n",
      "  4     16     64\n",
      "  5     25    125\n",
      "  6     36    216\n",
      "  7     49    343\n",
      "  8     64    512\n",
      "  9     81    729\n",
      "\n",
      "Again? (y/n) y\n",
      "Please enter a POSITIVE integer less than 10: 11\n",
      "Please enter a POSITIVE integer less than 10: er\n",
      "Please enter a POSITIVE integer less than 10: 33\n",
      "Please enter a POSITIVE integer less than 10: 3\n",
      "Yes, here is your table:\n",
      "\n",
      "  x    x^2    x^3\n",
      "---  -----  -----\n",
      "  1      1      1\n",
      "  2      4      8\n",
      "  3      9     27\n",
      "\n",
      "Again? (y/n) m\n"
     ]
    }
   ],
   "source": [
    "again = 'y'\n",
    "user_input = input(f'Please enter a POSITIVE integer less than 10: ')\n",
    "\n",
    "while user_input and (again == 'y'):\n",
    "    if (user_input.isnumeric() == True) and (int(user_input) in range(1,10)):\n",
    "        num = int(user_input)\n",
    "        print('Yes, here is your table:\\n')\n",
    "        col_names = ['x','x^2','x^3']\n",
    "        data = []\n",
    "        for i in range(1,num+1):\n",
    "            row =(i,i**2,i**3)\n",
    "            data.append(row)\n",
    "        print(tabulate(data,headers=col_names))\n",
    "        again = input(f'\\nAgain? (y/n) ')\n",
    "        if again != 'y':\n",
    "            break\n",
    "        user_input = input(f'Please enter a POSITIVE integer less than 10: ')\n",
    "    else:\n",
    "        user_input = input(f'Please enter a POSITIVE integer less than 10: ')"
   ]
  },
  {
   "cell_type": "code",
   "execution_count": 4,
   "id": "4738be5d",
   "metadata": {},
   "outputs": [],
   "source": [
    "data = []\n",
    "num = 4\n",
    "for i in range(1,num+1):\n",
    "    row =(i,i**2,i**3)\n",
    "    data.append(row)"
   ]
  },
  {
   "cell_type": "code",
   "execution_count": 5,
   "id": "5238b3e0",
   "metadata": {},
   "outputs": [
    {
     "data": {
      "text/plain": [
       "[(1, 1, 1), (2, 4, 8), (3, 9, 27), (4, 16, 64)]"
      ]
     },
     "execution_count": 5,
     "metadata": {},
     "output_type": "execute_result"
    }
   ],
   "source": [
    "data"
   ]
  },
  {
   "cell_type": "markdown",
   "id": "a8099014",
   "metadata": {},
   "source": [
    "### Convert a number grade into a letter grade:\n",
    "    1. Prompt the user for a Grade from 0 to 100: assume user will enter valid integers\n",
    "    2. Display the corresponding Letter Grade\n",
    "    3. Ask user to continue\n",
    "    4. Only continue if user chooses to do so\n",
    "    \n",
    "#### ADDITIONAL Grade Ranges:\n",
    "    - A+: 100-96\n",
    "    - A: 95-90\n",
    "    - B+: 89-86\n",
    "    - B: 85-80\n",
    "    - C+:79-76\n",
    "    - C: 75-70\n",
    "    - D: 69-60\n",
    "    - F: 59-0"
   ]
  },
  {
   "cell_type": "code",
   "execution_count": 8,
   "id": "86bc15f1",
   "metadata": {},
   "outputs": [
    {
     "name": "stdout",
     "output_type": "stream",
     "text": [
      "Please enter a Number Grade from 0 to 100: 45\n",
      "--->  F\n",
      "\n",
      "Again? (y/n) y\n",
      "Please enter a Number Grade from 0 to 100: 78\n",
      "--->  C+\n",
      "\n",
      "Again? (y/n) y\n",
      "Please enter a Number Grade from 0 to 100: 99\n",
      "--->  A+\n",
      "\n",
      "Again? (y/n) y\n",
      "Please enter a Number Grade from 0 to 100: 86\n",
      "--->  B+\n",
      "\n",
      "Again? (y/n) n\n"
     ]
    }
   ],
   "source": [
    "again = 'y'\n",
    "user_input = int(input(f'Please enter a Number Grade from 0 to 100: '))\n",
    "\n",
    "while (again == 'y'):\n",
    "    if user_input in range(96,101):\n",
    "        print('--->  A+')\n",
    "    elif user_input in range(90,96):\n",
    "        print('--->  A')\n",
    "    elif user_input in range(86,90):\n",
    "        print('--->  B+')\n",
    "    elif user_input in range(80,86):\n",
    "        print('--->  B')\n",
    "    elif user_input in range(76,80):\n",
    "        print('--->  C+')\n",
    "    elif user_input in range(70,76):\n",
    "        print('--->  C')\n",
    "    elif user_input in range(60,70):\n",
    "        print('--->  D')\n",
    "    else:\n",
    "        print('--->  F')\n",
    "    again = input(f'\\nAgain? (y/n) ')\n",
    "    if again != 'y':\n",
    "        break\n",
    "    user_input = int(input(f'Please enter a Number Grade from 0 to 100: '))"
   ]
  },
  {
   "cell_type": "code",
   "execution_count": null,
   "id": "81426839",
   "metadata": {},
   "outputs": [],
   "source": []
  },
  {
   "cell_type": "code",
   "execution_count": null,
   "id": "80438d19",
   "metadata": {},
   "outputs": [],
   "source": []
  },
  {
   "cell_type": "code",
   "execution_count": null,
   "id": "c7ffc2f9",
   "metadata": {},
   "outputs": [],
   "source": []
  },
  {
   "cell_type": "code",
   "execution_count": null,
   "id": "b1208866",
   "metadata": {},
   "outputs": [],
   "source": []
  }
 ],
 "metadata": {
  "kernelspec": {
   "display_name": "Python 3 (ipykernel)",
   "language": "python",
   "name": "python3"
  },
  "language_info": {
   "codemirror_mode": {
    "name": "ipython",
    "version": 3
   },
   "file_extension": ".py",
   "mimetype": "text/x-python",
   "name": "python",
   "nbconvert_exporter": "python",
   "pygments_lexer": "ipython3",
   "version": "3.9.13"
  }
 },
 "nbformat": 4,
 "nbformat_minor": 5
}
