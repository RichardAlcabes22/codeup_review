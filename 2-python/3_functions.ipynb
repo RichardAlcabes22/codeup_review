{
 "cells": [
  {
   "cell_type": "code",
   "execution_count": 43,
   "id": "eecea83a",
   "metadata": {},
   "outputs": [],
   "source": [
    "import numpy as np\n",
    "from tabulate import tabulate\n",
    "import re"
   ]
  },
  {
   "cell_type": "code",
   "execution_count": 2,
   "id": "c2eece45",
   "metadata": {},
   "outputs": [
    {
     "data": {
      "application/javascript": [
       "IPython.notebook.set_autosave_interval(0)"
      ]
     },
     "metadata": {},
     "output_type": "display_data"
    },
    {
     "name": "stdout",
     "output_type": "stream",
     "text": [
      "Autosave disabled\n"
     ]
    }
   ],
   "source": [
    "%autosave 0"
   ]
  },
  {
   "cell_type": "markdown",
   "id": "bd255872",
   "metadata": {},
   "source": [
    "#### Define a function called \"is_two\", which will return a boolean if the argument is the integer or string literal 2."
   ]
  },
  {
   "cell_type": "code",
   "execution_count": 3,
   "id": "1d3f90e3",
   "metadata": {},
   "outputs": [],
   "source": [
    "def is_two(n):\n",
    "    if (n == 2) or (str(n) == '2'):\n",
    "        return True\n",
    "    else:\n",
    "        return False"
   ]
  },
  {
   "cell_type": "code",
   "execution_count": 4,
   "id": "ae673002",
   "metadata": {},
   "outputs": [
    {
     "data": {
      "text/plain": [
       "False"
      ]
     },
     "execution_count": 4,
     "metadata": {},
     "output_type": "execute_result"
    }
   ],
   "source": [
    "is_two('10fff')"
   ]
  },
  {
   "cell_type": "code",
   "execution_count": 5,
   "id": "0b6ffcfa",
   "metadata": {},
   "outputs": [
    {
     "data": {
      "text/plain": [
       "True"
      ]
     },
     "execution_count": 5,
     "metadata": {},
     "output_type": "execute_result"
    }
   ],
   "source": [
    "is_two('2')"
   ]
  },
  {
   "cell_type": "code",
   "execution_count": 6,
   "id": "86f55b85",
   "metadata": {},
   "outputs": [
    {
     "data": {
      "text/plain": [
       "True"
      ]
     },
     "execution_count": 6,
     "metadata": {},
     "output_type": "execute_result"
    }
   ],
   "source": [
    "is_two(2)"
   ]
  },
  {
   "cell_type": "markdown",
   "id": "76e8a677",
   "metadata": {},
   "source": [
    "#### Define a function called \"is_vowel\", which will return a boolean if the argument is a SINGLE string literal VOWEL."
   ]
  },
  {
   "cell_type": "code",
   "execution_count": 7,
   "id": "44405269",
   "metadata": {},
   "outputs": [],
   "source": [
    "def is_vowel(x):\n",
    "    if (str(x).lower() in ['a','e','i','o','u']):\n",
    "        return True\n",
    "    else:\n",
    "        return False"
   ]
  },
  {
   "cell_type": "code",
   "execution_count": 8,
   "id": "c23661e9",
   "metadata": {},
   "outputs": [
    {
     "data": {
      "text/plain": [
       "True"
      ]
     },
     "execution_count": 8,
     "metadata": {},
     "output_type": "execute_result"
    }
   ],
   "source": [
    "is_vowel('a')"
   ]
  },
  {
   "cell_type": "code",
   "execution_count": 9,
   "id": "be37b7d8",
   "metadata": {},
   "outputs": [
    {
     "data": {
      "text/plain": [
       "(False, False, False, True)"
      ]
     },
     "execution_count": 9,
     "metadata": {},
     "output_type": "execute_result"
    }
   ],
   "source": [
    "is_vowel('aa'),is_vowel('ssss'),is_vowel('r'),is_vowel('E')"
   ]
  },
  {
   "cell_type": "markdown",
   "id": "35706980",
   "metadata": {},
   "source": [
    "#### Define a function called \"is_consonant\", which will return a boolean if the argument is a SINGLE string literal CONSONANT."
   ]
  },
  {
   "cell_type": "code",
   "execution_count": 10,
   "id": "a0b7f5f7",
   "metadata": {},
   "outputs": [],
   "source": [
    "def is_consonant(x):\n",
    "    if (str(x).lower() in ['b','c','d','f','g','h','j','k','l','m','n','p','q','r','s','t','v','w','x','y','z']):\n",
    "        return True\n",
    "    else:\n",
    "        return False"
   ]
  },
  {
   "cell_type": "code",
   "execution_count": 11,
   "id": "eeef9567",
   "metadata": {},
   "outputs": [
    {
     "data": {
      "text/plain": [
       "(True, False, False, False, True)"
      ]
     },
     "execution_count": 11,
     "metadata": {},
     "output_type": "execute_result"
    }
   ],
   "source": [
    "is_consonant('q'),is_consonant('AA'),is_consonant('A'),is_consonant('ssss'),is_consonant('l')"
   ]
  },
  {
   "cell_type": "markdown",
   "id": "42709034",
   "metadata": {},
   "source": [
    "#### Define a function that accepts a text string that is a word.  Capitalize the first Letter IF word begins with Consonant."
   ]
  },
  {
   "cell_type": "code",
   "execution_count": 12,
   "id": "11f69912",
   "metadata": {},
   "outputs": [],
   "source": [
    "def cap_if_consonant(text):\n",
    "    '''\n",
    "    Input: a text string\n",
    "    Output: Capitalized version of string IF string begins with Consonant, otherwise it will just return the string\n",
    "    ex: 'sample' --> 'Sample'\n",
    "    '''\n",
    "    if is_consonant(text[0]):\n",
    "        return text.capitalize()\n",
    "    else:\n",
    "        return text\n",
    "    \n",
    "    "
   ]
  },
  {
   "cell_type": "code",
   "execution_count": 13,
   "id": "8ebbae6d",
   "metadata": {},
   "outputs": [
    {
     "data": {
      "text/plain": [
       "('Sample', 'esample', 'aasample', '2sample')"
      ]
     },
     "execution_count": 13,
     "metadata": {},
     "output_type": "execute_result"
    }
   ],
   "source": [
    "cap_if_consonant('sample'),cap_if_consonant('esample'),cap_if_consonant('aasample'),cap_if_consonant('2sample')"
   ]
  },
  {
   "cell_type": "markdown",
   "id": "1a4eda6f",
   "metadata": {},
   "source": [
    "#### Define a function named 'calculate_tip'. Inputs: tip %, total bill Output: Tip Amount"
   ]
  },
  {
   "cell_type": "code",
   "execution_count": 33,
   "id": "d3f81535",
   "metadata": {},
   "outputs": [],
   "source": [
    "def calc_tip(total_bill,tip_pct):\n",
    "    '''\n",
    "    Inputs: total_bill: bill amount\n",
    "            tip_pct: percentage of total bill for tip, expressed as a decimal between 0 and 1\n",
    "    Output: Tip amount based upon percentage\n",
    "    '''\n",
    "    print(f'$ {round(total_bill * tip_pct,2):.2f}')\n",
    "    tip_amount = round(total_bill * tip_pct,2)\n",
    "    return tip_amount"
   ]
  },
  {
   "cell_type": "code",
   "execution_count": 34,
   "id": "09176efd",
   "metadata": {},
   "outputs": [
    {
     "name": "stdout",
     "output_type": "stream",
     "text": [
      "$ 10.20\n",
      "$ 1.08\n",
      "$ 6.47\n",
      "$ 1.80\n",
      "$ 17.05\n"
     ]
    },
    {
     "data": {
      "text/plain": [
       "(10.2, 1.08, 6.47, 1.8, 17.05)"
      ]
     },
     "execution_count": 34,
     "metadata": {},
     "output_type": "execute_result"
    }
   ],
   "source": [
    "calc_tip(34,0.3),calc_tip(21.56,0.05),calc_tip(18.5,0.35),calc_tip(12,0.15),calc_tip(81.20,0.21)"
   ]
  },
  {
   "cell_type": "code",
   "execution_count": 31,
   "id": "f2cf8e15",
   "metadata": {},
   "outputs": [
    {
     "name": "stdout",
     "output_type": "stream",
     "text": [
      "$ 17.05\n"
     ]
    },
    {
     "data": {
      "text/plain": [
       "17.05"
      ]
     },
     "execution_count": 31,
     "metadata": {},
     "output_type": "execute_result"
    }
   ],
   "source": [
    "calc_tip(81.20,0.21)"
   ]
  },
  {
   "cell_type": "markdown",
   "id": "a8df5379",
   "metadata": {},
   "source": [
    "#### Define a function named 'apply_disc'. Inputs: disc %, original_price Output: discounted_price"
   ]
  },
  {
   "cell_type": "code",
   "execution_count": 35,
   "id": "4c05493e",
   "metadata": {},
   "outputs": [],
   "source": [
    "def apply_disc(org_price,disc_pct):\n",
    "    '''\n",
    "    Inputs: org_price: Original Price before discount is applied\n",
    "            disc_pct: percentage of discount, expressed as a decimal between 0 and 1\n",
    "    Output: Price after discount is applied\n",
    "    '''\n",
    "    print(f'$ {round(org_price - (org_price * disc_pct),2):.2f}')\n",
    "    discounted_price = round(org_price - (org_price * disc_pct),2)\n",
    "    return discounted_price\n",
    "    "
   ]
  },
  {
   "cell_type": "code",
   "execution_count": 36,
   "id": "3ef65c53",
   "metadata": {},
   "outputs": [
    {
     "name": "stdout",
     "output_type": "stream",
     "text": [
      "$ 22.79\n",
      "$ 21.59\n",
      "$ 16.44\n",
      "$ 6.00\n"
     ]
    },
    {
     "data": {
      "text/plain": [
       "(22.79, 21.59, 16.44, 6.0)"
      ]
     },
     "execution_count": 36,
     "metadata": {},
     "output_type": "execute_result"
    }
   ],
   "source": [
    "apply_disc(23.99,0.05),apply_disc(23.99,0.10),apply_disc(25.29,0.35),apply_disc(120,0.95)"
   ]
  },
  {
   "cell_type": "markdown",
   "id": "f45bfbce",
   "metadata": {},
   "source": [
    "#### Define a function named 'handle_commas'. Inputs: a numerical string with or without commas Output: integer"
   ]
  },
  {
   "cell_type": "code",
   "execution_count": 41,
   "id": "12acc5b6",
   "metadata": {},
   "outputs": [],
   "source": [
    "a = '100,000,000'\n",
    "b = '100000000'"
   ]
  },
  {
   "cell_type": "code",
   "execution_count": 42,
   "id": "f1a076bc",
   "metadata": {},
   "outputs": [
    {
     "data": {
      "text/plain": [
       "(False, True)"
      ]
     },
     "execution_count": 42,
     "metadata": {},
     "output_type": "execute_result"
    }
   ],
   "source": [
    "a.isnumeric(),b.isnumeric()"
   ]
  },
  {
   "cell_type": "code",
   "execution_count": 44,
   "id": "3b9a1b29",
   "metadata": {},
   "outputs": [
    {
     "data": {
      "text/plain": [
       "'100000000'"
      ]
     },
     "execution_count": 44,
     "metadata": {},
     "output_type": "execute_result"
    }
   ],
   "source": [
    "re.sub('[\\,,\\.]','',a)"
   ]
  },
  {
   "cell_type": "code",
   "execution_count": 45,
   "id": "62c2c4ae",
   "metadata": {},
   "outputs": [
    {
     "data": {
      "text/plain": [
       "'100,000,000'"
      ]
     },
     "execution_count": 45,
     "metadata": {},
     "output_type": "execute_result"
    }
   ],
   "source": [
    "a"
   ]
  },
  {
   "cell_type": "code",
   "execution_count": 46,
   "id": "7ee73308",
   "metadata": {},
   "outputs": [
    {
     "data": {
      "text/plain": [
       "True"
      ]
     },
     "execution_count": 46,
     "metadata": {},
     "output_type": "execute_result"
    }
   ],
   "source": [
    "b == re.sub('[\\,,\\.]','',a)"
   ]
  },
  {
   "cell_type": "code",
   "execution_count": 55,
   "id": "9563380c",
   "metadata": {},
   "outputs": [
    {
     "data": {
      "text/plain": [
       "['1', '0', '0', ',', '0', '0', '0', ',', '0', '0', '0']"
      ]
     },
     "execution_count": 55,
     "metadata": {},
     "output_type": "execute_result"
    }
   ],
   "source": [
    "list(a)"
   ]
  },
  {
   "cell_type": "code",
   "execution_count": 68,
   "id": "5e261c50",
   "metadata": {},
   "outputs": [],
   "source": [
    "def handle_commas(num_string):\n",
    "    if ',' in list(num_string):\n",
    "        num = int(re.sub('[\\,,\\.]','',num_string))\n",
    "        return num\n",
    "    else:\n",
    "        num = int(num_string)\n",
    "        return num"
   ]
  },
  {
   "cell_type": "code",
   "execution_count": 71,
   "id": "8fec6442",
   "metadata": {},
   "outputs": [
    {
     "data": {
      "text/plain": [
       "(1000, 1000001, 12000, 122000555)"
      ]
     },
     "execution_count": 71,
     "metadata": {},
     "output_type": "execute_result"
    }
   ],
   "source": [
    "handle_commas('1,000'),handle_commas('1,000,001'),handle_commas('12000'),handle_commas('122,000,555')"
   ]
  },
  {
   "cell_type": "markdown",
   "id": "4ee651bf",
   "metadata": {},
   "source": [
    "#### Define a function named 'get_letter_grade'. Inputs: a number Output: a letter grade"
   ]
  },
  {
   "cell_type": "code",
   "execution_count": 75,
   "id": "828a540d",
   "metadata": {},
   "outputs": [],
   "source": [
    "def get_letter_grade(number_grade):\n",
    "    if number_grade in range(88,101):\n",
    "        print('--->  A')\n",
    "        return 'A'\n",
    "    elif number_grade in range(80,88):\n",
    "        print('--->  B')\n",
    "        return 'B'\n",
    "    elif number_grade in range(67,80):\n",
    "        print('--->  C')\n",
    "        return 'C'\n",
    "    elif number_grade in range(60,67):\n",
    "        print('--->  D')\n",
    "        return 'D'\n",
    "    else:\n",
    "        print('--->  F')\n",
    "        return 'F'"
   ]
  },
  {
   "cell_type": "code",
   "execution_count": 76,
   "id": "10f6b376",
   "metadata": {},
   "outputs": [
    {
     "name": "stdout",
     "output_type": "stream",
     "text": [
      "--->  A\n",
      "--->  C\n",
      "--->  C\n",
      "--->  A\n"
     ]
    },
    {
     "data": {
      "text/plain": [
       "('A', 'C', 'C', 'A')"
      ]
     },
     "execution_count": 76,
     "metadata": {},
     "output_type": "execute_result"
    }
   ],
   "source": [
    "get_letter_grade(98),get_letter_grade(78),get_letter_grade(68),get_letter_grade(91),"
   ]
  },
  {
   "cell_type": "code",
   "execution_count": null,
   "id": "f7ae76c9",
   "metadata": {},
   "outputs": [],
   "source": []
  }
 ],
 "metadata": {
  "kernelspec": {
   "display_name": "Python 3 (ipykernel)",
   "language": "python",
   "name": "python3"
  },
  "language_info": {
   "codemirror_mode": {
    "name": "ipython",
    "version": 3
   },
   "file_extension": ".py",
   "mimetype": "text/x-python",
   "name": "python",
   "nbconvert_exporter": "python",
   "pygments_lexer": "ipython3",
   "version": "3.9.13"
  }
 },
 "nbformat": 4,
 "nbformat_minor": 5
}
