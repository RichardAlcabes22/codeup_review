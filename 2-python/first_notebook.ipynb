{
 "cells": [
  {
   "cell_type": "markdown",
   "id": "7eb9ae7e",
   "metadata": {},
   "source": [
    "---\n",
    "---\n",
    "## Nothing special in here.  Just wanting us to experience using a notebook format.  We can execute python code on a cell my cell basis/"
   ]
  },
  {
   "cell_type": "code",
   "execution_count": 1,
   "id": "643c1a1e",
   "metadata": {},
   "outputs": [
    {
     "name": "stdout",
     "output_type": "stream",
     "text": [
      "14\n"
     ]
    }
   ],
   "source": [
    "print(7+7)"
   ]
  },
  {
   "cell_type": "code",
   "execution_count": 2,
   "id": "c241b0f3",
   "metadata": {},
   "outputs": [
    {
     "data": {
      "text/plain": [
       "98"
      ]
     },
     "execution_count": 2,
     "metadata": {},
     "output_type": "execute_result"
    }
   ],
   "source": [
    "greeting = 49\n",
    "2*greeting"
   ]
  },
  {
   "cell_type": "code",
   "execution_count": 3,
   "id": "c73c2a68",
   "metadata": {},
   "outputs": [
    {
     "data": {
      "text/plain": [
       "[49, 98, 147, 196, 245, 294, 343, 392, 441, 490]"
      ]
     },
     "execution_count": 3,
     "metadata": {},
     "output_type": "execute_result"
    }
   ],
   "source": [
    "list = []\n",
    "for i in range(1,11):\n",
    "    new=greeting * i\n",
    "    list.append(new)\n",
    "list"
   ]
  }
 ],
 "metadata": {
  "kernelspec": {
   "display_name": "Python 3 (ipykernel)",
   "language": "python",
   "name": "python3"
  },
  "language_info": {
   "codemirror_mode": {
    "name": "ipython",
    "version": 3
   },
   "file_extension": ".py",
   "mimetype": "text/x-python",
   "name": "python",
   "nbconvert_exporter": "python",
   "pygments_lexer": "ipython3",
   "version": "3.9.13"
  }
 },
 "nbformat": 4,
 "nbformat_minor": 5
}
