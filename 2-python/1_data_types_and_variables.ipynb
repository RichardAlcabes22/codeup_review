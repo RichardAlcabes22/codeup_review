{
 "cells": [
  {
   "cell_type": "code",
   "execution_count": 1,
   "id": "9b42dad4",
   "metadata": {
    "scrolled": true
   },
   "outputs": [
    {
     "data": {
      "text/plain": [
       "float"
      ]
     },
     "execution_count": 1,
     "metadata": {},
     "output_type": "execute_result"
    }
   ],
   "source": [
    "type(99.9)"
   ]
  },
  {
   "cell_type": "code",
   "execution_count": 2,
   "id": "11929963",
   "metadata": {
    "scrolled": true
   },
   "outputs": [
    {
     "data": {
      "text/plain": [
       "str"
      ]
     },
     "execution_count": 2,
     "metadata": {},
     "output_type": "execute_result"
    }
   ],
   "source": [
    "type(\"False\")"
   ]
  },
  {
   "cell_type": "code",
   "execution_count": 3,
   "id": "fcf26d2a",
   "metadata": {
    "scrolled": true
   },
   "outputs": [
    {
     "data": {
      "text/plain": [
       "bool"
      ]
     },
     "execution_count": 3,
     "metadata": {},
     "output_type": "execute_result"
    }
   ],
   "source": [
    "type(False)"
   ]
  },
  {
   "cell_type": "code",
   "execution_count": 4,
   "id": "084b315d",
   "metadata": {
    "scrolled": true
   },
   "outputs": [
    {
     "data": {
      "text/plain": [
       "str"
      ]
     },
     "execution_count": 4,
     "metadata": {},
     "output_type": "execute_result"
    }
   ],
   "source": [
    "type('0')"
   ]
  },
  {
   "cell_type": "code",
   "execution_count": 5,
   "id": "5dcc0d73",
   "metadata": {
    "scrolled": true
   },
   "outputs": [
    {
     "data": {
      "text/plain": [
       "int"
      ]
     },
     "execution_count": 5,
     "metadata": {},
     "output_type": "execute_result"
    }
   ],
   "source": [
    "type(0)"
   ]
  },
  {
   "cell_type": "code",
   "execution_count": 6,
   "id": "b9df516a",
   "metadata": {
    "scrolled": true
   },
   "outputs": [
    {
     "data": {
      "text/plain": [
       "bool"
      ]
     },
     "execution_count": 6,
     "metadata": {},
     "output_type": "execute_result"
    }
   ],
   "source": [
    "type(True)"
   ]
  },
  {
   "cell_type": "code",
   "execution_count": 7,
   "id": "37f822cd",
   "metadata": {
    "scrolled": true
   },
   "outputs": [
    {
     "data": {
      "text/plain": [
       "str"
      ]
     },
     "execution_count": 7,
     "metadata": {},
     "output_type": "execute_result"
    }
   ],
   "source": [
    "type('True')"
   ]
  },
  {
   "cell_type": "code",
   "execution_count": 6,
   "id": "6c17638a",
   "metadata": {
    "scrolled": true
   },
   "outputs": [
    {
     "data": {
      "text/plain": [
       "bool"
      ]
     },
     "execution_count": 6,
     "metadata": {},
     "output_type": "execute_result"
    }
   ],
   "source": [
    "type(True)"
   ]
  },
  {
   "cell_type": "code",
   "execution_count": 8,
   "id": "585eabdf",
   "metadata": {
    "scrolled": true
   },
   "outputs": [
    {
     "data": {
      "text/plain": [
       "list"
      ]
     },
     "execution_count": 8,
     "metadata": {},
     "output_type": "execute_result"
    }
   ],
   "source": [
    "type([{}])"
   ]
  },
  {
   "cell_type": "code",
   "execution_count": 11,
   "id": "8852b41f",
   "metadata": {
    "scrolled": true
   },
   "outputs": [
    {
     "data": {
      "text/plain": [
       "dict"
      ]
     },
     "execution_count": 11,
     "metadata": {},
     "output_type": "execute_result"
    }
   ],
   "source": [
    "type({'a':[]})"
   ]
  },
  {
   "cell_type": "markdown",
   "id": "0d3b86e4",
   "metadata": {},
   "source": [
    "## Best Data Types for each:\n",
    "\n",
    "    - term/phrase in searach bar -- str\n",
    "    - user_loged_in_status -- bool\n",
    "    - discount amount to apply to cart -- float\n",
    "    - is_coupon_valid -- bool\n",
    "    - email address from registration form -- str\n",
    "    - price of product -- float"
   ]
  },
  {
   "cell_type": "code",
   "execution_count": 12,
   "id": "b16b210a",
   "metadata": {},
   "outputs": [],
   "source": [
    "# rented movies for the kids\n",
    "mermaid_rental = 3\n",
    "bear_rental = 5\n",
    "hercules_rental = 1"
   ]
  },
  {
   "cell_type": "code",
   "execution_count": 13,
   "id": "01c8c4ad",
   "metadata": {},
   "outputs": [
    {
     "data": {
      "text/plain": [
       "27"
      ]
     },
     "execution_count": 13,
     "metadata": {},
     "output_type": "execute_result"
    }
   ],
   "source": [
    "# total_cost of renting all three movies if the price is $3 per day\n",
    "total_cost = (mermaid_rental + bear_rental + hercules_rental) * 3\n",
    "total_cost"
   ]
  },
  {
   "cell_type": "code",
   "execution_count": 14,
   "id": "a78a56c9",
   "metadata": {},
   "outputs": [],
   "source": [
    "# FAANG paycheck\n",
    "google_rate = 400\n",
    "amazon_rate = 380\n",
    "facebok_rate = 350"
   ]
  },
  {
   "cell_type": "code",
   "execution_count": 15,
   "id": "15a55007",
   "metadata": {},
   "outputs": [
    {
     "data": {
      "text/plain": [
       "7420"
      ]
     },
     "execution_count": 15,
     "metadata": {},
     "output_type": "execute_result"
    }
   ],
   "source": [
    "# total_pay for 10 hrs Face,6 hrs Googs,4 hrs Amazon\n",
    "total_pay = 10 * facebok_rate + 6 * google_rate + 4 * amazon_rate\n",
    "total_pay"
   ]
  },
  {
   "cell_type": "markdown",
   "id": "3389cc32",
   "metadata": {},
   "source": [
    "### A student can be enrolled in a class if:\n",
    "    - class is NOT full \n",
    "    - AND\n",
    "    - class time does not conflict with another class on student schedule"
   ]
  },
  {
   "cell_type": "code",
   "execution_count": 16,
   "id": "425114a6",
   "metadata": {},
   "outputs": [],
   "source": [
    "is_full = True\n",
    "class_conflict = True"
   ]
  },
  {
   "cell_type": "code",
   "execution_count": 18,
   "id": "28485537",
   "metadata": {},
   "outputs": [],
   "source": [
    "can_register = False\n",
    "\n",
    "if (is_full == False) and (class_conflict == False):\n",
    "    can_register = True\n",
    "else:\n",
    "    can_register = False"
   ]
  },
  {
   "cell_type": "code",
   "execution_count": 21,
   "id": "b4d3292d",
   "metadata": {},
   "outputs": [
    {
     "data": {
      "text/plain": [
       "(True, True, False)"
      ]
     },
     "execution_count": 21,
     "metadata": {},
     "output_type": "execute_result"
    }
   ],
   "source": [
    "is_full,class_conflict,can_register"
   ]
  },
  {
   "cell_type": "code",
   "execution_count": 22,
   "id": "50f1c19b",
   "metadata": {},
   "outputs": [],
   "source": [
    "is_full = False"
   ]
  },
  {
   "cell_type": "code",
   "execution_count": 23,
   "id": "a1730aba",
   "metadata": {},
   "outputs": [
    {
     "data": {
      "text/plain": [
       "(False, True, False)"
      ]
     },
     "execution_count": 23,
     "metadata": {},
     "output_type": "execute_result"
    }
   ],
   "source": [
    "is_full,class_conflict,can_register"
   ]
  },
  {
   "cell_type": "code",
   "execution_count": 24,
   "id": "7d8369cd",
   "metadata": {},
   "outputs": [],
   "source": [
    "class_conflict = False"
   ]
  },
  {
   "cell_type": "code",
   "execution_count": 29,
   "id": "31dd075e",
   "metadata": {},
   "outputs": [],
   "source": [
    "is_full = False\n",
    "class_conflict = False\n",
    "can_register = False\n",
    "\n",
    "if (is_full == False) and (class_conflict == False):\n",
    "    can_register = True\n",
    "else:\n",
    "    can_register = False"
   ]
  },
  {
   "cell_type": "code",
   "execution_count": 27,
   "id": "455234e8",
   "metadata": {},
   "outputs": [
    {
     "data": {
      "text/plain": [
       "(False, False, True)"
      ]
     },
     "execution_count": 27,
     "metadata": {},
     "output_type": "execute_result"
    }
   ],
   "source": [
    "is_full,class_conflict,can_register"
   ]
  },
  {
   "cell_type": "markdown",
   "id": "99bb7526",
   "metadata": {},
   "source": [
    "### A product offfer can be applied to a customer if:\n",
    "    - (cust total_item_purch > 2 \n",
    "    - AND\n",
    "    - offer_exp == False)\n",
    "                        - OR \n",
    "                        - cust_tier == 'premium'"
   ]
  },
  {
   "cell_type": "code",
   "execution_count": 32,
   "id": "d9e22aa0",
   "metadata": {},
   "outputs": [],
   "source": [
    "cust_prem = False\n",
    "cust_total_items = 13\n",
    "offer_exp = False\n",
    "\n",
    "make_offer = True\n",
    "if cust_prem == True:\n",
    "    make_offer = True\n",
    "elif (cust_total_items > 2 \n",
    "      and offer_exp ==False):\n",
    "    make_offer = True\n",
    "else:\n",
    "    make_offer = False"
   ]
  },
  {
   "cell_type": "code",
   "execution_count": 33,
   "id": "ed86e7cf",
   "metadata": {},
   "outputs": [
    {
     "data": {
      "text/plain": [
       "True"
      ]
     },
     "execution_count": 33,
     "metadata": {},
     "output_type": "execute_result"
    }
   ],
   "source": [
    "make_offer"
   ]
  },
  {
   "cell_type": "code",
   "execution_count": 34,
   "id": "5e2f34ca",
   "metadata": {},
   "outputs": [],
   "source": [
    "cust_prem = False\n",
    "cust_total_items = 2\n",
    "offer_exp = False\n",
    "\n",
    "make_offer = True\n",
    "if cust_prem == True:\n",
    "    make_offer = True\n",
    "elif (cust_total_items > 2 \n",
    "      and offer_exp ==False):\n",
    "    make_offer = True\n",
    "else:\n",
    "    make_offer = False"
   ]
  },
  {
   "cell_type": "code",
   "execution_count": 35,
   "id": "16f1019c",
   "metadata": {},
   "outputs": [
    {
     "data": {
      "text/plain": [
       "False"
      ]
     },
     "execution_count": 35,
     "metadata": {},
     "output_type": "execute_result"
    }
   ],
   "source": [
    "make_offer"
   ]
  },
  {
   "cell_type": "markdown",
   "id": "df5e27fc",
   "metadata": {},
   "source": [
    "## define username and password and evaluate based on particular constraints"
   ]
  },
  {
   "cell_type": "code",
   "execution_count": 52,
   "id": "5cb6637b",
   "metadata": {},
   "outputs": [],
   "source": [
    "username = 'codeup'\n",
    "password = 'notastrongpassword'"
   ]
  },
  {
   "cell_type": "code",
   "execution_count": 53,
   "id": "c1bfdf5e",
   "metadata": {},
   "outputs": [
    {
     "data": {
      "text/plain": [
       "(True, True, True)"
      ]
     },
     "execution_count": 53,
     "metadata": {},
     "output_type": "execute_result"
    }
   ],
   "source": [
    "pw_at_least_five_char = len(password) >= 5\n",
    "u_less_than_21_char = len(username) <= 20\n",
    "pw_not_equal_to_u = username != password\n",
    "\n",
    "pw_at_least_five_char,u_less_than_21_char,pw_not_equal_to_u"
   ]
  },
  {
   "cell_type": "code",
   "execution_count": 55,
   "id": "8451787f",
   "metadata": {},
   "outputs": [
    {
     "data": {
      "text/plain": [
       "False"
      ]
     },
     "execution_count": 55,
     "metadata": {},
     "output_type": "execute_result"
    }
   ],
   "source": [
    "pw_u_startend_w_whitespace = (password.startswith(' ',0) or password.startswith(' ',-1)) and (\n",
    "                                username.startswith(' ',0) or username.startswith(' ',-1))\n",
    "\n",
    "\n",
    "pw_u_startend_w_whitespace"
   ]
  },
  {
   "cell_type": "code",
   "execution_count": null,
   "id": "56b70c3a",
   "metadata": {},
   "outputs": [],
   "source": []
  },
  {
   "cell_type": "code",
   "execution_count": null,
   "id": "023b500c",
   "metadata": {},
   "outputs": [],
   "source": []
  },
  {
   "cell_type": "code",
   "execution_count": null,
   "id": "36b60c9e",
   "metadata": {},
   "outputs": [],
   "source": []
  }
 ],
 "metadata": {
  "kernelspec": {
   "display_name": "Python 3 (ipykernel)",
   "language": "python",
   "name": "python3"
  },
  "language_info": {
   "codemirror_mode": {
    "name": "ipython",
    "version": 3
   },
   "file_extension": ".py",
   "mimetype": "text/x-python",
   "name": "python",
   "nbconvert_exporter": "python",
   "pygments_lexer": "ipython3",
   "version": "3.9.13"
  }
 },
 "nbformat": 4,
 "nbformat_minor": 5
}
